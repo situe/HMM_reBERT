{
 "cells": [
  {
   "cell_type": "code",
   "execution_count": 2,
   "metadata": {},
   "outputs": [],
   "source": [
    "from Bio import SeqIO #parse fasta files\n",
    "import os #change directories\n",
    "import time #track processing time\n",
    "import pandas as pd #create dataframes\n",
    "from datasets import load_dataset #load dataframe into huggingface dataset\n",
    "from sklearn import preprocessing #encode labels"
   ]
  },
  {
   "cell_type": "code",
   "execution_count": 7,
   "metadata": {},
   "outputs": [
    {
     "name": "stdout",
     "output_type": "stream",
     "text": [
      "Dict length: 0\n"
     ]
    }
   ],
   "source": [
    "seq_ID = []\n",
    "seq_Record = []\n",
    "label_ID = []\n",
    "DF_dict = {'sequence_ID': seq_ID, 'sequences': seq_Record, 'labels': label_ID}\n",
    "print(\"Dict length: \" + str(len(DF_dict['sequences'])))\n",
    "\n",
    "df_records = pd.DataFrame(DF_dict)\n",
    "df_records = df_records.set_index(\"sequence_ID\")\n",
    "df_records.to_csv(\"/mnt/storage/grid/home/eric/hmm2bert/data_prep/labelled_datasets/onlyFunctional_balanced_specific_labels.csv\")"
   ]
  },
  {
   "cell_type": "code",
   "execution_count": 8,
   "metadata": {
    "collapsed": true,
    "jupyter": {
     "outputs_hidden": true
    }
   },
   "outputs": [
    {
     "name": "stdout",
     "output_type": "stream",
     "text": [
      "\n",
      "============\n",
      "dehydratase_functional\n",
      "============\n",
      "\n",
      "fasta file: 1\n",
      "filename: DH_functional_1.fasta\n",
      "\n",
      "fasta file: 2\n",
      "filename: DH_functional_10.fasta\n",
      "\n",
      "fasta file: 3\n",
      "filename: DH_functional_11.fasta\n",
      "\n",
      "fasta file: 4\n",
      "filename: DH_functional_12.fasta\n",
      "\n",
      "fasta file: 5\n",
      "filename: DH_functional_13.fasta\n",
      "\n",
      "fasta file: 6\n",
      "filename: DH_functional_14.fasta\n",
      "\n",
      "fasta file: 7\n",
      "filename: DH_functional_15.fasta\n",
      "\n",
      "fasta file: 8\n",
      "filename: DH_functional_16.fasta\n",
      "\n",
      "fasta file: 9\n",
      "filename: DH_functional_17.fasta\n",
      "\n",
      "fasta file: 10\n",
      "filename: DH_functional_18.fasta\n",
      "\n",
      "fasta file: 11\n",
      "filename: DH_functional_19.fasta\n",
      "\n",
      "fasta file: 12\n",
      "filename: DH_functional_2.fasta\n",
      "\n",
      "fasta file: 13\n",
      "filename: DH_functional_20.fasta\n",
      "\n",
      "fasta file: 14\n",
      "filename: DH_functional_21.fasta\n",
      "\n",
      "fasta file: 15\n",
      "filename: DH_functional_22.fasta\n",
      "\n",
      "fasta file: 16\n",
      "filename: DH_functional_23.fasta\n",
      "\n",
      "fasta file: 17\n",
      "filename: DH_functional_24.fasta\n",
      "\n",
      "fasta file: 18\n",
      "filename: DH_functional_25.fasta\n",
      "\n",
      "fasta file: 19\n",
      "filename: DH_functional_26.fasta\n",
      "\n",
      "fasta file: 20\n",
      "filename: DH_functional_27.fasta\n",
      "\n",
      "fasta file: 21\n",
      "filename: DH_functional_28.fasta\n",
      "\n",
      "fasta file: 22\n",
      "filename: DH_functional_29.fasta\n",
      "\n",
      "fasta file: 23\n",
      "filename: DH_functional_3.fasta\n",
      "\n",
      "fasta file: 24\n",
      "filename: DH_functional_30.fasta\n",
      "\n",
      "fasta file: 25\n",
      "filename: DH_functional_31.fasta\n",
      "\n",
      "fasta file: 26\n",
      "filename: DH_functional_32.fasta\n",
      "\n",
      "fasta file: 27\n",
      "filename: DH_functional_33.fasta\n",
      "\n",
      "fasta file: 28\n",
      "filename: DH_functional_34.fasta\n",
      "\n",
      "fasta file: 29\n",
      "filename: DH_functional_35.fasta\n",
      "\n",
      "fasta file: 30\n",
      "filename: DH_functional_36.fasta\n",
      "\n",
      "fasta file: 31\n",
      "filename: DH_functional_37.fasta\n",
      "\n",
      "fasta file: 32\n",
      "filename: DH_functional_38.fasta\n",
      "\n",
      "fasta file: 33\n",
      "filename: DH_functional_39.fasta\n",
      "\n",
      "fasta file: 34\n",
      "filename: DH_functional_4.fasta\n",
      "\n",
      "fasta file: 35\n",
      "filename: DH_functional_9.fasta\n",
      "\n",
      "fasta file: 36\n",
      "filename: DH_functional_88.fasta\n",
      "\n",
      "fasta file: 37\n",
      "filename: DH_functional_87.fasta\n",
      "\n",
      "fasta file: 38\n",
      "filename: DH_functional_86.fasta\n",
      "\n",
      "fasta file: 39\n",
      "filename: DH_functional_85.fasta\n",
      "\n",
      "fasta file: 40\n",
      "filename: DH_functional_84.fasta\n",
      "\n",
      "fasta file: 41\n",
      "filename: DH_functional_83.fasta\n",
      "\n",
      "fasta file: 42\n",
      "filename: DH_functional_82.fasta\n",
      "\n",
      "fasta file: 43\n",
      "filename: DH_functional_81.fasta\n",
      "\n",
      "fasta file: 44\n",
      "filename: DH_functional_80.fasta\n",
      "\n",
      "fasta file: 45\n",
      "filename: DH_functional_8.fasta\n",
      "\n",
      "fasta file: 46\n",
      "filename: DH_functional_79.fasta\n",
      "\n",
      "fasta file: 47\n",
      "filename: DH_functional_77.fasta\n",
      "\n",
      "fasta file: 48\n",
      "filename: DH_functional_78.fasta\n",
      "\n",
      "fasta file: 49\n",
      "filename: DH_functional_76.fasta\n",
      "\n",
      "fasta file: 50\n",
      "filename: DH_functional_75.fasta\n",
      "\n",
      "fasta file: 51\n",
      "filename: DH_functional_74.fasta\n",
      "\n",
      "fasta file: 52\n",
      "filename: DH_functional_73.fasta\n",
      "\n",
      "fasta file: 53\n",
      "filename: DH_functional_72.fasta\n",
      "\n",
      "fasta file: 54\n",
      "filename: DH_functional_71.fasta\n",
      "\n",
      "fasta file: 55\n",
      "filename: DH_functional_70.fasta\n",
      "\n",
      "fasta file: 56\n",
      "filename: DH_functional_7.fasta\n",
      "\n",
      "fasta file: 57\n",
      "filename: DH_functional_69.fasta\n",
      "\n",
      "fasta file: 58\n",
      "filename: DH_functional_68.fasta\n",
      "\n",
      "fasta file: 59\n",
      "filename: DH_functional_67.fasta\n",
      "\n",
      "fasta file: 60\n",
      "filename: DH_functional_66.fasta\n",
      "\n",
      "fasta file: 61\n",
      "filename: DH_functional_65.fasta\n",
      "\n",
      "fasta file: 62\n",
      "filename: DH_functional_64.fasta\n",
      "\n",
      "fasta file: 63\n",
      "filename: DH_functional_63.fasta\n",
      "\n",
      "fasta file: 64\n",
      "filename: DH_functional_62.fasta\n",
      "\n",
      "fasta file: 65\n",
      "filename: DH_functional_61.fasta\n",
      "\n",
      "fasta file: 66\n",
      "filename: DH_functional_60.fasta\n",
      "\n",
      "fasta file: 67\n",
      "filename: DH_functional_6.fasta\n",
      "\n",
      "fasta file: 68\n",
      "filename: DH_functional_59.fasta\n",
      "\n",
      "fasta file: 69\n",
      "filename: DH_functional_58.fasta\n",
      "\n",
      "fasta file: 70\n",
      "filename: DH_functional_57.fasta\n",
      "\n",
      "fasta file: 71\n",
      "filename: DH_functional_56.fasta\n",
      "\n",
      "fasta file: 72\n",
      "filename: DH_functional_55.fasta\n",
      "\n",
      "fasta file: 73\n",
      "filename: DH_functional_54.fasta\n",
      "\n",
      "fasta file: 74\n",
      "filename: DH_functional_53.fasta\n",
      "\n",
      "fasta file: 75\n",
      "filename: DH_functional_52.fasta\n",
      "\n",
      "fasta file: 76\n",
      "filename: DH_functional_51.fasta\n",
      "\n",
      "fasta file: 77\n",
      "filename: DH_functional_50.fasta\n",
      "\n",
      "fasta file: 78\n",
      "filename: DH_functional_5.fasta\n",
      "\n",
      "fasta file: 79\n",
      "filename: DH_functional_49.fasta\n",
      "\n",
      "fasta file: 80\n",
      "filename: DH_functional_48.fasta\n",
      "\n",
      "fasta file: 81\n",
      "filename: DH_functional_47.fasta\n",
      "\n",
      "fasta file: 82\n",
      "filename: DH_functional_46.fasta\n",
      "\n",
      "fasta file: 83\n",
      "filename: DH_functional_45.fasta\n",
      "\n",
      "fasta file: 84\n",
      "filename: DH_functional_44.fasta\n",
      "\n",
      "fasta file: 85\n",
      "filename: DH_functional_43.fasta\n",
      "\n",
      "fasta file: 86\n",
      "filename: DH_functional_42.fasta\n",
      "\n",
      "fasta file: 87\n",
      "filename: DH_functional_41.fasta\n",
      "Dict length: 8700\n",
      "sequences    R F S K W L V A E T F Y V K G H L E Q N A R V ...\n",
      "labels                                         DH_functional_1\n",
      "Name: DH_functional_1-sample1, dtype: object\n",
      "\n",
      "sequences    N L I S T F V R S L Q E D A N G L E R Y S G T ...\n",
      "labels                                        DH_functional_41\n",
      "Name: DH_functional_41-sample100, dtype: object\n",
      "\n",
      "============\n",
      "dehydratase_nonfunctional\n",
      "============\n",
      "\n",
      "fasta file: 1\n",
      "filename: DH_inactive_9.fasta\n",
      "\n",
      "fasta file: 2\n",
      "filename: DH_inactive_8.fasta\n",
      "\n",
      "fasta file: 3\n",
      "filename: DH_inactive_7.fasta\n",
      "\n",
      "fasta file: 4\n",
      "filename: DH_inactive_6.fasta\n",
      "\n",
      "fasta file: 5\n",
      "filename: DH_inactive_5.fasta\n",
      "\n",
      "fasta file: 6\n",
      "filename: DH_inactive_4.fasta\n",
      "\n",
      "fasta file: 7\n",
      "filename: DH_inactive_3.fasta\n",
      "\n",
      "fasta file: 8\n",
      "filename: DH_inactive_26.fasta\n",
      "\n",
      "fasta file: 9\n",
      "filename: DH_inactive_25.fasta\n",
      "\n",
      "fasta file: 10\n",
      "filename: DH_inactive_24.fasta\n",
      "\n",
      "fasta file: 11\n",
      "filename: DH_inactive_23.fasta\n",
      "\n",
      "fasta file: 12\n",
      "filename: DH_inactive_22.fasta\n",
      "\n",
      "fasta file: 13\n",
      "filename: DH_inactive_21.fasta\n",
      "\n",
      "fasta file: 14\n",
      "filename: DH_inactive_20.fasta\n",
      "\n",
      "fasta file: 15\n",
      "filename: DH_inactive_2.fasta\n",
      "\n",
      "fasta file: 16\n",
      "filename: DH_inactive_19.fasta\n",
      "\n",
      "fasta file: 17\n",
      "filename: DH_inactive_18.fasta\n",
      "\n",
      "fasta file: 18\n",
      "filename: DH_inactive_17.fasta\n",
      "\n",
      "fasta file: 19\n",
      "filename: DH_inactive_16.fasta\n",
      "\n",
      "fasta file: 20\n",
      "filename: DH_inactive_15.fasta\n",
      "\n",
      "fasta file: 21\n",
      "filename: DH_inactive_14.fasta\n",
      "\n",
      "fasta file: 22\n",
      "filename: DH_inactive_13.fasta\n",
      "\n",
      "fasta file: 23\n",
      "filename: DH_inactive_12.fasta\n",
      "\n",
      "fasta file: 24\n",
      "filename: DH_inactive_11.fasta\n",
      "\n",
      "fasta file: 25\n",
      "filename: DH_inactive_1.fasta\n",
      "\n",
      "fasta file: 26\n",
      "filename: DH_inactive_10.fasta\n",
      "Dict length: 2600\n",
      "sequences    E S D Y F Q T E T F G I I T V L E G D V G T K ...\n",
      "labels                                           DH_inactive_9\n",
      "Name: DH_inactive_9-sample1, dtype: object\n",
      "\n",
      "sequences    P T L Q E A V V L Y D A A I I A N T T G F P P ...\n",
      "labels                                          DH_inactive_10\n",
      "Name: DH_inactive_10-sample100, dtype: object\n",
      "\n",
      "============\n",
      "enoylreductase_functional\n",
      "============\n",
      "\n",
      "fasta file: 1\n",
      "filename: ER_functional_1.fasta\n",
      "\n",
      "fasta file: 2\n",
      "filename: ER_functional_2.fasta\n",
      "\n",
      "fasta file: 3\n",
      "filename: ER_functional_3.fasta\n",
      "\n",
      "fasta file: 4\n",
      "filename: ER_functional_4.fasta\n",
      "\n",
      "fasta file: 5\n",
      "filename: ER_functional_5.fasta\n",
      "Dict length: 500\n",
      "sequences    A G K K V W T G S Q N E A G A V R D H K N V K ...\n",
      "labels                                         ER_functional_1\n",
      "Name: ER_functional_1-sample1, dtype: object\n",
      "\n",
      "sequences    S T E S V I R V T S I D A L A Q Q N V E L Q L ...\n",
      "labels                                         ER_functional_5\n",
      "Name: ER_functional_5-sample100, dtype: object\n",
      "\n",
      "============\n",
      "enoylreductase_nonfunctional\n",
      "============\n",
      "\n",
      "fasta file: 1\n",
      "filename: ER_inactive_1.fasta\n",
      "\n",
      "fasta file: 2\n",
      "filename: ER_inactive_2.fasta\n",
      "\n",
      "fasta file: 3\n",
      "filename: ER_inactive_3.fasta\n",
      "\n",
      "fasta file: 4\n",
      "filename: ER_inactive_4.fasta\n",
      "Dict length: 400\n",
      "sequences    S P T C L T Y Y G L T A P I A G D V A I A K E ...\n",
      "labels                                           ER_inactive_1\n",
      "Name: ER_inactive_1-sample1, dtype: object\n",
      "\n",
      "sequences    C S S G G R V R V M G K E E E S T A V Y G N L ...\n",
      "labels                                           ER_inactive_4\n",
      "Name: ER_inactive_4-sample100, dtype: object\n",
      "\n",
      "============\n",
      "ketoreductase_functional\n",
      "============\n",
      "\n",
      "fasta file: 1\n",
      "filename: KR_functional_9.fasta\n",
      "\n",
      "fasta file: 2\n",
      "filename: KR_functional_8.fasta\n",
      "\n",
      "fasta file: 3\n",
      "filename: KR_functional_7.fasta\n",
      "\n",
      "fasta file: 4\n",
      "filename: KR_functional_6.fasta\n",
      "\n",
      "fasta file: 5\n",
      "filename: KR_functional_5.fasta\n",
      "\n",
      "fasta file: 6\n",
      "filename: KR_functional_4.fasta\n",
      "\n",
      "fasta file: 7\n",
      "filename: KR_functional_3.fasta\n",
      "\n",
      "fasta file: 8\n",
      "filename: KR_functional_27.fasta\n",
      "\n",
      "fasta file: 9\n",
      "filename: KR_functional_26.fasta\n",
      "\n",
      "fasta file: 10\n",
      "filename: KR_functional_25.fasta\n",
      "\n",
      "fasta file: 11\n",
      "filename: KR_functional_24.fasta\n",
      "\n",
      "fasta file: 12\n",
      "filename: KR_functional_23.fasta\n",
      "\n",
      "fasta file: 13\n",
      "filename: KR_functional_22.fasta\n",
      "\n",
      "fasta file: 14\n",
      "filename: KR_functional_21.fasta\n",
      "\n",
      "fasta file: 15\n",
      "filename: KR_functional_20.fasta\n",
      "\n",
      "fasta file: 16\n",
      "filename: KR_functional_2.fasta\n",
      "\n",
      "fasta file: 17\n",
      "filename: KR_functional_19.fasta\n",
      "\n",
      "fasta file: 18\n",
      "filename: KR_functional_18.fasta\n",
      "\n",
      "fasta file: 19\n",
      "filename: KR_functional_17.fasta\n",
      "\n",
      "fasta file: 20\n",
      "filename: KR_functional_16.fasta\n",
      "\n",
      "fasta file: 21\n",
      "filename: KR_functional_15.fasta\n",
      "\n",
      "fasta file: 22\n",
      "filename: KR_functional_14.fasta\n",
      "\n",
      "fasta file: 23\n",
      "filename: KR_functional_13.fasta\n",
      "\n",
      "fasta file: 24\n",
      "filename: KR_functional_12.fasta\n",
      "\n",
      "fasta file: 25\n",
      "filename: KR_functional_11.fasta\n",
      "\n",
      "fasta file: 26\n",
      "filename: KR_functional_10.fasta\n",
      "\n",
      "fasta file: 27\n",
      "filename: KR_functional_1.fasta\n",
      "Dict length: 2700\n",
      "sequences    V Y K A N G G L G K L G T I Y P S F Q I N N A ...\n",
      "labels                                         KR_functional_9\n",
      "Name: KR_functional_9-sample1, dtype: object\n",
      "\n",
      "sequences    V S L S H G S L M Y V G C N L D W T A R V T L ...\n",
      "labels                                         KR_functional_1\n",
      "Name: KR_functional_1-sample100, dtype: object\n",
      "\n",
      "============\n",
      "ketoreductase_nonfunctional\n",
      "============\n",
      "\n",
      "fasta file: 1\n",
      "filename: KR_inactive_6.fasta\n",
      "\n",
      "fasta file: 2\n",
      "filename: KR_inactive_5.fasta\n",
      "\n",
      "fasta file: 3\n",
      "filename: KR_inactive_4.fasta\n",
      "\n",
      "fasta file: 4\n",
      "filename: KR_inactive_3.fasta\n",
      "\n",
      "fasta file: 5\n",
      "filename: KR_inactive_2.fasta\n",
      "\n",
      "fasta file: 6\n",
      "filename: KR_inactive_1.fasta\n",
      "Dict length: 600\n",
      "sequences    V L R A N S T Q A V G S A L Y A H M L T A Q S ...\n",
      "labels                                           KR_inactive_6\n",
      "Name: KR_inactive_6-sample1, dtype: object\n",
      "\n",
      "sequences    T S M I A H G E S D L S E I I N E S L S H E D ...\n",
      "labels                                           KR_inactive_1\n",
      "Name: KR_inactive_1-sample100, dtype: object\n",
      "\n",
      "============\n",
      "ketosynthase_functional\n",
      "============\n",
      "\n",
      "fasta file: 1\n",
      "filename: KS_functional_9.fasta\n",
      "\n",
      "fasta file: 2\n",
      "filename: KS_functional_8.fasta\n",
      "\n",
      "fasta file: 3\n",
      "filename: KS_functional_7.fasta\n",
      "\n",
      "fasta file: 4\n",
      "filename: KS_functional_6.fasta\n",
      "\n",
      "fasta file: 5\n",
      "filename: KS_functional_5.fasta\n",
      "\n",
      "fasta file: 6\n",
      "filename: KS_functional_4.fasta\n",
      "\n",
      "fasta file: 7\n",
      "filename: KS_functional_3.fasta\n",
      "\n",
      "fasta file: 8\n",
      "filename: KS_functional_2.fasta\n",
      "\n",
      "fasta file: 9\n",
      "filename: KS_functional_11.fasta\n",
      "\n",
      "fasta file: 10\n",
      "filename: KS_functional_10.fasta\n",
      "\n",
      "fasta file: 11\n",
      "filename: KS_functional_1.fasta\n",
      "Dict length: 1100\n",
      "sequences    A A I G A V C K T Q F A M D K D E F P W K V V ...\n",
      "labels                                         KS_functional_9\n",
      "Name: KS_functional_9-sample1, dtype: object\n",
      "\n",
      "sequences    S I I G V M K R D P A N A N I A E F F H S M S ...\n",
      "labels                                         KS_functional_1\n",
      "Name: KS_functional_1-sample100, dtype: object\n",
      "\n",
      "============\n",
      "ketosynthase_nonfunctional\n",
      "============\n",
      "\n",
      "fasta file: 1\n",
      "filename: KS_inactive_9.fasta\n",
      "\n",
      "fasta file: 2\n",
      "filename: KS_inactive_8.fasta\n",
      "\n",
      "fasta file: 3\n",
      "filename: KS_inactive_7.fasta\n",
      "\n",
      "fasta file: 4\n",
      "filename: KS_inactive_6.fasta\n",
      "\n",
      "fasta file: 5\n",
      "filename: KS_inactive_5.fasta\n",
      "\n",
      "fasta file: 6\n",
      "filename: KS_inactive_4.fasta\n",
      "\n",
      "fasta file: 7\n",
      "filename: KS_inactive_3.fasta\n",
      "\n",
      "fasta file: 8\n",
      "filename: KS_inactive_25.fasta\n",
      "\n",
      "fasta file: 9\n",
      "filename: KS_inactive_24.fasta\n",
      "\n",
      "fasta file: 10\n",
      "filename: KS_inactive_23.fasta\n",
      "\n",
      "fasta file: 11\n",
      "filename: KS_inactive_22.fasta\n",
      "\n",
      "fasta file: 12\n",
      "filename: KS_inactive_21.fasta\n",
      "\n",
      "fasta file: 13\n",
      "filename: KS_inactive_20.fasta\n",
      "\n",
      "fasta file: 14\n",
      "filename: KS_inactive_2.fasta\n",
      "\n",
      "fasta file: 15\n",
      "filename: KS_inactive_19.fasta\n",
      "\n",
      "fasta file: 16\n",
      "filename: KS_inactive_18.fasta\n",
      "\n",
      "fasta file: 17\n",
      "filename: KS_inactive_17.fasta\n",
      "\n",
      "fasta file: 18\n",
      "filename: KS_inactive_16.fasta\n",
      "\n",
      "fasta file: 19\n",
      "filename: KS_inactive_15.fasta\n",
      "\n",
      "fasta file: 20\n",
      "filename: KS_inactive_14.fasta\n",
      "\n",
      "fasta file: 21\n",
      "filename: KS_inactive_13.fasta\n",
      "\n",
      "fasta file: 22\n",
      "filename: KS_inactive_12.fasta\n",
      "\n",
      "fasta file: 23\n",
      "filename: KS_inactive_11.fasta\n",
      "\n",
      "fasta file: 24\n",
      "filename: KS_inactive_10.fasta\n",
      "\n",
      "fasta file: 25\n",
      "filename: KS_inactive_1.fasta\n",
      "Dict length: 2500\n",
      "sequences    M A L S M S G K F K D R V E Q E F W A L L A L ...\n",
      "labels                                           KS_inactive_9\n",
      "Name: KS_inactive_9-sample1, dtype: object\n",
      "\n",
      "sequences    A T E A D N P L H P H I P K V Y F R E L L H V ...\n",
      "labels                                           KS_inactive_1\n",
      "Name: KS_inactive_1-sample100, dtype: object\n",
      "labelcounter: 191\n"
     ]
    }
   ],
   "source": [
    "#num_labels = 191\n",
    "\n",
    "labelcounter = 0\n",
    "for root, dirs, files in os.walk(f\"/mnt/storage/grid/home/eric/PuffinCaller/PuffinCaller/dat/onlyFunctional\"):\n",
    "    for directory in dirs:\n",
    "        if directory[0] != \".\":\n",
    "            print(\"\")\n",
    "            print(\"============\")\n",
    "            print(directory)\n",
    "            print(\"============\")\n",
    "            for root1, dirs1, files1 in os.walk(f\"/mnt/storage/grid/home/eric/PuffinCaller/PuffinCaller/dat/onlyFunctional/{directory}\"):\n",
    "                counter = 0\n",
    "                seq_ID = []\n",
    "                seq_Record = []\n",
    "                label_ID = []\n",
    "                for x in files1:\n",
    "                    if x.endswith(\".fasta\"):\n",
    "                        counter += 1\n",
    "                        labelcounter += 1\n",
    "                        print(\"\")\n",
    "                        print(\"fasta file: \" + str(counter))\n",
    "                        label_name = x[:(len(x) - 6)]\n",
    "                        print(f\"filename: {x}\")\n",
    "                        df_records = pd.DataFrame(columns=['sequence_ID', 'sequences', 'labels'])\n",
    "                        \n",
    "                        for seq_record in SeqIO.parse(f\"/mnt/storage/grid/home/eric/PuffinCaller/PuffinCaller/dat/onlyFunctional/{directory}/{x}\", \"fasta\"):\n",
    "                            seq_ID.append(seq_record.id)\n",
    "                            str_seq = str(seq_record.seq)\n",
    "                            seq_Record.append(\" \".join(str_seq))\n",
    "                            label_ID.append(label_name)\n",
    "                            \n",
    "                DF_dict = {'sequence_ID': seq_ID, 'sequences': seq_Record, 'labels': label_ID}\n",
    "                print(\"Dict length: \" + str(len(DF_dict['sequences'])))\n",
    "\n",
    "                df_records = pd.DataFrame(DF_dict)\n",
    "                df_records = df_records.set_index(\"sequence_ID\")\n",
    "\n",
    "                print(df_records.iloc[0, :])\n",
    "                print(\"\")\n",
    "                print(df_records.iloc[-1, :])\n",
    "\n",
    "                df_records.to_csv(\"/mnt/storage/grid/home/eric/hmm2bert/data_prep/labelled_datasets/onlyFunctional_balanced_specific_labels.csv\", mode=\"a\", header=False)#\n",
    "                \n",
    "print(\"labelcounter: \" + str(labelcounter))"
   ]
  },
  {
   "cell_type": "code",
   "execution_count": null,
   "metadata": {},
   "outputs": [],
   "source": [
    "#run through each domain folder and select .fasta files to parse through and append to .csv\n",
    "\n",
    "domain = \"type_ii_polyketide\"\n",
    "\n",
    "for root, dirs, files in os.walk(f\"/mnt/storage/grid/home/eric/PuffinCaller/PuffinCaller/dat/fasta/{domain}\"):\n",
    "    counter = 0\n",
    "    seq_ID = []\n",
    "    seq_Record = []\n",
    "    label_ID = []\n",
    "    \n",
    "    for x in files:\n",
    "        if x.endswith(\".fasta\"):\n",
    "            counter += 1\n",
    "            print(\"\")\n",
    "            print(\"\")\n",
    "            print(\"\")\n",
    "            print(\"fasta file: \" + str(counter))\n",
    "            print(f\"filename: {x}\")\n",
    "            \n",
    "            df_records = pd.DataFrame(columns=['sequence_ID', 'sequences', 'labels'])\n",
    "            \n",
    "            for seq_record in SeqIO.parse(f\"/mnt/storage/grid/home/eric/PuffinCaller/PuffinCaller/dat/fasta/{domain}/{x}\", \"fasta\"):\n",
    "                seq_ID.append(seq_record.id)\n",
    "                str_seq = str(seq_record.seq)\n",
    "                seq_Record.append(\" \".join(str_seq))\n",
    "                label_ID.append(domain)\n",
    "            \n",
    "    DF_dict = {'sequence_ID': seq_ID, 'sequences': seq_Record, 'labels': label_ID}\n",
    "    print(\"Dict length: \" + str(len(DF_dict['sequences'])))\n",
    "\n",
    "    df_records = pd.DataFrame(DF_dict)\n",
    "    df_records = df_records.set_index(\"sequence_ID\")\n",
    "\n",
    "    print(df_records.iloc[0, :])\n",
    "    print(\"\")\n",
    "    print(df_records.iloc[-1, :])\n",
    "            \n",
    "    df_records.to_csv(\"/mnt/storage/grid/home/eric/hmm2bert/data_prep/\", mode=\"a\", header=False)\n",
    "            "
   ]
  },
  {
   "cell_type": "markdown",
   "metadata": {},
   "source": [
    "# encode labels and resave to csv"
   ]
  },
  {
   "cell_type": "code",
   "execution_count": 9,
   "metadata": {},
   "outputs": [],
   "source": [
    "df = pd.read_csv(\"/mnt/storage/grid/home/eric/hmm2bert/data_prep/labelled_datasets/onlyFunctional_balanced_specific_labels.csv\")"
   ]
  },
  {
   "cell_type": "code",
   "execution_count": 10,
   "metadata": {},
   "outputs": [
    {
     "data": {
      "text/plain": [
       "LabelEncoder()"
      ]
     },
     "execution_count": 10,
     "metadata": {},
     "output_type": "execute_result"
    }
   ],
   "source": [
    "le = preprocessing.LabelEncoder()\n",
    "le.fit(df['labels'])"
   ]
  },
  {
   "cell_type": "code",
   "execution_count": null,
   "metadata": {},
   "outputs": [],
   "source": [
    "print(list(le.classes_))"
   ]
  },
  {
   "cell_type": "code",
   "execution_count": null,
   "metadata": {},
   "outputs": [],
   "source": [
    "# prints a numbered list of the labels in order\n",
    "t = list(le.classes_)\n",
    "n = 0\n",
    "for i in t:\n",
    "    print(str(n) + \") \" + i)\n",
    "    n += 1"
   ]
  },
  {
   "cell_type": "code",
   "execution_count": 14,
   "metadata": {},
   "outputs": [],
   "source": [
    "new_labels = le.transform(df['labels'])"
   ]
  },
  {
   "cell_type": "code",
   "execution_count": 15,
   "metadata": {},
   "outputs": [],
   "source": [
    "new_labels_dict = {\"sequence_ID\": df['sequence_ID'], \"sequences\": df['sequences'], \"labels\": new_labels}\n",
    "\n",
    "labelled_df = pd.DataFrame(new_labels_dict)\n",
    "\n",
    "labelled_df = labelled_df.set_index(\"sequence_ID\")\n",
    "labelled_df.to_csv(\"/mnt/storage/grid/home/eric/hmm2bert/data_prep/encoded_labels_dataset/onlyFunctional_balanced_specific_encoded_labels.csv\")"
   ]
  },
  {
   "cell_type": "markdown",
   "metadata": {},
   "source": [
    "# ==========Number of rows of each label in test dataset=============="
   ]
  },
  {
   "cell_type": "code",
   "execution_count": 83,
   "metadata": {},
   "outputs": [
    {
     "name": "stdout",
     "output_type": "stream",
     "text": [
      "25.0\n"
     ]
    }
   ],
   "source": [
    "counter = df[df['labels'] == \"acyl_homoserine_lactone\"]\n",
    "print(len(counter) / 4)"
   ]
  },
  {
   "cell_type": "code",
   "execution_count": 85,
   "metadata": {},
   "outputs": [
    {
     "name": "stdout",
     "output_type": "stream",
     "text": [
      "475.0\n"
     ]
    }
   ],
   "source": [
    "counter = df[df['labels'] == \"aminocoumarin\"]\n",
    "print(len(counter) / 4)"
   ]
  },
  {
   "cell_type": "code",
   "execution_count": 86,
   "metadata": {},
   "outputs": [
    {
     "name": "stdout",
     "output_type": "stream",
     "text": [
      "1750.0\n"
     ]
    }
   ],
   "source": [
    "counter = df[df['labels'] == \"aminoglycoside\"]\n",
    "print(len(counter) / 4)"
   ]
  },
  {
   "cell_type": "code",
   "execution_count": 87,
   "metadata": {},
   "outputs": [
    {
     "name": "stdout",
     "output_type": "stream",
     "text": [
      "725.0\n"
     ]
    }
   ],
   "source": [
    "counter = df[df['labels'] == \"antimetabolite\"]\n",
    "print(len(counter) / 4)"
   ]
  },
  {
   "cell_type": "code",
   "execution_count": 88,
   "metadata": {},
   "outputs": [
    {
     "name": "stdout",
     "output_type": "stream",
     "text": [
      "25.0\n"
     ]
    }
   ],
   "source": [
    "counter = df[df['labels'] == \"aryl_polyene\"]\n",
    "print(len(counter) / 4)"
   ]
  },
  {
   "cell_type": "code",
   "execution_count": 89,
   "metadata": {},
   "outputs": [
    {
     "name": "stdout",
     "output_type": "stream",
     "text": [
      "3075.0\n"
     ]
    }
   ],
   "source": [
    "counter = df[df['labels'] == \"bacteriocin\"]\n",
    "print(len(counter) / 4)"
   ]
  },
  {
   "cell_type": "code",
   "execution_count": 90,
   "metadata": {},
   "outputs": [
    {
     "name": "stdout",
     "output_type": "stream",
     "text": [
      "1125.0\n"
     ]
    }
   ],
   "source": [
    "counter = df[df['labels'] == \"beta_lactam\"]\n",
    "print(len(counter) / 4)"
   ]
  },
  {
   "cell_type": "code",
   "execution_count": 91,
   "metadata": {},
   "outputs": [
    {
     "name": "stdout",
     "output_type": "stream",
     "text": [
      "675.0\n"
     ]
    }
   ],
   "source": [
    "counter = df[df['labels'] == \"bisindole\"]\n",
    "print(len(counter) / 4)"
   ]
  },
  {
   "cell_type": "code",
   "execution_count": 92,
   "metadata": {},
   "outputs": [
    {
     "name": "stdout",
     "output_type": "stream",
     "text": [
      "25.0\n"
     ]
    }
   ],
   "source": [
    "counter = df[df['labels'] == \"butyrolactone\"]\n",
    "print(len(counter) / 4)"
   ]
  },
  {
   "cell_type": "code",
   "execution_count": 93,
   "metadata": {},
   "outputs": [
    {
     "name": "stdout",
     "output_type": "stream",
     "text": [
      "200.0\n"
     ]
    }
   ],
   "source": [
    "counter = df[df['labels'] == \"cyclodipeptide\"]\n",
    "print(len(counter) / 4)"
   ]
  },
  {
   "cell_type": "code",
   "execution_count": 94,
   "metadata": {},
   "outputs": [
    {
     "name": "stdout",
     "output_type": "stream",
     "text": [
      "25.0\n"
     ]
    }
   ],
   "source": [
    "counter = df[df['labels'] == \"ectoine\"]\n",
    "print(len(counter) / 4)"
   ]
  },
  {
   "cell_type": "code",
   "execution_count": 95,
   "metadata": {},
   "outputs": [
    {
     "name": "stdout",
     "output_type": "stream",
     "text": [
      "25.0\n"
     ]
    }
   ],
   "source": [
    "counter = df[df['labels'] == \"furan\"]\n",
    "print(len(counter) / 4)"
   ]
  },
  {
   "cell_type": "code",
   "execution_count": 96,
   "metadata": {},
   "outputs": [
    {
     "name": "stdout",
     "output_type": "stream",
     "text": [
      "300.0\n"
     ]
    }
   ],
   "source": [
    "counter = df[df['labels'] == \"isonitrile\"]\n",
    "print(len(counter) / 4)"
   ]
  },
  {
   "cell_type": "code",
   "execution_count": 97,
   "metadata": {},
   "outputs": [
    {
     "name": "stdout",
     "output_type": "stream",
     "text": [
      "50.0\n"
     ]
    }
   ],
   "source": [
    "counter = df[df['labels'] == \"ladderane\"]\n",
    "print(len(counter) / 4)"
   ]
  },
  {
   "cell_type": "code",
   "execution_count": 98,
   "metadata": {},
   "outputs": [
    {
     "name": "stdout",
     "output_type": "stream",
     "text": [
      "875.0\n"
     ]
    }
   ],
   "source": [
    "counter = df[df['labels'] == \"lincosamide\"]\n",
    "print(len(counter) / 4)"
   ]
  },
  {
   "cell_type": "code",
   "execution_count": 99,
   "metadata": {},
   "outputs": [
    {
     "name": "stdout",
     "output_type": "stream",
     "text": [
      "50.0\n"
     ]
    }
   ],
   "source": [
    "counter = df[df['labels'] == \"melanin\"]\n",
    "print(len(counter) / 4)"
   ]
  },
  {
   "cell_type": "code",
   "execution_count": 100,
   "metadata": {},
   "outputs": [
    {
     "name": "stdout",
     "output_type": "stream",
     "text": [
      "75.0\n"
     ]
    }
   ],
   "source": [
    "counter = df[df['labels'] == \"nis_synthase\"]\n",
    "print(len(counter) / 4)"
   ]
  },
  {
   "cell_type": "code",
   "execution_count": 101,
   "metadata": {},
   "outputs": [
    {
     "name": "stdout",
     "output_type": "stream",
     "text": [
      "3700.0\n"
     ]
    }
   ],
   "source": [
    "counter = df[df['labels'] == \"nucleoside\"]\n",
    "print(len(counter) / 4)"
   ]
  },
  {
   "cell_type": "code",
   "execution_count": 102,
   "metadata": {},
   "outputs": [
    {
     "name": "stdout",
     "output_type": "stream",
     "text": [
      "125.0\n"
     ]
    }
   ],
   "source": [
    "counter = df[df['labels'] == \"phenazine\"]\n",
    "print(len(counter) / 4)"
   ]
  },
  {
   "cell_type": "code",
   "execution_count": 103,
   "metadata": {},
   "outputs": [
    {
     "name": "stdout",
     "output_type": "stream",
     "text": [
      "25.0\n"
     ]
    }
   ],
   "source": [
    "counter = df[df['labels'] == \"phosphoglycolipid\"]\n",
    "print(len(counter) / 4)"
   ]
  },
  {
   "cell_type": "code",
   "execution_count": 104,
   "metadata": {},
   "outputs": [
    {
     "name": "stdout",
     "output_type": "stream",
     "text": [
      "1750.0\n"
     ]
    }
   ],
   "source": [
    "counter = df[df['labels'] == \"phosphonate\"]\n",
    "print(len(counter) / 4)"
   ]
  },
  {
   "cell_type": "code",
   "execution_count": 105,
   "metadata": {},
   "outputs": [
    {
     "name": "stdout",
     "output_type": "stream",
     "text": [
      "650.0\n"
     ]
    }
   ],
   "source": [
    "counter = df[df['labels'] == \"prerequisite\"]\n",
    "print(len(counter) / 4)"
   ]
  },
  {
   "cell_type": "code",
   "execution_count": 106,
   "metadata": {},
   "outputs": [
    {
     "name": "stdout",
     "output_type": "stream",
     "text": [
      "3250.0\n"
     ]
    }
   ],
   "source": [
    "counter = df[df['labels'] == \"primary_metabolite\"]\n",
    "print(len(counter) / 4)"
   ]
  },
  {
   "cell_type": "code",
   "execution_count": 107,
   "metadata": {},
   "outputs": [
    {
     "name": "stdout",
     "output_type": "stream",
     "text": [
      "9625.0\n"
     ]
    }
   ],
   "source": [
    "counter = df[df['labels'] == \"regulator\"]\n",
    "print(len(counter) / 4)"
   ]
  },
  {
   "cell_type": "code",
   "execution_count": 108,
   "metadata": {},
   "outputs": [
    {
     "name": "stdout",
     "output_type": "stream",
     "text": [
      "8275.0\n"
     ]
    }
   ],
   "source": [
    "counter = df[df['labels'] == \"resistance\"]\n",
    "print(len(counter) / 4)"
   ]
  },
  {
   "cell_type": "code",
   "execution_count": 109,
   "metadata": {},
   "outputs": [
    {
     "name": "stdout",
     "output_type": "stream",
     "text": [
      "25.0\n"
     ]
    }
   ],
   "source": [
    "counter = df[df['labels'] == \"resorcinol\"]\n",
    "print(len(counter) / 4)"
   ]
  },
  {
   "cell_type": "code",
   "execution_count": 110,
   "metadata": {},
   "outputs": [
    {
     "name": "stdout",
     "output_type": "stream",
     "text": [
      "4175.0\n"
     ]
    }
   ],
   "source": [
    "counter = df[df['labels'] == \"ribosomal\"]\n",
    "print(len(counter) / 4)"
   ]
  },
  {
   "cell_type": "code",
   "execution_count": 111,
   "metadata": {},
   "outputs": [
    {
     "name": "stdout",
     "output_type": "stream",
     "text": [
      "50.0\n"
     ]
    }
   ],
   "source": [
    "counter = df[df['labels'] == \"stilbene\"]\n",
    "print(len(counter) / 4)"
   ]
  },
  {
   "cell_type": "code",
   "execution_count": 112,
   "metadata": {},
   "outputs": [
    {
     "name": "stdout",
     "output_type": "stream",
     "text": [
      "525.0\n"
     ]
    }
   ],
   "source": [
    "counter = df[df['labels'] == \"sugar\"]\n",
    "print(len(counter) / 4)"
   ]
  },
  {
   "cell_type": "code",
   "execution_count": 113,
   "metadata": {},
   "outputs": [
    {
     "name": "stdout",
     "output_type": "stream",
     "text": [
      "2675.0\n"
     ]
    }
   ],
   "source": [
    "counter = df[df['labels'] == \"tailoring\"]\n",
    "print(len(counter) / 4)"
   ]
  },
  {
   "cell_type": "code",
   "execution_count": 114,
   "metadata": {},
   "outputs": [
    {
     "name": "stdout",
     "output_type": "stream",
     "text": [
      "875.0\n"
     ]
    }
   ],
   "source": [
    "counter = df[df['labels'] == \"terpene\"]\n",
    "print(len(counter) / 4)"
   ]
  },
  {
   "cell_type": "code",
   "execution_count": 115,
   "metadata": {},
   "outputs": [
    {
     "name": "stdout",
     "output_type": "stream",
     "text": [
      "675.0\n"
     ]
    }
   ],
   "source": [
    "counter = df[df['labels'] == \"thiotemplated\"]\n",
    "print(len(counter) / 4)"
   ]
  },
  {
   "cell_type": "code",
   "execution_count": 116,
   "metadata": {},
   "outputs": [
    {
     "name": "stdout",
     "output_type": "stream",
     "text": [
      "850.0\n"
     ]
    }
   ],
   "source": [
    "counter = df[df['labels'] == \"type_ii_polyketide\"]\n",
    "print(len(counter) / 4)"
   ]
  }
 ],
 "metadata": {
  "kernelspec": {
   "display_name": "dnabert",
   "language": "python",
   "name": "dnabert"
  },
  "language_info": {
   "codemirror_mode": {
    "name": "ipython",
    "version": 3
   },
   "file_extension": ".py",
   "mimetype": "text/x-python",
   "name": "python",
   "nbconvert_exporter": "python",
   "pygments_lexer": "ipython3",
   "version": "3.6.13"
  }
 },
 "nbformat": 4,
 "nbformat_minor": 4
}
