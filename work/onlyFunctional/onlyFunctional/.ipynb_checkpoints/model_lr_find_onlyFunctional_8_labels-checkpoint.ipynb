{
 "cells": [
  {
   "cell_type": "code",
   "execution_count": 1,
   "metadata": {},
   "outputs": [],
   "source": [
    "from bioformers.datasets.ArrowDataset import ArrowDataset\n",
    "from bioformers.datasets import dataset_utils\n",
    "from bioformers.utilize.Bert import BertSeqClassification\n",
    "from torch.utils.data import DataLoader\n",
    "from transformers import DataCollatorWithPadding\n",
    "from pytorch_lightning import Trainer\n",
    "from pytorch_lightning.loggers import WandbLogger\n",
    "from pytorch_lightning.callbacks.early_stopping import EarlyStopping\n",
    "from pytorch_lightning.callbacks import ModelCheckpoint\n",
    "import os\n",
    "import numpy\n",
    "import warnings \n",
    "\n",
    "from transformers import BertModel, BertTokenizer\n",
    "import re\n",
    "\n",
    "from datasets import load_dataset\n",
    "from datasets import Dataset\n",
    "from datasets import load_from_disk\n",
    "import pandas as pd\n",
    "from sklearn.model_selection import train_test_split\n",
    "from sklearn import preprocessing\n",
    "import torch\n",
    "\n",
    "\n",
    "os.environ[\"CUDA_DEVICE_ORDER\"] = \"PCI_BUS_ID\"\n",
    "os.environ[\"MKL_THREADING_LAYER\"] = \"GNU\"\n",
    "os.environ[\"TOKENIZERS_PARALLELISM\"] = \"true\"\n",
    "\n",
    "\n",
    "num_cpu = 16\n",
    "max_length = 512\n",
    "lr = '1.81e-5'\n",
    "num_labels = 8\n",
    "max_epch = 21\n",
    "gpu = '4'\n",
    "min_lr = float(1e-05)\n",
    "max_lr = float(0.00005)\n",
    "\n",
    "encoded_csv = \"/mnt/storage/grid/home/eric/hmm2bert/data_prep/encoded_labels_datasets/onlyFunctional_balanced_8_encoded_labels.csv\"\n",
    "\n",
    "saved_strat_train = \"/mnt/storage/grid/home/eric/hmm2bert/data_prep/tensor_datasets/onlyFunctional_balanced_8_strat_train.pt\"\n",
    "saved_strat_val = \"/mnt/storage/grid/home/eric/hmm2bert/data_prep/tensor_datasets/onlyFunctional_balanced_8_strat_val.pt\""
   ]
  },
  {
   "cell_type": "code",
   "execution_count": 2,
   "metadata": {},
   "outputs": [],
   "source": [
    "# load tokenizer and wandb logger\n",
    "\n",
    "wandb_logger = WandbLogger(name=f\"classify_domain-{lr}\", project=\"hmm_reBERT\")\n",
    "\n",
    "tokenizer = BertTokenizer.from_pretrained(\"Rostlab/prot_bert\", do_lower_case=False)\n",
    "#model = BertModel.from_pretrained(\"Rostlab/prot_bert\")\n",
    "\n"
   ]
  },
  {
   "cell_type": "code",
   "execution_count": 3,
   "metadata": {
    "collapsed": true,
    "jupyter": {
     "outputs_hidden": true,
     "source_hidden": true
    }
   },
   "outputs": [
    {
     "name": "stderr",
     "output_type": "stream",
     "text": [
      "Using custom data configuration default-db2a5f090c7e6b26\n"
     ]
    },
    {
     "name": "stdout",
     "output_type": "stream",
     "text": [
      "Downloading and preparing dataset csv/default (download: Unknown size, generated: Unknown size, post-processed: Unknown size, total: Unknown size) to /home/eric/.cache/huggingface/datasets/csv/default-db2a5f090c7e6b26/0.0.0/2a88c45fed596f9421a2e7f74ab1a3cd012ef75210a5dc1950e8d60ca8d9c66c...\n"
     ]
    },
    {
     "data": {
      "application/vnd.jupyter.widget-view+json": {
       "model_id": "",
       "version_major": 2,
       "version_minor": 0
      },
      "text/plain": [
       "HBox(children=(FloatProgress(value=1.0, bar_style='info', layout=Layout(width='20px'), max=1.0), HTML(value=''…"
      ]
     },
     "metadata": {},
     "output_type": "display_data"
    },
    {
     "name": "stdout",
     "output_type": "stream",
     "text": [
      "Dataset csv downloaded and prepared to /home/eric/.cache/huggingface/datasets/csv/default-db2a5f090c7e6b26/0.0.0/2a88c45fed596f9421a2e7f74ab1a3cd012ef75210a5dc1950e8d60ca8d9c66c. Subsequent calls will reuse this data.\n",
      "['sequence_ID', 'sequences', 'labels']\n",
      "\n",
      "               sequence_ID                                          sequences  \\\n",
      "0  DH_functional_1-sample1  R F S K W L V A E T F Y V K G H L E Q N A R V ...   \n",
      "1  DH_functional_1-sample2  N Y T T Q T I A K G A Y L E D K L I V K S P I ...   \n",
      "2  DH_functional_1-sample3  N T T I R L L R K S W Y L R N I I Y E G R R A ...   \n",
      "3  DH_functional_1-sample4  S F E R R P S A A E Q Y G L Q D R L V S G E Q ...   \n",
      "4  DH_functional_1-sample5  R F V K S F L N K K S I V L R D Y R Y Q Q E A ...   \n",
      "\n",
      "   labels  \n",
      "0       0  \n",
      "1       0  \n",
      "2       0  \n",
      "3       0  \n",
      "4       0  \n",
      "                   sequence_ID  \\\n",
      "19095   KS_inactive_1-sample96   \n",
      "19096   KS_inactive_1-sample97   \n",
      "19097   KS_inactive_1-sample98   \n",
      "19098   KS_inactive_1-sample99   \n",
      "19099  KS_inactive_1-sample100   \n",
      "\n",
      "                                               sequences  labels  \n",
      "19095  G V L Q M N C H A A S T E A Y C A F W D V I T ...       7  \n",
      "19096  L I I G A A A G F V S S K T T K A Q G Y W L L ...       7  \n",
      "19097  A I V G V T D V Y S A A A E R D E V W H E V L ...       7  \n",
      "19098  A I I V P A G Q Y R D G S T T A V F W A I K T ...       7  \n",
      "19099  A T E A D N P L H P H I P K V Y F R E L L H V ...       7  \n"
     ]
    }
   ],
   "source": [
    "# load encoded label csv to huggingface dataset AND pandas dataframe\n",
    "dataset = load_dataset('csv', data_files=encoded_csv)\n",
    "df = pd.read_csv(encoded_csv)\n",
    "dataset1 = dataset['train']\n",
    "print(dataset1.column_names)\n",
    "print(\"\")\n",
    "print(df.head())\n",
    "print(df.tail())"
   ]
  },
  {
   "cell_type": "code",
   "execution_count": 4,
   "metadata": {
    "collapsed": true,
    "jupyter": {
     "outputs_hidden": true,
     "source_hidden": true
    }
   },
   "outputs": [
    {
     "name": "stdout",
     "output_type": "stream",
     "text": [
      "14325\n",
      "4775\n"
     ]
    }
   ],
   "source": [
    "# separate dataset into training and validation based on 'Labels' column in dataset\n",
    "\n",
    "num_rows_list = list(range(len(dataset1)))\n",
    "strat_train, strat_test = train_test_split(num_rows_list, stratify=dataset1['labels'], random_state=420)\n",
    "\n",
    "print(len(strat_train))\n",
    "print(len(strat_test))"
   ]
  },
  {
   "cell_type": "code",
   "execution_count": 3,
   "metadata": {
    "collapsed": true,
    "jupyter": {
     "outputs_hidden": true,
     "source_hidden": true
    }
   },
   "outputs": [
    {
     "ename": "NameError",
     "evalue": "name 'df' is not defined",
     "output_type": "error",
     "traceback": [
      "\u001b[0;31m---------------------------------------------------------------------------\u001b[0m",
      "\u001b[0;31mNameError\u001b[0m                                 Traceback (most recent call last)",
      "\u001b[0;32m<ipython-input-3-b53ad6249a20>\u001b[0m in \u001b[0;36m<module>\u001b[0;34m\u001b[0m\n\u001b[1;32m      2\u001b[0m \u001b[0;34m\u001b[0m\u001b[0m\n\u001b[1;32m      3\u001b[0m strat_train_dataset = dataset_utils.encode_dataset(\n\u001b[0;32m----> 4\u001b[0;31m     \u001b[0msubset\u001b[0m\u001b[0;34m=\u001b[0m\u001b[0mDataset\u001b[0m\u001b[0;34m.\u001b[0m\u001b[0mfrom_pandas\u001b[0m\u001b[0;34m(\u001b[0m\u001b[0mdf\u001b[0m\u001b[0;34m.\u001b[0m\u001b[0miloc\u001b[0m\u001b[0;34m[\u001b[0m\u001b[0mstrat_train\u001b[0m\u001b[0;34m]\u001b[0m\u001b[0;34m)\u001b[0m\u001b[0;34m,\u001b[0m\u001b[0;34m\u001b[0m\u001b[0;34m\u001b[0m\u001b[0m\n\u001b[0m\u001b[1;32m      5\u001b[0m     \u001b[0mtokenizer\u001b[0m\u001b[0;34m=\u001b[0m\u001b[0mtokenizer\u001b[0m\u001b[0;34m,\u001b[0m\u001b[0;34m\u001b[0m\u001b[0;34m\u001b[0m\u001b[0m\n\u001b[1;32m      6\u001b[0m     \u001b[0mkey\u001b[0m\u001b[0;34m=\u001b[0m\u001b[0;34m\"sequences\"\u001b[0m\u001b[0;34m,\u001b[0m\u001b[0;34m\u001b[0m\u001b[0;34m\u001b[0m\u001b[0m\n",
      "\u001b[0;31mNameError\u001b[0m: name 'df' is not defined"
     ]
    }
   ],
   "source": [
    "#pass strat_train and strat_test into bioformers encoding function\n",
    "\n",
    "strat_train_dataset = dataset_utils.encode_dataset(\n",
    "    subset=Dataset.from_pandas(df.iloc[strat_train]),\n",
    "    tokenizer=tokenizer,\n",
    "    key=\"sequences\",\n",
    "    include_labels=True,\n",
    "    padding=\"max_length\",\n",
    "    max_length=512,\n",
    "    truncation=True\n",
    ")\n",
    "\n",
    "strat_train_dataset1 = strat_train_dataset.remove_columns(['sequence_ID', '__index_level_0__'])\n",
    "\n",
    "torch.save(strat_train_dataset1, saved_strat_train)\n",
    "\n",
    "strat_test_dataset = dataset_utils.encode_dataset(\n",
    "    subset=Dataset.from_pandas(df.iloc[strat_test]),\n",
    "    tokenizer=tokenizer,\n",
    "    key=\"sequences\",\n",
    "    include_labels=True,\n",
    "    padding=\"max_length\",\n",
    "    max_length=512,\n",
    "    truncation=True\n",
    ")\n",
    "\n",
    "strat_test_dataset1 = strat_test_dataset.remove_columns(['sequence_ID', '__index_level_0__'])\n",
    "\n",
    "torch.save(strat_test_dataset1, saved_strat_val)"
   ]
  },
  {
   "cell_type": "markdown",
   "metadata": {},
   "source": [
    "# ==========================================================="
   ]
  },
  {
   "cell_type": "code",
   "execution_count": 3,
   "metadata": {},
   "outputs": [
    {
     "name": "stderr",
     "output_type": "stream",
     "text": [
      "Some weights of the model checkpoint at Rostlab/prot_bert were not used when initializing BertForSequenceClassification: ['cls.predictions.bias', 'cls.predictions.transform.dense.weight', 'cls.predictions.transform.dense.bias', 'cls.predictions.transform.LayerNorm.weight', 'cls.predictions.transform.LayerNorm.bias', 'cls.predictions.decoder.weight', 'cls.predictions.decoder.bias', 'cls.seq_relationship.weight', 'cls.seq_relationship.bias']\n",
      "- This IS expected if you are initializing BertForSequenceClassification from the checkpoint of a model trained on another task or with another architecture (e.g. initializing a BertForSequenceClassification model from a BertForPreTraining model).\n",
      "- This IS NOT expected if you are initializing BertForSequenceClassification from the checkpoint of a model that you expect to be exactly identical (initializing a BertForSequenceClassification model from a BertForSequenceClassification model).\n",
      "Some weights of BertForSequenceClassification were not initialized from the model checkpoint at Rostlab/prot_bert and are newly initialized: ['classifier.weight', 'classifier.bias']\n",
      "You should probably TRAIN this model on a down-stream task to be able to use it for predictions and inference.\n"
     ]
    }
   ],
   "source": [
    "#load train and test tensors and instantiate pytorch lightning wrapper for the huggingface model with the base pretrained protbert model\n",
    "\n",
    "encoded_train = torch.load(saved_strat_train)\n",
    "encoded_test = torch.load(saved_strat_val)\n",
    "\n",
    "bsc = BertSeqClassification(pretrained_dir=\"Rostlab/prot_bert\", use_adafactor=True, num_labels=num_labels)"
   ]
  },
  {
   "cell_type": "code",
   "execution_count": 4,
   "metadata": {},
   "outputs": [
    {
     "name": "stderr",
     "output_type": "stream",
     "text": [
      "GPU available: True, used: True\n",
      "TPU available: False, using: 0 TPU cores\n"
     ]
    }
   ],
   "source": [
    "# setup data collator, trainer, and dataloader for train and test dataset\n",
    "\n",
    "data_collator = DataCollatorWithPadding(tokenizer=tokenizer)\n",
    "\n",
    "trainer = Trainer(\n",
    "    max_epochs=max_epch,\n",
    "    gpus=gpu,\n",
    "    auto_lr_find=False,\n",
    "    logger=wandb_logger\n",
    ")\n",
    "\n",
    "warnings.filterwarnings(\"ignore\")\n",
    "\n",
    "train_dl = DataLoader(encoded_train, batch_size=4, num_workers=num_cpu, collate_fn=data_collator, shuffle=True)\n",
    "eval_dl = DataLoader(encoded_test, batch_size=4, num_workers=num_cpu, collate_fn=data_collator, shuffle=False)"
   ]
  },
  {
   "cell_type": "code",
   "execution_count": 5,
   "metadata": {},
   "outputs": [
    {
     "name": "stderr",
     "output_type": "stream",
     "text": [
      "LOCAL_RANK: 0 - CUDA_VISIBLE_DEVICES: [0,1,2,3,4,5,6,7]\n",
      "\n",
      "  | Name | Type                          | Params\n",
      "-------------------------------------------------------\n",
      "0 | bert | BertForSequenceClassification | 419 M \n",
      "-------------------------------------------------------\n",
      "419 M     Trainable params\n",
      "0         Non-trainable params\n",
      "419 M     Total params\n",
      "1,679.757 Total estimated model params size (MB)\n"
     ]
    },
    {
     "data": {
      "application/vnd.jupyter.widget-view+json": {
       "model_id": "b97237a120e14f8da4b0fa24aaf63335",
       "version_major": 2,
       "version_minor": 0
      },
      "text/plain": [
       "HBox(children=(FloatProgress(value=0.0, description='Finding best initial lr', style=ProgressStyle(description…"
      ]
     },
     "metadata": {},
     "output_type": "display_data"
    },
    {
     "name": "stderr",
     "output_type": "stream",
     "text": [
      "Restored states from the checkpoint file at /mnt/storage/grid/home/eric/hmm2bert/work/onlyFunctional/onlyFunctional/lr_find_temp_model.ckpt\n"
     ]
    }
   ],
   "source": [
    "lr_finder = trainer.tuner.lr_find(bsc, train_dataloader=train_dl, min_lr=min_lr, max_lr=max_lr, num_training=100, mode='exponential', early_stop_threshold=4)"
   ]
  },
  {
   "cell_type": "code",
   "execution_count": 6,
   "metadata": {},
   "outputs": [
    {
     "data": {
      "text/plain": [
       "{'lr': [1e-05,\n",
       "  1.0327124198964431e-05,\n",
       "  1.0494677568059538e-05,\n",
       "  1.0664949422083674e-05,\n",
       "  1.0837983867343681e-05,\n",
       "  1.1013825725753202e-05,\n",
       "  1.1192520546443104e-05,\n",
       "  1.1374114617560289e-05,\n",
       "  1.1558654978257916e-05,\n",
       "  1.1746189430880191e-05,\n",
       "  1.1936766553344802e-05,\n",
       "  1.2130435711726306e-05,\n",
       "  1.2327247073043635e-05,\n",
       "  1.2527251618255105e-05,\n",
       "  1.2730501155464236e-05,\n",
       "  1.2937048333339862e-05,\n",
       "  1.3146946654753936e-05,\n",
       "  1.3360250490640655e-05,\n",
       "  1.3577015094080383e-05,\n",
       "  1.379729661461215e-05,\n",
       "  1.4021152112778287e-05,\n",
       "  1.4248639574905115e-05,\n",
       "  1.447981792812339e-05,\n",
       "  1.4714747055632485e-05,\n",
       "  1.4953487812212207e-05,\n",
       "  1.5196102039986285e-05,\n",
       "  1.5442652584441637e-05,\n",
       "  1.5693203310707513e-05,\n",
       "  1.594781912009878e-05,\n",
       "  1.6206565966927624e-05,\n",
       "  1.6469510875587976e-05,\n",
       "  1.6736721957917166e-05,\n",
       "  1.7008268430839246e-05,\n",
       "  1.728422063429457e-05,\n",
       "  1.7564650049460274e-05,\n",
       "  1.784962931726638e-05,\n",
       "  1.81392322572123e-05,\n",
       "  1.8433533886488656e-05,\n",
       "  1.8732610439409334e-05,\n",
       "  1.9036539387158787e-05,\n",
       "  1.9345399457859784e-05,\n",
       "  1.96592706569667e-05,\n",
       "  1.9978234287989716e-05,\n",
       "  2.0302372973555218e-05,\n",
       "  2.063177067680795e-05,\n",
       "  2.096651272316035e-05,\n",
       "  2.130668582239481e-05,\n",
       "  2.165237809112449e-05,\n",
       "  2.2003679075618582e-05,\n",
       "  2.23606797749979e-05,\n",
       "  2.2723472664806792e-05,\n",
       "  2.309215172096753e-05,\n",
       "  2.3466812444123298e-05,\n",
       "  2.384755188437619e-05,\n",
       "  2.423446866642654e-05,\n",
       "  2.4627663015120118e-05,\n",
       "  2.502723678140987e-05,\n",
       "  2.5433293468738828e-05,\n",
       "  2.5845938259851056e-05,\n",
       "  2.626527804403767e-05,\n",
       "  2.669142144482485e-05,\n",
       "  2.712447884811106e-05,\n",
       "  2.7564562430760885e-05,\n",
       "  2.8011786189662657e-05,\n",
       "  2.846626597125765e-05,\n",
       "  2.892811950154829e-05,\n",
       "  2.9397466416593265e-05,\n",
       "  2.987442829349742e-05,\n",
       "  3.035912868190444e-05,\n",
       "  3.085169313600048e-05,\n",
       "  3.1352249247037046e-05,\n",
       "  3.186092667638154e-05,\n",
       "  3.2377857189104066e-05,\n",
       "  3.290317468810912e-05,\n",
       "  3.3437015248821105e-05,\n",
       "  3.397951715443256e-05,\n",
       "  3.453082093172431e-05,\n",
       "  3.509106938746675e-05,\n",
       "  3.566040764541176e-05,\n",
       "  3.6238983183884785e-05,\n",
       "  3.68269458739868e-05,\n",
       "  3.7424448018416155e-05,\n",
       "  3.803164439092023e-05,\n",
       "  3.864869227638719e-05,\n",
       "  3.9275751511588215e-05,\n",
       "  3.9912984526580785e-05,\n",
       "  4.0560556386783655e-05,\n",
       "  4.121863483573453e-05,\n",
       "  4.188739033854147e-05,\n",
       "  4.256699612603924e-05,\n",
       "  4.325762823966206e-05,\n",
       "  4.39594655770445e-05,\n",
       "  4.467268993836212e-05,\n",
       "  4.5397486073424e-05,\n",
       "  4.6134041729529414e-05,\n",
       "  4.688254770010078e-05,\n",
       "  4.764319787410581e-05,\n",
       "  4.841618928628149e-05,\n",
       "  4.920172216817288e-05,\n",
       "  5e-05],\n",
       " 'loss': [1.894089341163635,\n",
       "  1.8832527952964837,\n",
       "  1.9246129754319048,\n",
       "  1.9202538607671582,\n",
       "  1.9333605420388815,\n",
       "  1.9435484349098193,\n",
       "  1.9509195997318223,\n",
       "  1.9563282235309771,\n",
       "  1.939638364830162,\n",
       "  1.9310500042533214,\n",
       "  1.9212394503602128,\n",
       "  1.901943049009113,\n",
       "  1.9184604036529216,\n",
       "  1.9215366402603191,\n",
       "  1.9169985986928908,\n",
       "  1.9100735216460472,\n",
       "  1.898579966781925,\n",
       "  1.8922911564376634,\n",
       "  1.893769961152123,\n",
       "  1.8838858190592553,\n",
       "  1.8799319991794559,\n",
       "  1.8956682233002924,\n",
       "  1.8857257336734388,\n",
       "  1.882729867908951,\n",
       "  1.8868419199664228,\n",
       "  1.899382228212678,\n",
       "  1.8896836345843038,\n",
       "  1.8847784579832987,\n",
       "  1.877699409807569,\n",
       "  1.8719035817679932,\n",
       "  1.8736234554265823,\n",
       "  1.8698307527268354,\n",
       "  1.8540237208437829,\n",
       "  1.837649302408773,\n",
       "  1.8406211753007193,\n",
       "  1.8422265946859577,\n",
       "  1.8280143112988232,\n",
       "  1.8381507112950513,\n",
       "  1.8386146896101327,\n",
       "  1.8288799702323328,\n",
       "  1.8282106146011299,\n",
       "  1.8304320714688092,\n",
       "  1.81507996236533,\n",
       "  1.789770857237232,\n",
       "  1.7891600071167177,\n",
       "  1.7850022645877217,\n",
       "  1.7587616834904223,\n",
       "  1.7645289029901647,\n",
       "  1.7588234319087188,\n",
       "  1.7523781941861742,\n",
       "  1.725855162786376,\n",
       "  1.7194037245847238,\n",
       "  1.7125388504701624,\n",
       "  1.7116863359564976,\n",
       "  1.6950281287252484,\n",
       "  1.6881570534798247,\n",
       "  1.69211820786012,\n",
       "  1.6882151468007767,\n",
       "  1.6895729773274253,\n",
       "  1.679845481595097,\n",
       "  1.6727642026838498,\n",
       "  1.680002305881352,\n",
       "  1.6947062623986975,\n",
       "  1.702700546535366,\n",
       "  1.7086302945330507,\n",
       "  1.70524211948301,\n",
       "  1.6872541227190432,\n",
       "  1.6706653898204593,\n",
       "  1.656833942045217,\n",
       "  1.6488902889009707,\n",
       "  1.6533623226431615,\n",
       "  1.6466159631785824,\n",
       "  1.642514894983257,\n",
       "  1.6271991309240625,\n",
       "  1.6205541035789364,\n",
       "  1.6171531902353498,\n",
       "  1.6090989453064946,\n",
       "  1.6071552608276802,\n",
       "  1.6240236611680903,\n",
       "  1.620546620070647,\n",
       "  1.629020554333956,\n",
       "  1.6132046583428186,\n",
       "  1.6122382302221012,\n",
       "  1.5869280865611923,\n",
       "  1.567876943676365,\n",
       "  1.5742313403311798,\n",
       "  1.5970462505890608,\n",
       "  1.5793736702193568,\n",
       "  1.5991911884041443,\n",
       "  1.593435596775973,\n",
       "  1.5835244367935748,\n",
       "  1.5906004437798973,\n",
       "  1.5930022001391448,\n",
       "  1.5985935145327825,\n",
       "  1.6078876442269554,\n",
       "  1.606806173424417,\n",
       "  1.5961220854642608,\n",
       "  1.5764414780219222,\n",
       "  1.5719814475981613,\n",
       "  1.5842528867925472]}"
      ]
     },
     "execution_count": 6,
     "metadata": {},
     "output_type": "execute_result"
    }
   ],
   "source": [
    "lr_finder.results"
   ]
  },
  {
   "cell_type": "markdown",
   "metadata": {},
   "source": [
    "# +++"
   ]
  },
  {
   "cell_type": "code",
   "execution_count": null,
   "metadata": {},
   "outputs": [],
   "source": [
    "fig = lr_finder.plot(suggest=True)\n",
    "fig.show()\n",
    "\n",
    "new_lr = lr_finder.suggestion()\n",
    "print(\"suggested lr: \" + str(new_lr)) #0.0001 max, 1e-13 min, lowest 3.1084745275846952\n",
    "print(\"min lr: \" + str(min_lr))\n",
    "print(\"max lr: \" + str(max_lr))"
   ]
  },
  {
   "cell_type": "markdown",
   "metadata": {},
   "source": [
    "# =====LR Finder====="
   ]
  },
  {
   "cell_type": "code",
   "execution_count": 7,
   "metadata": {
    "jupyter": {
     "source_hidden": true
    }
   },
   "outputs": [
    {
     "name": "stdout",
     "output_type": "stream",
     "text": [
      "\n",
      "suggested lr: 3.864869227638719e-05\n",
      "min lr: 1e-05\n",
      "max lr: 5e-05\n"
     ]
    },
    {
     "data": {
      "image/png": "[encoded data removed]",
      "text/plain": [
       "<Figure size 432x288 with 1 Axes>"
      ]
     },
     "metadata": {
      "needs_background": "light"
     },
     "output_type": "display_data"
    }
   ],
   "source": [
    "fig = lr_finder.plot(suggest=True)\n",
    "fig.show()\n",
    "\n",
    "new_lr = lr_finder.suggestion()\n",
    "print(\"suggested lr: \" + str(new_lr)) #0.0001 max, 1e-13 min, lowest 3.1084745275846952\n",
    "print(\"min lr: \" + str(min_lr))\n",
    "print(\"max lr: \" + str(max_lr))"
   ]
  },
  {
   "cell_type": "code",
   "execution_count": 7,
   "metadata": {},
   "outputs": [
    {
     "name": "stdout",
     "output_type": "stream",
     "text": [
      "\n",
      "suggested lr: 6.288048778873343e-05\n",
      "min lr: 1e-05\n",
      "max lr: 0.0005\n"
     ]
    },
    {
     "data": {
      "image/png": "[encoded data removed]",
      "text/plain": [
       "<Figure size 432x288 with 1 Axes>"
      ]
     },
     "metadata": {
      "needs_background": "light"
     },
     "output_type": "display_data"
    }
   ],
   "source": [
    "#6.288e-05\n",
    "fig = lr_finder.plot(suggest=True)\n",
    "fig.show()\n",
    "\n",
    "new_lr = lr_finder.suggestion()\n",
    "print(\"suggested lr: \" + str(new_lr)) #0.0001 max, 1e-13 min, lowest 3.1084745275846952\n",
    "print(\"min lr: \" + str(min_lr))\n",
    "print(\"max lr: \" + str(max_lr))"
   ]
  },
  {
   "cell_type": "code",
   "execution_count": 7,
   "metadata": {
    "jupyter": {
     "source_hidden": true
    }
   },
   "outputs": [
    {
     "name": "stdout",
     "output_type": "stream",
     "text": [
      "\n",
      "suggested lr: 0.00014956617259811975\n",
      "min lr: 1e-06\n",
      "max lr: 0.009\n"
     ]
    },
    {
     "data": {
      "image/png": "[encoded data removed]",
      "text/plain": [
       "<Figure size 432x288 with 1 Axes>"
      ]
     },
     "metadata": {
      "needs_background": "light"
     },
     "output_type": "display_data"
    }
   ],
   "source": [
    "fig = lr_finder.plot(suggest=True)\n",
    "fig.show()\n",
    "\n",
    "new_lr = lr_finder.suggestion()\n",
    "print(\"suggested lr: \" + str(new_lr)) #0.0001 max, 1e-13 min, lowest 3.1084745275846952\n",
    "print(\"min lr: \" + str(min_lr))\n",
    "print(\"max lr: \" + str(max_lr))"
   ]
  },
  {
   "cell_type": "code",
   "execution_count": 7,
   "metadata": {
    "jupyter": {
     "source_hidden": true
    }
   },
   "outputs": [
    {
     "name": "stdout",
     "output_type": "stream",
     "text": [
      "\n",
      "suggested lr: 0.0018911689452339687\n",
      "min lr: 0.001\n",
      "max lr: 0.009\n"
     ]
    },
    {
     "data": {
      "image/png": "[encoded data removed]",
      "text/plain": [
       "<Figure size 432x288 with 1 Axes>"
      ]
     },
     "metadata": {
      "needs_background": "light"
     },
     "output_type": "display_data"
    }
   ],
   "source": [
    "fig = lr_finder.plot(suggest=True)\n",
    "fig.show()\n",
    "\n",
    "new_lr = lr_finder.suggestion()\n",
    "print(\"suggested lr: \" + str(new_lr)) #0.0001 max, 1e-13 min, lowest 3.1084745275846952\n",
    "print(\"min lr: \" + str(min_lr))\n",
    "print(\"max lr: \" + str(max_lr))"
   ]
  },
  {
   "cell_type": "code",
   "execution_count": 7,
   "metadata": {
    "jupyter": {
     "source_hidden": true
    }
   },
   "outputs": [
    {
     "name": "stdout",
     "output_type": "stream",
     "text": [
      "\n",
      "suggested lr: 6.865634844764343e-05\n",
      "min lr: 1e-05\n",
      "max lr: 0.005\n"
     ]
    },
    {
     "data": {
      "image/png": "[encoded data removed]",
      "text/plain": [
       "<Figure size 432x288 with 1 Axes>"
      ]
     },
     "metadata": {
      "needs_background": "light"
     },
     "output_type": "display_data"
    }
   ],
   "source": [
    "fig = lr_finder.plot(suggest=True)\n",
    "fig.show()\n",
    "\n",
    "new_lr = lr_finder.suggestion()\n",
    "print(\"suggested lr: \" + str(new_lr)) #0.0001 max, 1e-13 min, lowest 3.1084745275846952\n",
    "print(\"min lr: \" + str(min_lr))\n",
    "print(\"max lr: \" + str(max_lr))"
   ]
  },
  {
   "cell_type": "code",
   "execution_count": 8,
   "metadata": {
    "jupyter": {
     "source_hidden": true
    }
   },
   "outputs": [
    {
     "name": "stdout",
     "output_type": "stream",
     "text": [
      "\n",
      "suggested lr: 0.0001722525673154523\n",
      "min lr: 1e-10\n",
      "max lr: 0.005\n"
     ]
    },
    {
     "data": {
      "image/png": "[encoded data removed]",
      "text/plain": [
       "<Figure size 432x288 with 1 Axes>"
      ]
     },
     "metadata": {
      "needs_background": "light"
     },
     "output_type": "display_data"
    }
   ],
   "source": [
    "fig = lr_finder.plot(suggest=True)\n",
    "fig.show()\n",
    "\n",
    "new_lr = lr_finder.suggestion()\n",
    "print(\"suggested lr: \" + str(new_lr)) #0.0001 max, 1e-13 min, lowest 3.1084745275846952\n",
    "print(\"min lr: \" + str(min_lr))\n",
    "print(\"max lr: \" + str(max_lr))"
   ]
  },
  {
   "cell_type": "code",
   "execution_count": 10,
   "metadata": {
    "jupyter": {
     "source_hidden": true
    }
   },
   "outputs": [
    {
     "name": "stdout",
     "output_type": "stream",
     "text": [
      "\n",
      "suggested lr: 0.00031782371768205035\n",
      "min lr: 1e-08\n",
      "max lr: 0.005\n"
     ]
    },
    {
     "data": {
      "image/png": "[encoded data removed]",
      "text/plain": [
       "<Figure size 432x288 with 1 Axes>"
      ]
     },
     "metadata": {
      "needs_background": "light"
     },
     "output_type": "display_data"
    }
   ],
   "source": [
    "#0.00031782371768205035\n",
    "fig = lr_finder.plot(suggest=True)\n",
    "fig.show()\n",
    "\n",
    "new_lr = lr_finder.suggestion()\n",
    "print(\"suggested lr: \" + str(new_lr)) #0.0001 max, 1e-13 min, lowest 3.1084745275846952\n",
    "print(\"min lr: \" + str(min_lr))\n",
    "print(\"max lr: \" + str(max_lr))"
   ]
  },
  {
   "cell_type": "code",
   "execution_count": null,
   "metadata": {},
   "outputs": [],
   "source": []
  }
 ],
 "metadata": {
  "kernelspec": {
   "display_name": "dnabert",
   "language": "python",
   "name": "dnabert"
  },
  "language_info": {
   "codemirror_mode": {
    "name": "ipython",
    "version": 3
   },
   "file_extension": ".py",
   "mimetype": "text/x-python",
   "name": "python",
   "nbconvert_exporter": "python",
   "pygments_lexer": "ipython3",
   "version": "3.6.13"
  }
 },
 "nbformat": 4,
 "nbformat_minor": 4
}
