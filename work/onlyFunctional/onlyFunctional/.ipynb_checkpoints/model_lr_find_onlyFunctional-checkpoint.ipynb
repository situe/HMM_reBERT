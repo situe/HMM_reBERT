{
 "cells": [
  {
   "cell_type": "code",
   "execution_count": 1,
   "metadata": {},
   "outputs": [],
   "source": [
    "from bioformers.datasets.ArrowDataset import ArrowDataset\n",
    "from bioformers.datasets import dataset_utils\n",
    "from bioformers.utilize.Bert import BertSeqClassification\n",
    "from torch.utils.data import DataLoader\n",
    "from transformers import DataCollatorWithPadding\n",
    "from pytorch_lightning import Trainer\n",
    "from pytorch_lightning.loggers import WandbLogger\n",
    "from pytorch_lightning.callbacks.early_stopping import EarlyStopping\n",
    "from pytorch_lightning.callbacks import ModelCheckpoint\n",
    "import os\n",
    "import numpy\n",
    "import warnings \n",
    "\n",
    "from transformers import BertModel, BertTokenizer\n",
    "import re\n",
    "\n",
    "from datasets import load_dataset\n",
    "from datasets import Dataset\n",
    "from datasets import load_from_disk\n",
    "import pandas as pd\n",
    "from sklearn.model_selection import train_test_split\n",
    "from sklearn import preprocessing\n",
    "import torch\n",
    "\n",
    "\n",
    "os.environ[\"CUDA_DEVICE_ORDER\"] = \"PCI_BUS_ID\"\n",
    "os.environ[\"MKL_THREADING_LAYER\"] = \"GNU\"\n",
    "os.environ[\"TOKENIZERS_PARALLELISM\"] = \"true\"\n",
    "\n",
    "\n",
    "num_cpu = 16\n",
    "max_length = 512\n",
    "lr = '1.81e-5'\n",
    "num_labels = 191\n",
    "max_epch = 21\n",
    "gpu = '1'\n",
    "min_lr = float(5e-6)\n",
    "max_lr = float(4e-5)\n",
    "\n",
    "encoded_csv = \"/mnt/storage/grid/home/eric/hmm2bert/data_prep/encoded_labels_datasets/onlyFunctional_balanced_specific_encoded_labels.csv\"\n",
    "\n",
    "saved_strat_train = \"/mnt/storage/grid/home/eric/hmm2bert/data_prep/tensor_datasets/onlyFunctional_balanced_specific_strat_train.pt\"\n",
    "saved_strat_val = \"/mnt/storage/grid/home/eric/hmm2bert/data_prep/tensor_datasets/onlyFunctional_balanced_specific_strat_val.pt\""
   ]
  },
  {
   "cell_type": "code",
   "execution_count": 2,
   "metadata": {},
   "outputs": [],
   "source": [
    "# load tokenizer and wandb logger\n",
    "\n",
    "wandb_logger = WandbLogger(name=f\"classify_domain-{lr}\", project=\"hmm_reBERT\")\n",
    "\n",
    "tokenizer = BertTokenizer.from_pretrained(\"Rostlab/prot_bert\", do_lower_case=False)\n",
    "#model = BertModel.from_pretrained(\"Rostlab/prot_bert\")\n",
    "\n"
   ]
  },
  {
   "cell_type": "code",
   "execution_count": 6,
   "metadata": {
    "collapsed": true,
    "jupyter": {
     "outputs_hidden": true,
     "source_hidden": true
    }
   },
   "outputs": [
    {
     "name": "stderr",
     "output_type": "stream",
     "text": [
      "Using custom data configuration default-800fb23080fa5f22\n"
     ]
    },
    {
     "name": "stdout",
     "output_type": "stream",
     "text": [
      "Downloading and preparing dataset csv/default (download: Unknown size, generated: Unknown size, post-processed: Unknown size, total: Unknown size) to /home/eric/.cache/huggingface/datasets/csv/default-800fb23080fa5f22/0.0.0/2a88c45fed596f9421a2e7f74ab1a3cd012ef75210a5dc1950e8d60ca8d9c66c...\n"
     ]
    },
    {
     "data": {
      "application/vnd.jupyter.widget-view+json": {
       "model_id": "",
       "version_major": 2,
       "version_minor": 0
      },
      "text/plain": [
       "HBox(children=(FloatProgress(value=1.0, bar_style='info', layout=Layout(width='20px'), max=1.0), HTML(value=''…"
      ]
     },
     "metadata": {},
     "output_type": "display_data"
    },
    {
     "name": "stdout",
     "output_type": "stream",
     "text": [
      "Dataset csv downloaded and prepared to /home/eric/.cache/huggingface/datasets/csv/default-800fb23080fa5f22/0.0.0/2a88c45fed596f9421a2e7f74ab1a3cd012ef75210a5dc1950e8d60ca8d9c66c. Subsequent calls will reuse this data.\n",
      "['sequence_ID', 'sequences', 'labels']\n",
      "\n",
      "               sequence_ID                                          sequences  \\\n",
      "0  DH_functional_1-sample1  R F S K W L V A E T F Y V K G H L E Q N A R V ...   \n",
      "1  DH_functional_1-sample2  N Y T T Q T I A K G A Y L E D K L I V K S P I ...   \n",
      "2  DH_functional_1-sample3  N T T I R L L R K S W Y L R N I I Y E G R R A ...   \n",
      "3  DH_functional_1-sample4  S F E R R P S A A E Q Y G L Q D R L V S G E Q ...   \n",
      "4  DH_functional_1-sample5  R F V K S F L N K K S I V L R D Y R Y Q Q E A ...   \n",
      "\n",
      "   labels  \n",
      "0       0  \n",
      "1       0  \n",
      "2       0  \n",
      "3       0  \n",
      "4       0  \n",
      "                   sequence_ID  \\\n",
      "19095   KS_inactive_1-sample96   \n",
      "19096   KS_inactive_1-sample97   \n",
      "19097   KS_inactive_1-sample98   \n",
      "19098   KS_inactive_1-sample99   \n",
      "19099  KS_inactive_1-sample100   \n",
      "\n",
      "                                               sequences  labels  \n",
      "19095  G V L Q M N C H A A S T E A Y C A F W D V I T ...     166  \n",
      "19096  L I I G A A A G F V S S K T T K A Q G Y W L L ...     166  \n",
      "19097  A I V G V T D V Y S A A A E R D E V W H E V L ...     166  \n",
      "19098  A I I V P A G Q Y R D G S T T A V F W A I K T ...     166  \n",
      "19099  A T E A D N P L H P H I P K V Y F R E L L H V ...     166  \n"
     ]
    }
   ],
   "source": [
    "# load encoded label csv to huggingface dataset AND pandas dataframe\n",
    "dataset = load_dataset('csv', data_files=encoded_csv)\n",
    "df = pd.read_csv(encoded_csv)\n",
    "dataset1 = dataset['train']\n",
    "print(dataset1.column_names)\n",
    "print(\"\")\n",
    "print(df.head())\n",
    "print(df.tail())"
   ]
  },
  {
   "cell_type": "code",
   "execution_count": 7,
   "metadata": {
    "collapsed": true,
    "jupyter": {
     "outputs_hidden": true,
     "source_hidden": true
    }
   },
   "outputs": [
    {
     "name": "stdout",
     "output_type": "stream",
     "text": [
      "14325\n",
      "4775\n"
     ]
    }
   ],
   "source": [
    "# separate dataset into training and validation based on 'Labels' column in dataset\n",
    "\n",
    "num_rows_list = list(range(len(dataset1)))\n",
    "strat_train, strat_test = train_test_split(num_rows_list, stratify=dataset1['labels'], random_state=420)\n",
    "\n",
    "print(len(strat_train))\n",
    "print(len(strat_test))"
   ]
  },
  {
   "cell_type": "code",
   "execution_count": 8,
   "metadata": {
    "collapsed": true,
    "jupyter": {
     "outputs_hidden": true,
     "source_hidden": true
    }
   },
   "outputs": [
    {
     "data": {
      "application/vnd.jupyter.widget-view+json": {
       "model_id": "a90870b51f4e41818394c2e2c02f14d7",
       "version_major": 2,
       "version_minor": 0
      },
      "text/plain": [
       "HBox(children=(FloatProgress(value=0.0, max=15.0), HTML(value='')))"
      ]
     },
     "metadata": {},
     "output_type": "display_data"
    },
    {
     "name": "stderr",
     "output_type": "stream",
     "text": [
      "remove_columns_ is deprecated and will be removed in the next major version of datasets. Use the dataset.remove_columns method instead.\n"
     ]
    },
    {
     "name": "stdout",
     "output_type": "stream",
     "text": [
      "\n"
     ]
    },
    {
     "data": {
      "application/vnd.jupyter.widget-view+json": {
       "model_id": "db94a7ec05d84f869ccf35ca17c7cca5",
       "version_major": 2,
       "version_minor": 0
      },
      "text/plain": [
       "HBox(children=(FloatProgress(value=0.0, max=5.0), HTML(value='')))"
      ]
     },
     "metadata": {},
     "output_type": "display_data"
    },
    {
     "name": "stdout",
     "output_type": "stream",
     "text": [
      "\n"
     ]
    }
   ],
   "source": [
    "#pass strat_train and strat_test into bioformers encoding function\n",
    "\n",
    "strat_train_dataset = dataset_utils.encode_dataset(\n",
    "    subset=Dataset.from_pandas(df.iloc[strat_train]),\n",
    "    tokenizer=tokenizer,\n",
    "    key=\"sequences\",\n",
    "    include_labels=True,\n",
    "    padding=\"max_length\",\n",
    "    max_length=512,\n",
    "    truncation=True\n",
    ")\n",
    "\n",
    "strat_train_dataset1 = strat_train_dataset.remove_columns(['sequence_ID', '__index_level_0__'])\n",
    "\n",
    "torch.save(strat_train_dataset1, saved_strat_train)\n",
    "\n",
    "strat_test_dataset = dataset_utils.encode_dataset(\n",
    "    subset=Dataset.from_pandas(df.iloc[strat_test]),\n",
    "    tokenizer=tokenizer,\n",
    "    key=\"sequences\",\n",
    "    include_labels=True,\n",
    "    padding=\"max_length\",\n",
    "    max_length=512,\n",
    "    truncation=True\n",
    ")\n",
    "\n",
    "strat_test_dataset1 = strat_test_dataset.remove_columns(['sequence_ID', '__index_level_0__'])\n",
    "\n",
    "torch.save(strat_test_dataset1, saved_strat_val)"
   ]
  },
  {
   "cell_type": "markdown",
   "metadata": {},
   "source": [
    "# ==========================================================="
   ]
  },
  {
   "cell_type": "code",
   "execution_count": 3,
   "metadata": {},
   "outputs": [
    {
     "name": "stderr",
     "output_type": "stream",
     "text": [
      "Some weights of the model checkpoint at Rostlab/prot_bert were not used when initializing BertForSequenceClassification: ['cls.predictions.bias', 'cls.predictions.transform.dense.weight', 'cls.predictions.transform.dense.bias', 'cls.predictions.transform.LayerNorm.weight', 'cls.predictions.transform.LayerNorm.bias', 'cls.predictions.decoder.weight', 'cls.predictions.decoder.bias', 'cls.seq_relationship.weight', 'cls.seq_relationship.bias']\n",
      "- This IS expected if you are initializing BertForSequenceClassification from the checkpoint of a model trained on another task or with another architecture (e.g. initializing a BertForSequenceClassification model from a BertForPreTraining model).\n",
      "- This IS NOT expected if you are initializing BertForSequenceClassification from the checkpoint of a model that you expect to be exactly identical (initializing a BertForSequenceClassification model from a BertForSequenceClassification model).\n",
      "Some weights of BertForSequenceClassification were not initialized from the model checkpoint at Rostlab/prot_bert and are newly initialized: ['classifier.weight', 'classifier.bias']\n",
      "You should probably TRAIN this model on a down-stream task to be able to use it for predictions and inference.\n"
     ]
    }
   ],
   "source": [
    "#load train and test tensors and instantiate pytorch lightning wrapper for the huggingface model with the base pretrained protbert model\n",
    "\n",
    "encoded_train = torch.load(saved_strat_train)\n",
    "encoded_test = torch.load(saved_strat_val)\n",
    "\n",
    "bsc = BertSeqClassification(pretrained_dir=\"Rostlab/prot_bert\", use_adafactor=True, num_labels=num_labels)"
   ]
  },
  {
   "cell_type": "code",
   "execution_count": 4,
   "metadata": {},
   "outputs": [
    {
     "name": "stderr",
     "output_type": "stream",
     "text": [
      "GPU available: True, used: True\n",
      "TPU available: False, using: 0 TPU cores\n"
     ]
    }
   ],
   "source": [
    "# setup data collator, trainer, and dataloader for train and test dataset\n",
    "\n",
    "data_collator = DataCollatorWithPadding(tokenizer=tokenizer)\n",
    "\n",
    "trainer = Trainer(\n",
    "    max_epochs=max_epch,\n",
    "    gpus=gpu,\n",
    "    auto_lr_find=False,\n",
    "    logger=wandb_logger\n",
    ")\n",
    "\n",
    "warnings.filterwarnings(\"ignore\")\n",
    "\n",
    "train_dl = DataLoader(encoded_train, batch_size=4, num_workers=num_cpu, collate_fn=data_collator, shuffle=True)\n",
    "eval_dl = DataLoader(encoded_test, batch_size=4, num_workers=num_cpu, collate_fn=data_collator, shuffle=False)"
   ]
  },
  {
   "cell_type": "code",
   "execution_count": 5,
   "metadata": {},
   "outputs": [
    {
     "name": "stderr",
     "output_type": "stream",
     "text": [
      "LOCAL_RANK: 0 - CUDA_VISIBLE_DEVICES: [0,1,2,3,4,5,6,7]\n",
      "\n",
      "  | Name | Type                          | Params\n",
      "-------------------------------------------------------\n",
      "0 | bert | BertForSequenceClassification | 420 M \n",
      "-------------------------------------------------------\n",
      "420 M     Trainable params\n",
      "0         Non-trainable params\n",
      "420 M     Total params\n",
      "1,680.508 Total estimated model params size (MB)\n"
     ]
    },
    {
     "data": {
      "application/vnd.jupyter.widget-view+json": {
       "model_id": "1bcb896926c644809962b1ea71f3b79b",
       "version_major": 2,
       "version_minor": 0
      },
      "text/plain": [
       "HBox(children=(FloatProgress(value=0.0, description='Finding best initial lr', style=ProgressStyle(description…"
      ]
     },
     "metadata": {},
     "output_type": "display_data"
    },
    {
     "name": "stderr",
     "output_type": "stream",
     "text": [
      "Restored states from the checkpoint file at /mnt/storage/grid/home/eric/hmm2bert/work/onlyFunctional/onlyFunctional/lr_find_temp_model.ckpt\n"
     ]
    }
   ],
   "source": [
    "lr_finder = trainer.tuner.lr_find(bsc, train_dataloader=train_dl, min_lr=min_lr, max_lr=max_lr, num_training=100, mode='exponential', early_stop_threshold=4)"
   ]
  },
  {
   "cell_type": "code",
   "execution_count": 6,
   "metadata": {},
   "outputs": [
    {
     "data": {
      "text/plain": [
       "{'lr': [5e-06,\n",
       "  5.212328804205608e-06,\n",
       "  5.3218509122668e-06,\n",
       "  5.43367431263029e-06,\n",
       "  5.547847360339226e-06,\n",
       "  5.664419426478993e-06,\n",
       "  5.783440919526437e-06,\n",
       "  5.904963307147652e-06,\n",
       "  6.029039138453803e-06,\n",
       "  6.155722066724582e-06,\n",
       "  6.285066872609142e-06,\n",
       "  6.417129487814522e-06,\n",
       "  6.551967019291817e-06,\n",
       "  6.6896377739305605e-06,\n",
       "  6.830201283771978e-06,\n",
       "  6.9737183317520275e-06,\n",
       "  7.120250977985359e-06,\n",
       "  7.2698625866015536e-06,\n",
       "  7.422617853145247e-06,\n",
       "  7.578582832551992e-06,\n",
       "  7.73782496771195e-06,\n",
       "  7.900413118633771e-06,\n",
       "  8.066417592221263e-06,\n",
       "  8.235910172675731e-06,\n",
       "  8.408964152537146e-06,\n",
       "  8.585654364377539e-06,\n",
       "  8.766057213160352e-06,\n",
       "  8.950250709279724e-06,\n",
       "  9.138314502294006e-06,\n",
       "  9.330329915368074e-06,\n",
       "  9.526379980439374e-06,\n",
       "  9.726549474122857e-06,\n",
       "  9.93092495437036e-06,\n",
       "  1.0139594797900292e-05,\n",
       "  1.0352649238413775e-05,\n",
       "  1.0570180405613803e-05,\n",
       "  1.0792282365044274e-05,\n",
       "  1.1019051158766108e-05,\n",
       "  1.1250584846888094e-05,\n",
       "  1.1486983549970351e-05,\n",
       "  1.172834949231879e-05,\n",
       "  1.1974787046189286e-05,\n",
       "  1.2226402776920685e-05,\n",
       "  1.248330548901612e-05,\n",
       "  1.2745606273192624e-05,\n",
       "  1.3013418554419336e-05,\n",
       "  1.3286858140965115e-05,\n",
       "  1.356604327447672e-05,\n",
       "  1.3851094681109248e-05,\n",
       "  1.4142135623730953e-05,\n",
       "  1.4439291955224963e-05,\n",
       "  1.4742692172911012e-05,\n",
       "  1.5052467474110675e-05,\n",
       "  1.5368751812880125e-05,\n",
       "  1.5691681957935017e-05,\n",
       "  1.6021397551792445e-05,\n",
       "  1.635804117115562e-05,\n",
       "  1.6701758388567388e-05,\n",
       "  1.7052697835359134e-05,\n",
       "  1.7411011265922484e-05,\n",
       "  1.7776853623331404e-05,\n",
       "  1.815038310634322e-05,\n",
       "  1.8531761237807418e-05,\n",
       "  1.8921152934511918e-05,\n",
       "  1.9318726578496913e-05,\n",
       "  1.9724654089867186e-05,\n",
       "  2.013911100113438e-05,\n",
       "  2.0562276533121333e-05,\n",
       "  2.0994333672461344e-05,\n",
       "  2.1435469250725866e-05,\n",
       "  2.188587402521479e-05,\n",
       "  2.2345742761444398e-05,\n",
       "  2.2815274317368474e-05,\n",
       "  2.3294671729369117e-05,\n",
       "  2.378414230005442e-05,\n",
       "  2.428389768790094e-05,\n",
       "  2.4794153998779735e-05,\n",
       "  2.53151318794056e-05,\n",
       "  2.584705661274985e-05,\n",
       "  2.639015821545789e-05,\n",
       "  2.6944671537313812e-05,\n",
       "  2.7510836362794877e-05,\n",
       "  2.8088897514759943e-05,\n",
       "  2.867910496031655e-05,\n",
       "  2.9281713918912512e-05,\n",
       "  2.9896984972698767e-05,\n",
       "  3.0525184179211186e-05,\n",
       "  3.116658318642e-05,\n",
       "  3.182145935019675e-05,\n",
       "  3.2490095854249426e-05,\n",
       "  3.3172781832577676e-05,\n",
       "  3.386981249450109e-05,\n",
       "  3.458148925231461e-05,\n",
       "  3.530811985162619e-05,\n",
       "  3.605001850443321e-05,\n",
       "  3.6807506024995006e-05,\n",
       "  3.7580909968560473e-05,\n",
       "  3.837056477301058e-05,\n",
       "  3.917681190347708e-05,\n",
       "  4e-05],\n",
       " 'loss': [5.373647689819336,\n",
       "  5.349388238155475,\n",
       "  5.328551303706285,\n",
       "  5.303231313444965,\n",
       "  5.27038186860594,\n",
       "  5.2554305334888385,\n",
       "  5.240800430240425,\n",
       "  5.2404199430417835,\n",
       "  5.246711345946561,\n",
       "  5.260389392756586,\n",
       "  5.250399978501169,\n",
       "  5.240546432303765,\n",
       "  5.226824394587597,\n",
       "  5.23530071868134,\n",
       "  5.2371512493329195,\n",
       "  5.218749208473254,\n",
       "  5.21065774585623,\n",
       "  5.206923710653571,\n",
       "  5.215889092697871,\n",
       "  5.224832521710457,\n",
       "  5.222835330756708,\n",
       "  5.222031057755096,\n",
       "  5.218169510065548,\n",
       "  5.228151188585395,\n",
       "  5.238636206351845,\n",
       "  5.235224363796404,\n",
       "  5.24522664013602,\n",
       "  5.244083319676048,\n",
       "  5.240849828874237,\n",
       "  5.244055811839914,\n",
       "  5.2451585604284245,\n",
       "  5.242849657349565,\n",
       "  5.242354379174194,\n",
       "  5.241887660296161,\n",
       "  5.236802770839451,\n",
       "  5.233119564100656,\n",
       "  5.240167062443614,\n",
       "  5.240711628488366,\n",
       "  5.235994193155571,\n",
       "  5.240730400061708,\n",
       "  5.2426048321340835,\n",
       "  5.243206713815366,\n",
       "  5.247030108428311,\n",
       "  5.24639588542537,\n",
       "  5.251591043714922,\n",
       "  5.255973212979375,\n",
       "  5.256528255094597,\n",
       "  5.262654842819122,\n",
       "  5.261268200086892,\n",
       "  5.257461197241356,\n",
       "  5.2610333696654825,\n",
       "  5.258440779644404,\n",
       "  5.258338924234707,\n",
       "  5.261186269845856,\n",
       "  5.259460133730862,\n",
       "  5.254720343999276,\n",
       "  5.259305264765244,\n",
       "  5.264894959644945,\n",
       "  5.263048318568724,\n",
       "  5.262998325861948,\n",
       "  5.262585373640014,\n",
       "  5.262186275391321,\n",
       "  5.263897820565941,\n",
       "  5.266116015136564,\n",
       "  5.266868354115058,\n",
       "  5.266802366171495,\n",
       "  5.266566545552368,\n",
       "  5.265807560209315,\n",
       "  5.264592886165282,\n",
       "  5.264819732346015,\n",
       "  5.2647670215763425,\n",
       "  5.264523301996438,\n",
       "  5.263907022254588,\n",
       "  5.262767321962283,\n",
       "  5.263914232093166,\n",
       "  5.264584217014764,\n",
       "  5.264021767790293,\n",
       "  5.264509296528011,\n",
       "  5.264097381399632,\n",
       "  5.263772567883993,\n",
       "  5.260906216808265,\n",
       "  5.26227434198243,\n",
       "  5.261984179264641,\n",
       "  5.261527611701556,\n",
       "  5.262617590273614,\n",
       "  5.262298432825438,\n",
       "  5.262163005271631,\n",
       "  5.261086672827422,\n",
       "  5.259283963295061,\n",
       "  5.260326985797611,\n",
       "  5.260622667207754,\n",
       "  5.258314627903254,\n",
       "  5.256598477748506,\n",
       "  5.259298665316394,\n",
       "  5.2610583103253585,\n",
       "  5.260385128336151,\n",
       "  5.258326447566056,\n",
       "  5.258972590955617,\n",
       "  5.258697598806436,\n",
       "  5.257409623624524]}"
      ]
     },
     "execution_count": 6,
     "metadata": {},
     "output_type": "execute_result"
    }
   ],
   "source": [
    "lr_finder.results"
   ]
  },
  {
   "cell_type": "code",
   "execution_count": null,
   "metadata": {},
   "outputs": [],
   "source": []
  },
  {
   "cell_type": "code",
   "execution_count": null,
   "metadata": {},
   "outputs": [],
   "source": [
    "fig = lr_finder.plot(suggest=True)\n",
    "fig.show()\n",
    "\n",
    "new_lr = lr_finder.suggestion()\n",
    "print(\"suggested lr: \" + str(new_lr)) #0.0001 max, 1e-13 min, lowest 3.1084745275846952\n",
    "print(\"min lr: \" + str(min_lr))\n",
    "print(\"max lr: \" + str(max_lr))"
   ]
  },
  {
   "cell_type": "markdown",
   "metadata": {},
   "source": [
    "# =====LR Finder====="
   ]
  },
  {
   "cell_type": "code",
   "execution_count": 7,
   "metadata": {},
   "outputs": [
    {
     "name": "stdout",
     "output_type": "stream",
     "text": [
      "\n",
      "suggested lr: 6.9737183317520275e-06\n",
      "min lr: 5e-06\n",
      "max lr: 4e-05\n"
     ]
    },
    {
     "data": {
      "image/png": "[encoded data removed]",
      "text/plain": [
       "<Figure size 432x288 with 1 Axes>"
      ]
     },
     "metadata": {
      "needs_background": "light"
     },
     "output_type": "display_data"
    }
   ],
   "source": [
    "#6.973e-06\n",
    "fig = lr_finder.plot(suggest=True)\n",
    "fig.show()\n",
    "\n",
    "new_lr = lr_finder.suggestion()\n",
    "print(\"suggested lr: \" + str(new_lr)) #0.0001 max, 1e-13 min, lowest 3.1084745275846952\n",
    "print(\"min lr: \" + str(min_lr))\n",
    "print(\"max lr: \" + str(max_lr))"
   ]
  },
  {
   "cell_type": "code",
   "execution_count": 7,
   "metadata": {
    "jupyter": {
     "source_hidden": true
    }
   },
   "outputs": [
    {
     "name": "stdout",
     "output_type": "stream",
     "text": [
      "\n",
      "suggested lr: 8.976495419987334e-06\n",
      "min lr: 6e-06\n",
      "max lr: 5e-05\n"
     ]
    },
    {
     "data": {
      "image/png": "[encoded data removed]",
      "text/plain": [
       "<Figure size 432x288 with 1 Axes>"
      ]
     },
     "metadata": {
      "needs_background": "light"
     },
     "output_type": "display_data"
    }
   ],
   "source": [
    "fig = lr_finder.plot(suggest=True)\n",
    "fig.show()\n",
    "\n",
    "new_lr = lr_finder.suggestion()\n",
    "print(\"suggested lr: \" + str(new_lr)) #0.0001 max, 1e-13 min, lowest 3.1084745275846952\n",
    "print(\"min lr: \" + str(min_lr))\n",
    "print(\"max lr: \" + str(max_lr))"
   ]
  },
  {
   "cell_type": "code",
   "execution_count": 7,
   "metadata": {},
   "outputs": [
    {
     "name": "stdout",
     "output_type": "stream",
     "text": [
      "\n",
      "suggested lr: 6.441247758465671e-06\n",
      "min lr: 5e-06\n",
      "max lr: 5e-05\n"
     ]
    },
    {
     "data": {
      "image/png": "[encoded data removed]",
      "text/plain": [
       "<Figure size 432x288 with 1 Axes>"
      ]
     },
     "metadata": {
      "needs_background": "light"
     },
     "output_type": "display_data"
    }
   ],
   "source": [
    "# 6.44e-06\n",
    "fig = lr_finder.plot(suggest=True)\n",
    "fig.show()\n",
    "\n",
    "new_lr = lr_finder.suggestion()\n",
    "print(\"suggested lr: \" + str(new_lr)) #0.0001 max, 1e-13 min, lowest 3.1084745275846952\n",
    "print(\"min lr: \" + str(min_lr))\n",
    "print(\"max lr: \" + str(max_lr))"
   ]
  },
  {
   "cell_type": "code",
   "execution_count": 7,
   "metadata": {
    "jupyter": {
     "source_hidden": true
    }
   },
   "outputs": [
    {
     "name": "stdout",
     "output_type": "stream",
     "text": [
      "\n",
      "suggested lr: 1.9810101489069607e-07\n",
      "min lr: 1e-07\n",
      "max lr: 5e-05\n"
     ]
    },
    {
     "data": {
      "image/png": "[encoded data removed]",
      "text/plain": [
       "<Figure size 432x288 with 1 Axes>"
      ]
     },
     "metadata": {
      "needs_background": "light"
     },
     "output_type": "display_data"
    }
   ],
   "source": [
    "fig = lr_finder.plot(suggest=True)\n",
    "fig.show()\n",
    "\n",
    "new_lr = lr_finder.suggestion()\n",
    "print(\"suggested lr: \" + str(new_lr)) #0.0001 max, 1e-13 min, lowest 3.1084745275846952\n",
    "print(\"min lr: \" + str(min_lr))\n",
    "print(\"max lr: \" + str(max_lr))"
   ]
  },
  {
   "cell_type": "code",
   "execution_count": 7,
   "metadata": {
    "jupyter": {
     "source_hidden": true
    }
   },
   "outputs": [
    {
     "name": "stdout",
     "output_type": "stream",
     "text": [
      "\n",
      "suggested lr: 5.49280271653059e-07\n",
      "min lr: 1e-07\n",
      "max lr: 0.0005\n"
     ]
    },
    {
     "data": {
      "image/png": "[encoded data removed]",
      "text/plain": [
       "<Figure size 432x288 with 1 Axes>"
      ]
     },
     "metadata": {
      "needs_background": "light"
     },
     "output_type": "display_data"
    }
   ],
   "source": [
    "fig = lr_finder.plot(suggest=True)\n",
    "fig.show()\n",
    "\n",
    "new_lr = lr_finder.suggestion()\n",
    "print(\"suggested lr: \" + str(new_lr)) #0.0001 max, 1e-13 min, lowest 3.1084745275846952\n",
    "print(\"min lr: \" + str(min_lr))\n",
    "print(\"max lr: \" + str(max_lr))"
   ]
  },
  {
   "cell_type": "code",
   "execution_count": 7,
   "metadata": {
    "jupyter": {
     "source_hidden": true
    }
   },
   "outputs": [
    {
     "name": "stdout",
     "output_type": "stream",
     "text": [
      "\n",
      "suggested lr: 2.876238536338261e-06\n",
      "min lr: 1e-06\n",
      "max lr: 0.0005\n"
     ]
    },
    {
     "data": {
      "image/png": "[encoded data removed]",
      "text/plain": [
       "<Figure size 432x288 with 1 Axes>"
      ]
     },
     "metadata": {
      "needs_background": "light"
     },
     "output_type": "display_data"
    }
   ],
   "source": [
    "fig = lr_finder.plot(suggest=True)\n",
    "fig.show()\n",
    "\n",
    "new_lr = lr_finder.suggestion()\n",
    "print(\"suggested lr: \" + str(new_lr)) #0.0001 max, 1e-13 min, lowest 3.1084745275846952\n",
    "print(\"min lr: \" + str(min_lr))\n",
    "print(\"max lr: \" + str(max_lr))"
   ]
  },
  {
   "cell_type": "code",
   "execution_count": 7,
   "metadata": {
    "jupyter": {
     "source_hidden": true
    }
   },
   "outputs": [
    {
     "name": "stdout",
     "output_type": "stream",
     "text": [
      "\n",
      "suggested lr: 6.366143157594225e-10\n",
      "min lr: 1e-10\n",
      "max lr: 0.0005\n"
     ]
    },
    {
     "data": {
      "image/png": "[encoded data removed]",
      "text/plain": [
       "<Figure size 432x288 with 1 Axes>"
      ]
     },
     "metadata": {
      "needs_background": "light"
     },
     "output_type": "display_data"
    }
   ],
   "source": [
    "fig = lr_finder.plot(suggest=True)\n",
    "fig.show()\n",
    "\n",
    "new_lr = lr_finder.suggestion()\n",
    "print(\"suggested lr: \" + str(new_lr)) #0.0001 max, 1e-13 min, lowest 3.1084745275846952\n",
    "print(\"min lr: \" + str(min_lr))\n",
    "print(\"max lr: \" + str(max_lr))"
   ]
  },
  {
   "cell_type": "code",
   "execution_count": 13,
   "metadata": {
    "jupyter": {
     "source_hidden": true
    }
   },
   "outputs": [
    {
     "name": "stdout",
     "output_type": "stream",
     "text": [
      "\n",
      "suggested lr: 4.137935348372416e-09\n",
      "min lr: 1e-10\n",
      "max lr: 0.005\n"
     ]
    },
    {
     "data": {
      "image/png": "[encoded data removed]",
      "text/plain": [
       "<Figure size 432x288 with 1 Axes>"
      ]
     },
     "metadata": {
      "needs_background": "light"
     },
     "output_type": "display_data"
    }
   ],
   "source": [
    "fig = lr_finder.plot(suggest=True)\n",
    "fig.show()\n",
    "\n",
    "new_lr = lr_finder.suggestion()\n",
    "print(\"suggested lr: \" + str(new_lr)) #0.0001 max, 1e-13 min, lowest 3.1084745275846952\n",
    "print(\"min lr: \" + str(min_lr))\n",
    "print(\"max lr: \" + str(max_lr))"
   ]
  },
  {
   "cell_type": "code",
   "execution_count": null,
   "metadata": {},
   "outputs": [],
   "source": []
  }
 ],
 "metadata": {
  "kernelspec": {
   "display_name": "dnabert",
   "language": "python",
   "name": "dnabert"
  },
  "language_info": {
   "codemirror_mode": {
    "name": "ipython",
    "version": 3
   },
   "file_extension": ".py",
   "mimetype": "text/x-python",
   "name": "python",
   "nbconvert_exporter": "python",
   "pygments_lexer": "ipython3",
   "version": "3.6.13"
  }
 },
 "nbformat": 4,
 "nbformat_minor": 4
}
