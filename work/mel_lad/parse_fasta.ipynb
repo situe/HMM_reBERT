{
 "cells": [
  {
   "cell_type": "code",
   "execution_count": 2,
   "metadata": {},
   "outputs": [],
   "source": [
    "from Bio import SeqIO #parse fasta files\n",
    "import os #change directories\n",
    "import time #track processing time\n",
    "import pandas as pd #create dataframes\n",
    "from datasets import load_dataset #load dataframe into huggingface dataset\n",
    "from sklearn import preprocessing #encode labels"
   ]
  },
  {
   "cell_type": "code",
   "execution_count": 2,
   "metadata": {},
   "outputs": [
    {
     "name": "stdout",
     "output_type": "stream",
     "text": [
      "/mnt/storage/grid/home/eric/hmm2bert\n",
      "/mnt/storage/grid/home/eric/hmm2bert\n"
     ]
    }
   ],
   "source": [
    "# original directory\n",
    "print(os.getcwd())\n",
    "os.chdir(\"/mnt/storage/grid/home/eric/hmm2bert\")\n",
    "print(os.getcwd())"
   ]
  },
  {
   "cell_type": "code",
   "execution_count": 70,
   "metadata": {},
   "outputs": [
    {
     "name": "stdout",
     "output_type": "stream",
     "text": [
      "/mnt/storage/grid/home/eric/puffin/dat/melanin\n",
      "/mnt/storage/grid/home/eric/puffin/dat/melanin\n"
     ]
    }
   ],
   "source": [
    "# melanin directory\n",
    "print(os.getcwd())\n",
    "os.chdir(\"/mnt/storage/grid/home/eric/puffin/dat/melanin\")\n",
    "print(os.getcwd())"
   ]
  },
  {
   "cell_type": "code",
   "execution_count": 87,
   "metadata": {},
   "outputs": [
    {
     "name": "stdout",
     "output_type": "stream",
     "text": [
      "/mnt/storage/grid/home/eric/puffin/dat/melanin\n",
      "/mnt/storage/grid/home/eric/puffin/dat/ladderane\n"
     ]
    }
   ],
   "source": [
    "# ladderane directory\n",
    "print(os.getcwd())\n",
    "os.chdir(\"/mnt/storage/grid/home/eric/puffin/dat/ladderane\")\n",
    "print(os.getcwd())"
   ]
  },
  {
   "cell_type": "markdown",
   "metadata": {},
   "source": [
    "# =============================================================="
   ]
  },
  {
   "cell_type": "code",
   "execution_count": 3,
   "metadata": {},
   "outputs": [
    {
     "name": "stdout",
     "output_type": "stream",
     "text": [
      "MelC1.fasta\n",
      "MelC2.fasta\n",
      "2\n"
     ]
    }
   ],
   "source": [
    "# walk through domain folder and select only files ending with .fasta\n",
    "\n",
    "folder = \"melanin\"\n",
    "counter = 0\n",
    "for root, dirs, files in os.walk(f\"/mnt/storage/grid/home/eric/PuffinCaller/PuffinCaller/dat/fasta/{folder}\"):\n",
    "    for x in files:\n",
    "        if x.endswith(\".fasta\"):\n",
    "            counter += 1\n",
    "            print(x)\n",
    "print(counter)"
   ]
  },
  {
   "cell_type": "code",
   "execution_count": null,
   "metadata": {},
   "outputs": [],
   "source": [
    "# indicate file to parse, and class/label it belongs under\n",
    "\n",
    "filename = \"LadMT.hmm.fasta\"\n",
    "Class = \"ladderane\""
   ]
  },
  {
   "cell_type": "code",
   "execution_count": 96,
   "metadata": {},
   "outputs": [],
   "source": [
    "#define empty lists for parsing fasta\n",
    "\n",
    "seq_ID = []\n",
    "seq_Record = []\n",
    "label_ID = []"
   ]
  },
  {
   "cell_type": "code",
   "execution_count": 97,
   "metadata": {},
   "outputs": [],
   "source": [
    "# parse through fasta, separate single letter amino acid sequence by whitespace and append data to list\n",
    "\n",
    "for seq_record in SeqIO.parse(filename, \"fasta\"):\n",
    "    seq_ID.append(seq_record.id)\n",
    "    str_seq = str(seq_record.seq)\n",
    "    seq_Record.append(\" \".join(str_seq))\n",
    "    label_ID.append(Class)\n",
    "    \n",
    "    #seq_Record.append(seq_record.seq)\n",
    "    #print(seq_record.id)\n",
    "    #print(repr(seq_record.seq))\n",
    "    #print(len(seq_record))"
   ]
  },
  {
   "cell_type": "code",
   "execution_count": 98,
   "metadata": {},
   "outputs": [
    {
     "name": "stdout",
     "output_type": "stream",
     "text": [
      "Lad_MT-sample1\n",
      "L Y K T S S S V V E T F L L L L I D A Q E Q L P F Y Q K P Q K V R V S D E E G L E N L V Q S T T M H P L M S A L D E R E Q V A E F E I R D E V S K R V V S V D I D C G S D C S Y V L N D Y T T T K W T N D K F D I V C L S A K E I K V R N N A I L K K Y S F L D T E S E E R A E N F M A G I R Q L G L F S S E T V H C T D G T G Q V E F Q F I D S A L I K V V T A N A A N P T S R I I D F R Y G E G F D V N S K T K R L Q P I R L M R C S F E C H V F K M R A K S A L K N G N Q F P Y Q V S W V K T Y S W D V F E I L V C L P D Q W T K L V I I A Q C A N P T A P V K I K V Y K G S E L Y S V T I C G E R G I N N E S H S D Q G R I L S V D M L V R K G V L E Y K V A H A V C R A P Q G F G N Q Q L S R Q N M L H E I G Y L L E S F I Q N M P K Q K L K R K\n",
      "731\n",
      "ladderane\n",
      "\n",
      "\n",
      "Lad_MT-sample100\n",
      "G R A R P D V D F A S Q R I S K A I S S D Q F I A F K N V L R F I H N K C I L S I L E S T E E V G L I N A I G M L T D K G T T K N E D M V L T H L V K T V E D Y M R H C K I T E H Q N R M T V F F D H I A L V I K V P D S F S E I K A D Q L K G M T E F S E S A E L K I S L P G Q W M E V G P E E E P I F R F D S L N A A R A F T Y V F Y I T R I L V V V M R Q F V Q R T T P S Q L A S V C L G P G F K I V L I A F K M S D Q D E A A T D F R A V F T L L A D E R R L D Q R L V R E I E C E E E A G L E E S I G A G N T T Y C M Y Y F G I S V P N I R Q E L T M V R K S E Q G K M G I M L N S Y P V I D R T I I K D I L I R Y G I F T E P R I E T V I E G W D I Y D R A T E C S R L F K E A R V H S E I I P I N I E V W N L E K L\n",
      "705\n",
      "ladderane\n"
     ]
    }
   ],
   "source": [
    "#verify presence of data\n",
    "\n",
    "print(seq_ID[0])\n",
    "print(seq_Record[0])\n",
    "print(len(seq_Record[0]))\n",
    "print(label_ID[0])\n",
    "print(\"\")\n",
    "print(\"\")\n",
    "print(seq_ID[-1])\n",
    "print(seq_Record[-1])\n",
    "print(len(seq_Record[-1]))\n",
    "print(label_ID[-1])"
   ]
  },
  {
   "cell_type": "code",
   "execution_count": 99,
   "metadata": {},
   "outputs": [
    {
     "name": "stdout",
     "output_type": "stream",
     "text": [
      "Index(['Sequence_ID', 'Sequences', 'Labels'], dtype='object')\n"
     ]
    }
   ],
   "source": [
    "# create dataframe with required columns\n",
    "df_records = pd.DataFrame(columns=['sequence_ID', 'sequences', 'labels'])\n",
    "print(df_records.columns)"
   ]
  },
  {
   "cell_type": "code",
   "execution_count": 100,
   "metadata": {},
   "outputs": [
    {
     "name": "stdout",
     "output_type": "stream",
     "text": [
      "100\n"
     ]
    }
   ],
   "source": [
    "# create dict with the data that was appended to the lists (so that they can be added to dataframe)\n",
    "\n",
    "preDF_dict = {'sequence_ID': seq_ID, 'sequences': seq_Record, 'labels': label_ID}\n",
    "print(len(preDF_dict[\"sequences\"]))"
   ]
  },
  {
   "cell_type": "code",
   "execution_count": 101,
   "metadata": {},
   "outputs": [
    {
     "name": "stdout",
     "output_type": "stream",
     "text": [
      "      Sequence_ID                                          Sequences  \\\n",
      "0  Lad_MT-sample1  L Y K T S S S V V E T F L L L L I D A Q E Q L ...   \n",
      "1  Lad_MT-sample2  D H S G K T Y G I P D I K P V A R Y N I P Q E ...   \n",
      "2  Lad_MT-sample3  N W S W Q P Q L E E V K A L F N V L T L Q I F ...   \n",
      "3  Lad_MT-sample4  D H N G E N A T L N K C R C L I T K A K V Q K ...   \n",
      "4  Lad_MT-sample5  Q N M R H S K P T N P E R E L L S S Y A S K K ...   \n",
      "\n",
      "      Labels  \n",
      "0  ladderane  \n",
      "1  ladderane  \n",
      "2  ladderane  \n",
      "3  ladderane  \n",
      "4  ladderane  \n",
      "\n",
      "         Sequence_ID                                          Sequences  \\\n",
      "95   Lad_MT-sample96  K E V K T L K V N E F E K N V Q T M I L P F R ...   \n",
      "96   Lad_MT-sample97  R R K A E N Q A V G V V N K L L Q T R D R K L ...   \n",
      "97   Lad_MT-sample98  L S M L E R K G W A V K G S V I R A I F G K H ...   \n",
      "98   Lad_MT-sample99  F N E Q E V C V P E I T T L I A Q L T P C T F ...   \n",
      "99  Lad_MT-sample100  G R A R P D V D F A S Q R I S K A I S S D Q F ...   \n",
      "\n",
      "       Labels  \n",
      "95  ladderane  \n",
      "96  ladderane  \n",
      "97  ladderane  \n",
      "98  ladderane  \n",
      "99  ladderane  \n"
     ]
    }
   ],
   "source": [
    "# pass dict into DataFrame\n",
    "\n",
    "df_records = pd.DataFrame(preDF_dict)\n",
    "print(df_records.head())\n",
    "print(\"\")\n",
    "print(df_records.tail())"
   ]
  },
  {
   "cell_type": "code",
   "execution_count": 102,
   "metadata": {},
   "outputs": [
    {
     "name": "stdout",
     "output_type": "stream",
     "text": [
      "                                                        Sequences     Labels\n",
      "Sequence_ID                                                                 \n",
      "Lad_MT-sample1  L Y K T S S S V V E T F L L L L I D A Q E Q L ...  ladderane\n",
      "Lad_MT-sample2  D H S G K T Y G I P D I K P V A R Y N I P Q E ...  ladderane\n",
      "Lad_MT-sample3  N W S W Q P Q L E E V K A L F N V L T L Q I F ...  ladderane\n",
      "Lad_MT-sample4  D H N G E N A T L N K C R C L I T K A K V Q K ...  ladderane\n",
      "Lad_MT-sample5  Q N M R H S K P T N P E R E L L S S Y A S K K ...  ladderane\n",
      "                                                          Sequences     Labels\n",
      "Sequence_ID                                                                   \n",
      "Lad_MT-sample96   K E V K T L K V N E F E K N V Q T M I L P F R ...  ladderane\n",
      "Lad_MT-sample97   R R K A E N Q A V G V V N K L L Q T R D R K L ...  ladderane\n",
      "Lad_MT-sample98   L S M L E R K G W A V K G S V I R A I F G K H ...  ladderane\n",
      "Lad_MT-sample99   F N E Q E V C V P E I T T L I A Q L T P C T F ...  ladderane\n",
      "Lad_MT-sample100  G R A R P D V D F A S Q R I S K A I S S D Q F ...  ladderane\n"
     ]
    }
   ],
   "source": [
    "# change index column to Sequence_ID column\n",
    "\n",
    "df_records = df_records.set_index(\"sequence_ID\")\n",
    "print(df_records.head())\n",
    "print(df_records.tail())"
   ]
  },
  {
   "cell_type": "code",
   "execution_count": 103,
   "metadata": {},
   "outputs": [],
   "source": [
    "# APPEND data to EXISTING csv\n",
    "\n",
    "df_records.to_csv(\"/mnt/storage/grid/home/eric/hmm2bert/data_prep/mel_lad.csv\", mode=\"a\", header=False)\n",
    "\n",
    "\n",
    "# SAVE dataframe as a NEW csv\n",
    "#df_records.to_csv(\"/mnt/storage/grid/home/eric/hmm2bert/data_prep/melanin_ladderane.csv\")"
   ]
  },
  {
   "cell_type": "markdown",
   "metadata": {},
   "source": [
    "# Encode labels"
   ]
  },
  {
   "cell_type": "code",
   "execution_count": 16,
   "metadata": {},
   "outputs": [],
   "source": [
    "df = pd.read_csv(\"/mnt/storage/grid/home/eric/hmm2bert/data_prep/mel_lad.csv\")\n",
    "\n",
    "le = preprocessing.LabelEncoder()\n",
    "new_labels = le.fit_transform(df['labels'])\n",
    "\n",
    "new_label_dict = {\"sequence_ID\": df['sequence_ID'], \"sequences\": df['sequences'], \"labels\": new_labels}\n",
    "\n",
    "labelled_df = pd.DataFrame(new_label_dict)"
   ]
  },
  {
   "cell_type": "code",
   "execution_count": 17,
   "metadata": {},
   "outputs": [],
   "source": [
    "labelled_df = labelled_df.set_index(\"sequence_ID\")\n",
    "\n",
    "labelled_df.to_csv(\"/mnt/storage/grid/home/eric/hmm2bert/data_prep/mel_lad_labelled.csv\")"
   ]
  },
  {
   "cell_type": "code",
   "execution_count": null,
   "metadata": {},
   "outputs": [],
   "source": []
  }
 ],
 "metadata": {
  "kernelspec": {
   "display_name": "dnabert",
   "language": "python",
   "name": "dnabert"
  },
  "language_info": {
   "codemirror_mode": {
    "name": "ipython",
    "version": 3
   },
   "file_extension": ".py",
   "mimetype": "text/x-python",
   "name": "python",
   "nbconvert_exporter": "python",
   "pygments_lexer": "ipython3",
   "version": "3.6.13"
  }
 },
 "nbformat": 4,
 "nbformat_minor": 4
}
