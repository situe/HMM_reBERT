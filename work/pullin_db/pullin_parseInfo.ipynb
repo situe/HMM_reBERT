{
 "cells": [
  {
   "cell_type": "code",
   "execution_count": 2,
   "metadata": {},
   "outputs": [],
   "source": [
    "from Bio import SeqIO #parse fasta files\n",
    "import os #change directories\n",
    "import time #track processing time\n",
    "import pandas as pd #create dataframes\n",
    "from datasets import load_dataset #load dataframe into huggingface dataset\n",
    "from sklearn import preprocessing #encode labels\n",
    "\n",
    "import json"
   ]
  },
  {
   "cell_type": "code",
   "execution_count": 31,
   "metadata": {},
   "outputs": [],
   "source": [
    "#writes an empty file to append to\n",
    "writeFile = \"emptylist.json\"\n",
    "with open(f\"/mnt/storage/grid/home/eric/hmm2bert/{writeFile}\", \"w\") as json_file:\n",
    "    json.dump(\"\", json_file)"
   ]
  },
  {
   "cell_type": "code",
   "execution_count": 33,
   "metadata": {},
   "outputs": [
    {
     "name": "stdout",
     "output_type": "stream",
     "text": [
      "0/0 GCA_000003215.1_ASM321v1_genomic.fna.json\n",
      "1/1 GCA_002412555.1_ASM241255v1_genomic.fna.json\n",
      "1/2 GCA_002411365.1_ASM241136v1_genomic.fna.json\n",
      "2/3 GCA_900199805.1_B110_genomic.fna.json\n",
      "2/4 GCA_000595725.1_Stap_aure_DAR5827_V1_genomic.fna.json\n",
      "3/5 GCA_000946695.1_Velvet_assembly_genomic.fna.json\n",
      "4/6 GCA_002990205.1_ASM299020v1_genomic.fna.json\n",
      "4/7 GCA_000629165.1_Pseu_aeru_3581_V1_genomic.fna.json\n"
     ]
    }
   ],
   "source": [
    "#parses through and appends each file (as a dict) to a list, after parsing whole directory, saves to .json file\n",
    "#=====\n",
    "writeFile = \"emptylist.json\"\n",
    "listWrapper = []\n",
    "fileCounter = 0\n",
    "#=====\n",
    "\n",
    "\n",
    "for fileName in os.listdir(f\"/mnt/storage/grid/home/eric/hmm2bert/pullin_trial\"):\n",
    "\n",
    "#         print(\"\")\n",
    "#         print(\"\")\n",
    "#         print(\"%%%%%%%%%%%%%%%%%%%%%%%%%%%%%%%%%%%%%%%%%%%%%%%%%%%%%%%%%%%%%%%%%%%%%%%%%%\")\n",
    "    print(f\"{len(listWrapper)}/{fileCounter}\", fileName)\n",
    "#         print(\"%%%%%%%%%%%%%%%%%%%%%%%%%%%%%%%%%%%%%%%%%%%%%%%%%%%%%%%%%%%%%%%%%%%%%%%%%%\")\n",
    "#         print(\"\")\n",
    "    #=====\n",
    "    fileDict = {}\n",
    "    #=====\n",
    "\n",
    "    with open(f\"/mnt/storage/grid/home/eric/hmm2bert/pullin_trial/{fileName}\", \"r\") as file:\n",
    "        #=====\n",
    "        orfDict = {}\n",
    "        loaded_file = json.load(file)\n",
    "        resultsDict = loaded_file[\"prism_results\"]\n",
    "        inputDict = resultsDict[\"input\"]\n",
    "        clustersDict = resultsDict[\"clusters\"] #returns a list of dicts\n",
    "        numCounter = 0\n",
    "        #=====\n",
    "        \n",
    "        orfDict[\"hash\"] = inputDict[\"hash\"]\n",
    "        for i in range(len(clustersDict)): #iterate through list of dicts\n",
    "            #=====\n",
    "            suborfDict = {}\n",
    "            counter = 0\n",
    "            currentCluster = clustersDict[i] #returns a dict with info of 1 cluster\n",
    "            orfList = currentCluster[\"orfs\"] #returns a list of dicts, where each dict contains info for 1 orf\n",
    "            #=====\n",
    "            \n",
    "            for singleORF in orfList: #iterate through each dict in the list of dicts (each dict in list is 1 orf)\n",
    "                #=====\n",
    "                dataDict = {}\n",
    "                domain = singleORF[\"domains\"]\n",
    "                #=====\n",
    "                \n",
    "                if len(domain) > 0:\n",
    "                    #=====\n",
    "                    isoDomain = domain[0] #returns a dict of the orf that contains a domain\n",
    "                    #=====\n",
    "                    \n",
    "#                         print(f\"ORF: {numCounter}\", \"=======================\")\n",
    "#                         print(\"subORF: \", counter)\n",
    "#                         print(isoDomain[\"start\"], isoDomain[\"stop\"])\n",
    "#                         print(singleORF[\"sequence\"])\n",
    "#                         print(isoDomain[\"full_name\"])\n",
    "#                         print(\"       ====================\")\n",
    "#                         print(\"\")\n",
    "\n",
    "                    dataDict[\"full_name\"] = isoDomain[\"full_name\"]\n",
    "                    dataDict[\"start\"] = isoDomain[\"start\"]\n",
    "                    dataDict[\"stop\"] = isoDomain[\"stop\"]\n",
    "                    dataDict[\"sequence\"] = singleORF[\"sequence\"]\n",
    "\n",
    "                    suborfDict[f\"subORF-{counter}\"] = dataDict\n",
    "                counter += 1\n",
    "#                 print(\"\\\\\\\\\\\\\\\\\\\\\\\\\\\\\\\\\\\\\\\\\\\\\\\\\\\\\\\\\\\\\\\\\\\\\\\\\\\\\\\\\\\\\\\\\\\\\\\\\\\\\\\\\\\\\\\\\\\\\\\\\")\n",
    "#                 print(\"\")\n",
    "            orfDict[f\"ORF-{numCounter}\"] = suborfDict\n",
    "            numCounter += 1\n",
    "\n",
    "    fileDict[f\"{fileName}\"] = orfDict    \n",
    "    if len(fileDict[fileName].keys()) > 1:\n",
    "        listWrapper.append(fileDict)\n",
    "        fileCounter += 1\n",
    "    else:\n",
    "        fileCounter += 1\n",
    "        continue\n",
    "with open(f\"/mnt/storage/grid/home/eric/hmm2bert/{writeFile}\", \"r+\") as json_file:\n",
    "    json.dump(listWrapper, json_file)\n"
   ]
  },
  {
   "cell_type": "code",
   "execution_count": 38,
   "metadata": {},
   "outputs": [
    {
     "name": "stdout",
     "output_type": "stream",
     "text": [
      "15910\n",
      "154657\n",
      "CPU times: user 0 ns, sys: 661 ms, total: 661 ms\n",
      "Wall time: 2.3 s\n"
     ]
    }
   ],
   "source": [
    "#counts at what position the file is at\n",
    "def count():\n",
    "    counter = 0\n",
    "    for fileName in os.listdir(f\"/mnt/storage/grid/var/pullin_data/prism\"):\n",
    "        if fileName == \"GCA_002296405.1_ASM229640v1_genomic.fna.json\":\n",
    "            print(counter)\n",
    "            counter += 1\n",
    "            #break\n",
    "        else:\n",
    "            counter += 1\n",
    "    return counter\n",
    "\n",
    "%time print(count())"
   ]
  },
  {
   "cell_type": "code",
   "execution_count": 3,
   "metadata": {
    "collapsed": true,
    "jupyter": {
     "outputs_hidden": true,
     "source_hidden": true
    }
   },
   "outputs": [
    {
     "name": "stdout",
     "output_type": "stream",
     "text": [
      "GCA_000003215.1_ASM321v1_genomic.fna.json\n",
      "GCA_002412555.1_ASM241255v1_genomic.fna.json\n",
      "GCA_002411365.1_ASM241136v1_genomic.fna.json\n",
      "GCA_900199805.1_B110_genomic.fna.json\n",
      "GCA_000595725.1_Stap_aure_DAR5827_V1_genomic.fna.json\n",
      "GCA_000946695.1_Velvet_assembly_genomic.fna.json\n",
      "GCA_002990205.1_ASM299020v1_genomic.fna.json\n",
      "GCA_000629165.1_Pseu_aeru_3581_V1_genomic.fna.json\n"
     ]
    }
   ],
   "source": [
    "#parses through and opens and closes file each time, appends each file's hash even if has no domains\n",
    "#=====\n",
    "writeFile = \"test1.json\"\n",
    "#=====\n",
    "\n",
    "\n",
    "for fileName in os.listdir(f\"/mnt/storage/grid/home/eric/hmm2bert/pullin_trial\"):\n",
    "\n",
    "#         print(\"\")\n",
    "#         print(\"\")\n",
    "#         print(\"%%%%%%%%%%%%%%%%%%%%%%%%%%%%%%%%%%%%%%%%%%%%%%%%%%%%%%%%%%%%%%%%%%%%%%%%%%\")\n",
    "    print(fileName)\n",
    "#         print(\"%%%%%%%%%%%%%%%%%%%%%%%%%%%%%%%%%%%%%%%%%%%%%%%%%%%%%%%%%%%%%%%%%%%%%%%%%%\")\n",
    "#         print(\"\")\n",
    "    #=====\n",
    "    listWrapper = []\n",
    "    fileDict = {}\n",
    "    #=====\n",
    "\n",
    "    with open(f\"/mnt/storage/grid/home/eric/hmm2bert/pullin_trial/{fileName}\", \"r\") as file:\n",
    "        #=====\n",
    "        orfDict = {}\n",
    "        loaded_file = json.load(file)\n",
    "        resultsDict = loaded_file[\"prism_results\"]\n",
    "        inputDict = resultsDict[\"input\"]\n",
    "        clustersDict = resultsDict[\"clusters\"] #returns a list of dicts\n",
    "        numCounter = 0\n",
    "        #=====\n",
    "        orfDict[\"hash\"] = inputDict[\"hash\"]\n",
    "        for i in range(len(clustersDict)): #iterate through list of dicts\n",
    "            #=====\n",
    "            suborfDict = {}\n",
    "            counter = 0\n",
    "            currentCluster = clustersDict[i] #returns a dict with info of 1 cluster\n",
    "            orfList = currentCluster[\"orfs\"] #returns a list of dicts, where each dict contains info for 1 orf\n",
    "            #=====\n",
    "            for singleORF in orfList: #iterate through each dict in the list of dicts (each dict in list is 1 orf)\n",
    "                #=====\n",
    "                dataDict = {}\n",
    "                domain = singleORF[\"domains\"]\n",
    "                #=====\n",
    "                if len(domain) > 0:\n",
    "                    #=====\n",
    "                    isoDomain = domain[0] #returns a dict of the orf that contains a domain\n",
    "\n",
    "                    #=====\n",
    "#                         print(f\"ORF: {numCounter}\", \"=======================\")\n",
    "#                         print(\"subORF: \", counter)\n",
    "#                         print(isoDomain[\"start\"], isoDomain[\"stop\"])\n",
    "#                         print(singleORF[\"sequence\"])\n",
    "#                         print(isoDomain[\"full_name\"])\n",
    "#                         print(\"       ====================\")\n",
    "#                         print(\"\")\n",
    "\n",
    "                    dataDict[\"full_name\"] = isoDomain[\"full_name\"]\n",
    "                    dataDict[\"start\"] = isoDomain[\"start\"]\n",
    "                    dataDict[\"stop\"] = isoDomain[\"stop\"]\n",
    "                    dataDict[\"sequence\"] = singleORF[\"sequence\"]\n",
    "\n",
    "                    suborfDict[f\"subORF-{counter}\"] = dataDict\n",
    "                counter += 1\n",
    "#                 print(\"\\\\\\\\\\\\\\\\\\\\\\\\\\\\\\\\\\\\\\\\\\\\\\\\\\\\\\\\\\\\\\\\\\\\\\\\\\\\\\\\\\\\\\\\\\\\\\\\\\\\\\\\\\\\\\\\\\\\\\\\\")\n",
    "#                 print(\"\")\n",
    "            orfDict[f\"ORF-{numCounter}\"] = suborfDict\n",
    "            numCounter += 1\n",
    "\n",
    "    fileDict[f\"{fileName}\"] = orfDict    \n",
    "\n",
    "    listWrapper = [fileDict]\n",
    "    if os.path.exists(f\"/mnt/storage/grid/home/eric/hmm2bert/{writeFile}\") == False:\n",
    "        with open(f\"/mnt/storage/grid/home/eric/hmm2bert/{writeFile}\", \"w\") as json_file:\n",
    "            json.dump(listWrapper, json_file)\n",
    "    else:\n",
    "        with open(f\"/mnt/storage/grid/home/eric/hmm2bert/{writeFile}\", \"r+\") as json_file:\n",
    "            loadedData = json.load(json_file)\n",
    "            loadedData.append(fileDict)\n",
    "            json_file.seek(0)\n",
    "            json.dump(loadedData, json_file)\n",
    "                \n",
    "\n"
   ]
  },
  {
   "cell_type": "markdown",
   "metadata": {},
   "source": [
    "# ====label ORFS====="
   ]
  },
  {
   "cell_type": "code",
   "execution_count": null,
   "metadata": {},
   "outputs": [],
   "source": []
  },
  {
   "cell_type": "code",
   "execution_count": null,
   "metadata": {},
   "outputs": [],
   "source": []
  },
  {
   "cell_type": "code",
   "execution_count": null,
   "metadata": {},
   "outputs": [],
   "source": []
  },
  {
   "cell_type": "code",
   "execution_count": null,
   "metadata": {},
   "outputs": [],
   "source": []
  },
  {
   "cell_type": "code",
   "execution_count": null,
   "metadata": {},
   "outputs": [],
   "source": []
  },
  {
   "cell_type": "code",
   "execution_count": null,
   "metadata": {},
   "outputs": [],
   "source": []
  },
  {
   "cell_type": "code",
   "execution_count": null,
   "metadata": {},
   "outputs": [],
   "source": []
  },
  {
   "cell_type": "code",
   "execution_count": null,
   "metadata": {},
   "outputs": [],
   "source": []
  },
  {
   "cell_type": "markdown",
   "metadata": {},
   "source": [
    "# encode labels and resave to csv"
   ]
  },
  {
   "cell_type": "code",
   "execution_count": 95,
   "metadata": {},
   "outputs": [],
   "source": [
    "df = pd.read_csv(\"/mnt/storage/grid/home/eric/hmm2bert/data_prep/onlyFunctional_ketosynthase.csv\")"
   ]
  },
  {
   "cell_type": "code",
   "execution_count": 96,
   "metadata": {},
   "outputs": [
    {
     "data": {
      "text/plain": [
       "LabelEncoder()"
      ]
     },
     "execution_count": 96,
     "metadata": {},
     "output_type": "execute_result"
    }
   ],
   "source": [
    "le = preprocessing.LabelEncoder()\n",
    "le.fit(df['labels'])"
   ]
  },
  {
   "cell_type": "code",
   "execution_count": 97,
   "metadata": {},
   "outputs": [
    {
     "name": "stdout",
     "output_type": "stream",
     "text": [
      "['ketosynthase_functional', 'ketosynthase_nonfunctional']\n"
     ]
    }
   ],
   "source": [
    "print(list(le.classes_))"
   ]
  },
  {
   "cell_type": "code",
   "execution_count": null,
   "metadata": {},
   "outputs": [],
   "source": [
    "# prints a numbered list of the labels in order\n",
    "t = list(le.classes_)\n",
    "n = 0\n",
    "for i in t:\n",
    "    print(str(n) + \") \" + i)\n",
    "    n += 1"
   ]
  },
  {
   "cell_type": "code",
   "execution_count": 98,
   "metadata": {},
   "outputs": [],
   "source": [
    "new_labels = le.transform(df['labels'])"
   ]
  },
  {
   "cell_type": "code",
   "execution_count": 99,
   "metadata": {},
   "outputs": [],
   "source": [
    "new_labels_dict = {\"sequence_ID\": df['sequence_ID'], \"sequences\": df['sequences'], \"labels\": new_labels}\n",
    "\n",
    "labelled_df = pd.DataFrame(new_labels_dict)\n",
    "\n",
    "labelled_df = labelled_df.set_index(\"sequence_ID\")\n",
    "labelled_df.to_csv(\"/mnt/storage/grid/home/eric/hmm2bert/data_prep/onlyFunctional_encoded_labels_ketosynthase.csv\")"
   ]
  },
  {
   "cell_type": "markdown",
   "metadata": {},
   "source": [
    "# ==========Number of rows of each label in test dataset=============="
   ]
  },
  {
   "cell_type": "code",
   "execution_count": 83,
   "metadata": {},
   "outputs": [
    {
     "name": "stdout",
     "output_type": "stream",
     "text": [
      "25.0\n"
     ]
    }
   ],
   "source": [
    "counter = df[df['labels'] == \"acyl_homoserine_lactone\"]\n",
    "print(len(counter) / 4)"
   ]
  },
  {
   "cell_type": "code",
   "execution_count": 85,
   "metadata": {},
   "outputs": [
    {
     "name": "stdout",
     "output_type": "stream",
     "text": [
      "475.0\n"
     ]
    }
   ],
   "source": [
    "counter = df[df['labels'] == \"aminocoumarin\"]\n",
    "print(len(counter) / 4)"
   ]
  },
  {
   "cell_type": "code",
   "execution_count": 86,
   "metadata": {},
   "outputs": [
    {
     "name": "stdout",
     "output_type": "stream",
     "text": [
      "1750.0\n"
     ]
    }
   ],
   "source": [
    "counter = df[df['labels'] == \"aminoglycoside\"]\n",
    "print(len(counter) / 4)"
   ]
  },
  {
   "cell_type": "code",
   "execution_count": 87,
   "metadata": {},
   "outputs": [
    {
     "name": "stdout",
     "output_type": "stream",
     "text": [
      "725.0\n"
     ]
    }
   ],
   "source": [
    "counter = df[df['labels'] == \"antimetabolite\"]\n",
    "print(len(counter) / 4)"
   ]
  },
  {
   "cell_type": "code",
   "execution_count": 88,
   "metadata": {},
   "outputs": [
    {
     "name": "stdout",
     "output_type": "stream",
     "text": [
      "25.0\n"
     ]
    }
   ],
   "source": [
    "counter = df[df['labels'] == \"aryl_polyene\"]\n",
    "print(len(counter) / 4)"
   ]
  },
  {
   "cell_type": "code",
   "execution_count": 89,
   "metadata": {},
   "outputs": [
    {
     "name": "stdout",
     "output_type": "stream",
     "text": [
      "3075.0\n"
     ]
    }
   ],
   "source": [
    "counter = df[df['labels'] == \"bacteriocin\"]\n",
    "print(len(counter) / 4)"
   ]
  },
  {
   "cell_type": "code",
   "execution_count": 90,
   "metadata": {},
   "outputs": [
    {
     "name": "stdout",
     "output_type": "stream",
     "text": [
      "1125.0\n"
     ]
    }
   ],
   "source": [
    "counter = df[df['labels'] == \"beta_lactam\"]\n",
    "print(len(counter) / 4)"
   ]
  },
  {
   "cell_type": "code",
   "execution_count": 91,
   "metadata": {},
   "outputs": [
    {
     "name": "stdout",
     "output_type": "stream",
     "text": [
      "675.0\n"
     ]
    }
   ],
   "source": [
    "counter = df[df['labels'] == \"bisindole\"]\n",
    "print(len(counter) / 4)"
   ]
  },
  {
   "cell_type": "code",
   "execution_count": 92,
   "metadata": {},
   "outputs": [
    {
     "name": "stdout",
     "output_type": "stream",
     "text": [
      "25.0\n"
     ]
    }
   ],
   "source": [
    "counter = df[df['labels'] == \"butyrolactone\"]\n",
    "print(len(counter) / 4)"
   ]
  },
  {
   "cell_type": "code",
   "execution_count": 93,
   "metadata": {},
   "outputs": [
    {
     "name": "stdout",
     "output_type": "stream",
     "text": [
      "200.0\n"
     ]
    }
   ],
   "source": [
    "counter = df[df['labels'] == \"cyclodipeptide\"]\n",
    "print(len(counter) / 4)"
   ]
  },
  {
   "cell_type": "code",
   "execution_count": 94,
   "metadata": {},
   "outputs": [
    {
     "name": "stdout",
     "output_type": "stream",
     "text": [
      "25.0\n"
     ]
    }
   ],
   "source": [
    "counter = df[df['labels'] == \"ectoine\"]\n",
    "print(len(counter) / 4)"
   ]
  },
  {
   "cell_type": "code",
   "execution_count": 95,
   "metadata": {},
   "outputs": [
    {
     "name": "stdout",
     "output_type": "stream",
     "text": [
      "25.0\n"
     ]
    }
   ],
   "source": [
    "counter = df[df['labels'] == \"furan\"]\n",
    "print(len(counter) / 4)"
   ]
  },
  {
   "cell_type": "code",
   "execution_count": 96,
   "metadata": {},
   "outputs": [
    {
     "name": "stdout",
     "output_type": "stream",
     "text": [
      "300.0\n"
     ]
    }
   ],
   "source": [
    "counter = df[df['labels'] == \"isonitrile\"]\n",
    "print(len(counter) / 4)"
   ]
  },
  {
   "cell_type": "code",
   "execution_count": 97,
   "metadata": {},
   "outputs": [
    {
     "name": "stdout",
     "output_type": "stream",
     "text": [
      "50.0\n"
     ]
    }
   ],
   "source": [
    "counter = df[df['labels'] == \"ladderane\"]\n",
    "print(len(counter) / 4)"
   ]
  },
  {
   "cell_type": "code",
   "execution_count": 98,
   "metadata": {},
   "outputs": [
    {
     "name": "stdout",
     "output_type": "stream",
     "text": [
      "875.0\n"
     ]
    }
   ],
   "source": [
    "counter = df[df['labels'] == \"lincosamide\"]\n",
    "print(len(counter) / 4)"
   ]
  },
  {
   "cell_type": "code",
   "execution_count": 99,
   "metadata": {},
   "outputs": [
    {
     "name": "stdout",
     "output_type": "stream",
     "text": [
      "50.0\n"
     ]
    }
   ],
   "source": [
    "counter = df[df['labels'] == \"melanin\"]\n",
    "print(len(counter) / 4)"
   ]
  },
  {
   "cell_type": "code",
   "execution_count": 100,
   "metadata": {},
   "outputs": [
    {
     "name": "stdout",
     "output_type": "stream",
     "text": [
      "75.0\n"
     ]
    }
   ],
   "source": [
    "counter = df[df['labels'] == \"nis_synthase\"]\n",
    "print(len(counter) / 4)"
   ]
  },
  {
   "cell_type": "code",
   "execution_count": 101,
   "metadata": {},
   "outputs": [
    {
     "name": "stdout",
     "output_type": "stream",
     "text": [
      "3700.0\n"
     ]
    }
   ],
   "source": [
    "counter = df[df['labels'] == \"nucleoside\"]\n",
    "print(len(counter) / 4)"
   ]
  },
  {
   "cell_type": "code",
   "execution_count": 102,
   "metadata": {},
   "outputs": [
    {
     "name": "stdout",
     "output_type": "stream",
     "text": [
      "125.0\n"
     ]
    }
   ],
   "source": [
    "counter = df[df['labels'] == \"phenazine\"]\n",
    "print(len(counter) / 4)"
   ]
  },
  {
   "cell_type": "code",
   "execution_count": 103,
   "metadata": {},
   "outputs": [
    {
     "name": "stdout",
     "output_type": "stream",
     "text": [
      "25.0\n"
     ]
    }
   ],
   "source": [
    "counter = df[df['labels'] == \"phosphoglycolipid\"]\n",
    "print(len(counter) / 4)"
   ]
  },
  {
   "cell_type": "code",
   "execution_count": 104,
   "metadata": {},
   "outputs": [
    {
     "name": "stdout",
     "output_type": "stream",
     "text": [
      "1750.0\n"
     ]
    }
   ],
   "source": [
    "counter = df[df['labels'] == \"phosphonate\"]\n",
    "print(len(counter) / 4)"
   ]
  },
  {
   "cell_type": "code",
   "execution_count": 105,
   "metadata": {},
   "outputs": [
    {
     "name": "stdout",
     "output_type": "stream",
     "text": [
      "650.0\n"
     ]
    }
   ],
   "source": [
    "counter = df[df['labels'] == \"prerequisite\"]\n",
    "print(len(counter) / 4)"
   ]
  },
  {
   "cell_type": "code",
   "execution_count": 106,
   "metadata": {},
   "outputs": [
    {
     "name": "stdout",
     "output_type": "stream",
     "text": [
      "3250.0\n"
     ]
    }
   ],
   "source": [
    "counter = df[df['labels'] == \"primary_metabolite\"]\n",
    "print(len(counter) / 4)"
   ]
  },
  {
   "cell_type": "code",
   "execution_count": 107,
   "metadata": {},
   "outputs": [
    {
     "name": "stdout",
     "output_type": "stream",
     "text": [
      "9625.0\n"
     ]
    }
   ],
   "source": [
    "counter = df[df['labels'] == \"regulator\"]\n",
    "print(len(counter) / 4)"
   ]
  },
  {
   "cell_type": "code",
   "execution_count": 108,
   "metadata": {},
   "outputs": [
    {
     "name": "stdout",
     "output_type": "stream",
     "text": [
      "8275.0\n"
     ]
    }
   ],
   "source": [
    "counter = df[df['labels'] == \"resistance\"]\n",
    "print(len(counter) / 4)"
   ]
  },
  {
   "cell_type": "code",
   "execution_count": 109,
   "metadata": {},
   "outputs": [
    {
     "name": "stdout",
     "output_type": "stream",
     "text": [
      "25.0\n"
     ]
    }
   ],
   "source": [
    "counter = df[df['labels'] == \"resorcinol\"]\n",
    "print(len(counter) / 4)"
   ]
  },
  {
   "cell_type": "code",
   "execution_count": 110,
   "metadata": {},
   "outputs": [
    {
     "name": "stdout",
     "output_type": "stream",
     "text": [
      "4175.0\n"
     ]
    }
   ],
   "source": [
    "counter = df[df['labels'] == \"ribosomal\"]\n",
    "print(len(counter) / 4)"
   ]
  },
  {
   "cell_type": "code",
   "execution_count": 111,
   "metadata": {},
   "outputs": [
    {
     "name": "stdout",
     "output_type": "stream",
     "text": [
      "50.0\n"
     ]
    }
   ],
   "source": [
    "counter = df[df['labels'] == \"stilbene\"]\n",
    "print(len(counter) / 4)"
   ]
  },
  {
   "cell_type": "code",
   "execution_count": 112,
   "metadata": {},
   "outputs": [
    {
     "name": "stdout",
     "output_type": "stream",
     "text": [
      "525.0\n"
     ]
    }
   ],
   "source": [
    "counter = df[df['labels'] == \"sugar\"]\n",
    "print(len(counter) / 4)"
   ]
  },
  {
   "cell_type": "code",
   "execution_count": 113,
   "metadata": {},
   "outputs": [
    {
     "name": "stdout",
     "output_type": "stream",
     "text": [
      "2675.0\n"
     ]
    }
   ],
   "source": [
    "counter = df[df['labels'] == \"tailoring\"]\n",
    "print(len(counter) / 4)"
   ]
  },
  {
   "cell_type": "code",
   "execution_count": 114,
   "metadata": {},
   "outputs": [
    {
     "name": "stdout",
     "output_type": "stream",
     "text": [
      "875.0\n"
     ]
    }
   ],
   "source": [
    "counter = df[df['labels'] == \"terpene\"]\n",
    "print(len(counter) / 4)"
   ]
  },
  {
   "cell_type": "code",
   "execution_count": 115,
   "metadata": {},
   "outputs": [
    {
     "name": "stdout",
     "output_type": "stream",
     "text": [
      "675.0\n"
     ]
    }
   ],
   "source": [
    "counter = df[df['labels'] == \"thiotemplated\"]\n",
    "print(len(counter) / 4)"
   ]
  },
  {
   "cell_type": "code",
   "execution_count": 116,
   "metadata": {},
   "outputs": [
    {
     "name": "stdout",
     "output_type": "stream",
     "text": [
      "850.0\n"
     ]
    }
   ],
   "source": [
    "counter = df[df['labels'] == \"type_ii_polyketide\"]\n",
    "print(len(counter) / 4)"
   ]
  }
 ],
 "metadata": {
  "kernelspec": {
   "display_name": "dnabert",
   "language": "python",
   "name": "dnabert"
  },
  "language_info": {
   "codemirror_mode": {
    "name": "ipython",
    "version": 3
   },
   "file_extension": ".py",
   "mimetype": "text/x-python",
   "name": "python",
   "nbconvert_exporter": "python",
   "pygments_lexer": "ipython3",
   "version": "3.6.13"
  }
 },
 "nbformat": 4,
 "nbformat_minor": 4
}
