{
 "cells": [
  {
   "cell_type": "code",
   "execution_count": 1,
   "metadata": {},
   "outputs": [],
   "source": [
    "from bioformers.datasets.ArrowDataset import ArrowDataset\n",
    "from bioformers.datasets import dataset_utils\n",
    "from bioformers.utilize.Bert import BertSeqClassification\n",
    "from torch.utils.data import DataLoader\n",
    "from transformers import DataCollatorWithPadding\n",
    "from pytorch_lightning import Trainer\n",
    "from pytorch_lightning.loggers import WandbLogger\n",
    "from pytorch_lightning.callbacks.early_stopping import EarlyStopping\n",
    "from pytorch_lightning.callbacks import ModelCheckpoint\n",
    "import os\n",
    "import numpy\n",
    "import warnings \n",
    "\n",
    "from transformers import BertModel, BertTokenizer\n",
    "import re\n",
    "\n",
    "from datasets import load_dataset\n",
    "from datasets import Dataset\n",
    "from datasets import load_from_disk\n",
    "import pandas as pd\n",
    "from sklearn.model_selection import train_test_split\n",
    "from sklearn import preprocessing\n",
    "import torch\n",
    "\n",
    "\n",
    "os.environ[\"CUDA_DEVICE_ORDER\"] = \"PCI_BUS_ID\"\n",
    "os.environ[\"MKL_THREADING_LAYER\"] = \"GNU\"\n",
    "os.environ[\"TOKENIZERS_PARALLELISM\"] = \"true\"\n",
    "\n",
    "\n",
    "num_cpu = 16\n",
    "max_length = 512\n",
    "lr = '1.81e-5'\n",
    "num_labels = 1893\n",
    "max_epch = 24\n",
    "gpu = '4'\n",
    "min_lr = float(8e-12)\n",
    "max_lr = float(4e-06)\n",
    "\n",
    "encoded_csv = \"/mnt/storage/grid/home/eric/hmm2bert/data_prep/encoded_labels_datasets/puffinCaller_encoded_dataset_with8Functional_balanced_labels.csv\"\n",
    "\n",
    "saved_strat_train = \"/mnt/storage/grid/home/eric/hmm2bert/data_prep/tensor_datasets/puffinCaller_with8Functional_balanced_strat_train.pt\"\n",
    "saved_strat_val = \"/mnt/storage/grid/home/eric/hmm2bert/data_prep/tensor_datasets/puffinCaller_with8Functional_balanced_strat_val.pt\""
   ]
  },
  {
   "cell_type": "code",
   "execution_count": 2,
   "metadata": {},
   "outputs": [],
   "source": [
    "# load tokenizer and wandb logger\n",
    "\n",
    "wandb_logger = WandbLogger(name=f\"puffinCaller_classify_domain_2076_labels-{lr}\", project=\"hmm_reBERT\")\n",
    "\n",
    "tokenizer = BertTokenizer.from_pretrained(\"Rostlab/prot_bert\", do_lower_case=False)\n",
    "#model = BertModel.from_pretrained(\"Rostlab/prot_bert\")\n",
    "\n"
   ]
  },
  {
   "cell_type": "code",
   "execution_count": 3,
   "metadata": {
    "collapsed": true,
    "jupyter": {
     "outputs_hidden": true,
     "source_hidden": true
    }
   },
   "outputs": [
    {
     "name": "stderr",
     "output_type": "stream",
     "text": [
      "Using custom data configuration default-96859912a0f29e04\n"
     ]
    },
    {
     "name": "stdout",
     "output_type": "stream",
     "text": [
      "Downloading and preparing dataset csv/default (download: Unknown size, generated: Unknown size, post-processed: Unknown size, total: Unknown size) to /home/eric/.cache/huggingface/datasets/csv/default-96859912a0f29e04/0.0.0/2a88c45fed596f9421a2e7f74ab1a3cd012ef75210a5dc1950e8d60ca8d9c66c...\n"
     ]
    },
    {
     "data": {
      "application/vnd.jupyter.widget-view+json": {
       "model_id": "",
       "version_major": 2,
       "version_minor": 0
      },
      "text/plain": [
       "HBox(children=(FloatProgress(value=1.0, bar_style='info', layout=Layout(width='20px'), max=1.0), HTML(value=''…"
      ]
     },
     "metadata": {},
     "output_type": "display_data"
    },
    {
     "name": "stdout",
     "output_type": "stream",
     "text": [
      "Dataset csv downloaded and prepared to /home/eric/.cache/huggingface/datasets/csv/default-96859912a0f29e04/0.0.0/2a88c45fed596f9421a2e7f74ab1a3cd012ef75210a5dc1950e8d60ca8d9c66c. Subsequent calls will reuse this data.\n",
      "['sequence_ID', 'sequences', 'labels']\n",
      "\n",
      "    sequence_ID                                          sequences  labels\n",
      "0  LasI-sample1  V T E L K L A G T Q K N F E F E F N K M A A F ...     614\n",
      "1  LasI-sample2  K M Q M V Q L G N E Y H L S R D I S Q I F N Q ...     614\n",
      "2  LasI-sample3  E I R I T I T A K L L D F R K I G A E A S R L ...     614\n",
      "3  LasI-sample4  H R A A A R P R L W S S E S Y D K E Q L H E L ...     614\n",
      "4  LasI-sample5  Q A M I I C G G R E H S F Q S S C E S I L S M ...     614\n",
      "                    sequence_ID  \\\n",
      "207595   KS_inactive_1-sample96   \n",
      "207596   KS_inactive_1-sample97   \n",
      "207597   KS_inactive_1-sample98   \n",
      "207598   KS_inactive_1-sample99   \n",
      "207599  KS_inactive_1-sample100   \n",
      "\n",
      "                                                sequences  labels  \n",
      "207595  G V L Q M N C H A A S T E A Y C A F W D V I T ...    1619  \n",
      "207596  L I I G A A A G F V S S K T T K A Q G Y W L L ...    1619  \n",
      "207597  A I V G V T D V Y S A A A E R D E V W H E V L ...    1619  \n",
      "207598  A I I V P A G Q Y R D G S T T A V F W A I K T ...    1619  \n",
      "207599  A T E A D N P L H P H I P K V Y F R E L L H V ...    1619  \n"
     ]
    }
   ],
   "source": [
    "# load encoded label csv to huggingface dataset AND pandas dataframe\n",
    "dataset = load_dataset('csv', data_files=encoded_csv)\n",
    "df = pd.read_csv(encoded_csv)\n",
    "dataset1 = dataset['train']\n",
    "print(dataset1.column_names)\n",
    "print(\"\")\n",
    "print(df.head())\n",
    "print(df.tail())"
   ]
  },
  {
   "cell_type": "code",
   "execution_count": 4,
   "metadata": {
    "collapsed": true,
    "jupyter": {
     "outputs_hidden": true,
     "source_hidden": true
    }
   },
   "outputs": [
    {
     "name": "stdout",
     "output_type": "stream",
     "text": [
      "155700\n",
      "51900\n"
     ]
    }
   ],
   "source": [
    "# separate dataset into training and validation based on 'Labels' column in dataset\n",
    "\n",
    "num_rows_list = list(range(len(dataset1)))\n",
    "strat_train, strat_test = train_test_split(num_rows_list, stratify=dataset1['labels'], random_state=420)\n",
    "\n",
    "print(len(strat_train))\n",
    "print(len(strat_test))"
   ]
  },
  {
   "cell_type": "code",
   "execution_count": 5,
   "metadata": {
    "collapsed": true,
    "jupyter": {
     "outputs_hidden": true,
     "source_hidden": true
    }
   },
   "outputs": [
    {
     "data": {
      "application/vnd.jupyter.widget-view+json": {
       "model_id": "90cc8facd0b54ef9896145f0fe44cb3e",
       "version_major": 2,
       "version_minor": 0
      },
      "text/plain": [
       "HBox(children=(FloatProgress(value=0.0, max=156.0), HTML(value='')))"
      ]
     },
     "metadata": {},
     "output_type": "display_data"
    },
    {
     "name": "stderr",
     "output_type": "stream",
     "text": [
      "remove_columns_ is deprecated and will be removed in the next major version of datasets. Use the dataset.remove_columns method instead.\n"
     ]
    },
    {
     "name": "stdout",
     "output_type": "stream",
     "text": [
      "\n"
     ]
    },
    {
     "data": {
      "application/vnd.jupyter.widget-view+json": {
       "model_id": "d0076fa3aa78489e9baac108ec13c59a",
       "version_major": 2,
       "version_minor": 0
      },
      "text/plain": [
       "HBox(children=(FloatProgress(value=0.0, max=52.0), HTML(value='')))"
      ]
     },
     "metadata": {},
     "output_type": "display_data"
    },
    {
     "name": "stdout",
     "output_type": "stream",
     "text": [
      "\n"
     ]
    }
   ],
   "source": [
    "#pass strat_train and strat_test into bioformers encoding function\n",
    "\n",
    "strat_train_dataset = dataset_utils.encode_dataset(\n",
    "    subset=Dataset.from_pandas(df.iloc[strat_train]),\n",
    "    tokenizer=tokenizer,\n",
    "    key=\"sequences\",\n",
    "    include_labels=True,\n",
    "    padding=\"max_length\",\n",
    "    max_length=512,\n",
    "    truncation=True\n",
    ")\n",
    "\n",
    "strat_train_dataset1 = strat_train_dataset.remove_columns(['sequence_ID', '__index_level_0__'])\n",
    "\n",
    "torch.save(strat_train_dataset1, saved_strat_train)\n",
    "\n",
    "strat_test_dataset = dataset_utils.encode_dataset(\n",
    "    subset=Dataset.from_pandas(df.iloc[strat_test]),\n",
    "    tokenizer=tokenizer,\n",
    "    key=\"sequences\",\n",
    "    include_labels=True,\n",
    "    padding=\"max_length\",\n",
    "    max_length=512,\n",
    "    truncation=True\n",
    ")\n",
    "\n",
    "strat_test_dataset1 = strat_test_dataset.remove_columns(['sequence_ID', '__index_level_0__'])\n",
    "\n",
    "torch.save(strat_test_dataset1, saved_strat_val)"
   ]
  },
  {
   "cell_type": "markdown",
   "metadata": {},
   "source": [
    "# ==========================================================="
   ]
  },
  {
   "cell_type": "code",
   "execution_count": 3,
   "metadata": {},
   "outputs": [
    {
     "name": "stderr",
     "output_type": "stream",
     "text": [
      "Some weights of the model checkpoint at Rostlab/prot_bert were not used when initializing BertForSequenceClassification: ['cls.predictions.bias', 'cls.predictions.transform.dense.weight', 'cls.predictions.transform.dense.bias', 'cls.predictions.transform.LayerNorm.weight', 'cls.predictions.transform.LayerNorm.bias', 'cls.predictions.decoder.weight', 'cls.predictions.decoder.bias', 'cls.seq_relationship.weight', 'cls.seq_relationship.bias']\n",
      "- This IS expected if you are initializing BertForSequenceClassification from the checkpoint of a model trained on another task or with another architecture (e.g. initializing a BertForSequenceClassification model from a BertForPreTraining model).\n",
      "- This IS NOT expected if you are initializing BertForSequenceClassification from the checkpoint of a model that you expect to be exactly identical (initializing a BertForSequenceClassification model from a BertForSequenceClassification model).\n",
      "Some weights of BertForSequenceClassification were not initialized from the model checkpoint at Rostlab/prot_bert and are newly initialized: ['classifier.weight', 'classifier.bias']\n",
      "You should probably TRAIN this model on a down-stream task to be able to use it for predictions and inference.\n"
     ]
    }
   ],
   "source": [
    "#load train and test tensors and instantiate pytorch lightning wrapper for the huggingface model with the base pretrained protbert model\n",
    "\n",
    "encoded_train = torch.load(saved_strat_train)\n",
    "encoded_test = torch.load(saved_strat_val)\n",
    "\n",
    "bsc = BertSeqClassification(pretrained_dir=\"Rostlab/prot_bert\", use_adafactor=True, num_labels=num_labels)"
   ]
  },
  {
   "cell_type": "code",
   "execution_count": 4,
   "metadata": {},
   "outputs": [
    {
     "name": "stderr",
     "output_type": "stream",
     "text": [
      "GPU available: True, used: True\n",
      "TPU available: False, using: 0 TPU cores\n"
     ]
    }
   ],
   "source": [
    "# setup data collator, trainer, and dataloader for train and test dataset\n",
    "\n",
    "data_collator = DataCollatorWithPadding(tokenizer=tokenizer)\n",
    "\n",
    "trainer = Trainer(\n",
    "    max_epochs=max_epch,\n",
    "    gpus=gpu,\n",
    "    auto_lr_find=False,\n",
    "    logger=wandb_logger\n",
    ")\n",
    "\n",
    "warnings.filterwarnings(\"ignore\")\n",
    "\n",
    "train_dl = DataLoader(encoded_train, batch_size=4, num_workers=num_cpu, collate_fn=data_collator, shuffle=True)\n",
    "eval_dl = DataLoader(encoded_test, batch_size=4, num_workers=num_cpu, collate_fn=data_collator, shuffle=False)"
   ]
  },
  {
   "cell_type": "code",
   "execution_count": 5,
   "metadata": {},
   "outputs": [
    {
     "name": "stderr",
     "output_type": "stream",
     "text": [
      "LOCAL_RANK: 0 - CUDA_VISIBLE_DEVICES: [0,1,2,3,4,5,6,7]\n",
      "\n",
      "  | Name | Type                          | Params\n",
      "-------------------------------------------------------\n",
      "0 | bert | BertForSequenceClassification | 421 M \n",
      "-------------------------------------------------------\n",
      "421 M     Trainable params\n",
      "0         Non-trainable params\n",
      "421 M     Total params\n",
      "1,687.486 Total estimated model params size (MB)\n"
     ]
    },
    {
     "data": {
      "application/vnd.jupyter.widget-view+json": {
       "model_id": "86f6551f50564a108bf9eaeb0193e476",
       "version_major": 2,
       "version_minor": 0
      },
      "text/plain": [
       "HBox(children=(FloatProgress(value=0.0, description='Finding best initial lr', style=ProgressStyle(description…"
      ]
     },
     "metadata": {},
     "output_type": "display_data"
    },
    {
     "name": "stderr",
     "output_type": "stream",
     "text": [
      "Restored states from the checkpoint file at /mnt/storage/grid/home/eric/hmm2bert/work/puffinCaller_specific/lr_find_temp_model.ckpt\n"
     ]
    }
   ],
   "source": [
    "lr_finder = trainer.tuner.lr_find(bsc, train_dataloader=train_dl, min_lr=min_lr, max_lr=max_lr, num_training=100, mode='exponential', early_stop_threshold=4)"
   ]
  },
  {
   "cell_type": "code",
   "execution_count": 6,
   "metadata": {},
   "outputs": [
    {
     "data": {
      "text/plain": [
       "{'lr': [8e-12,\n",
       "  1.0400863267864644e-11,\n",
       "  1.1859300866875452e-11,\n",
       "  1.3522244589602e-11,\n",
       "  1.5418370846105028e-11,\n",
       "  1.7580377131384108e-11,\n",
       "  2.0045545872946113e-11,\n",
       "  2.285638734262757e-11,\n",
       "  2.6061372719277615e-11,\n",
       "  2.971576994350269e-11,\n",
       "  3.388259677825803e-11,\n",
       "  3.863370751021166e-11,\n",
       "  4.4051032031356614e-11,\n",
       "  5.022798866804837e-11,\n",
       "  5.727109512080823e-11,\n",
       "  6.530180529452821e-11,\n",
       "  7.445860369404956e-11,\n",
       "  8.489939350163843e-11,\n",
       "  9.680421951724131e-11,\n",
       "  1.103783729168972e-10,\n",
       "  1.258559313688976e-10,\n",
       "  1.435037955547527e-10,\n",
       "  1.6362629170220763e-10,\n",
       "  1.8657041949807308e-10,\n",
       "  2.1273183587779955e-10,\n",
       "  2.425616778784508e-10,\n",
       "  2.7657434221085195e-10,\n",
       "  3.153563557046994e-10,\n",
       "  3.5957648959183433e-10,\n",
       "  4.0999729204208296e-10,\n",
       "  4.67488237822928e-10,\n",
       "  5.330407218405593e-10,\n",
       "  6.077851551164079e-10,\n",
       "  6.930104580084412e-10,\n",
       "  7.901862868254575e-10,\n",
       "  9.009883771182557e-10,\n",
       "  1.0273274406766573e-09,\n",
       "  1.1713821145427808e-09,\n",
       "  1.335636530225405e-09,\n",
       "  1.5229231509727033e-09,\n",
       "  1.7364716158049493e-09,\n",
       "  1.979964432591583e-09,\n",
       "  2.2576004805644083e-09,\n",
       "  2.574167417327532e-09,\n",
       "  2.9351242389769914e-09,\n",
       "  3.3466954170269924e-09,\n",
       "  3.815978235474367e-09,\n",
       "  4.351065178960872e-09,\n",
       "  4.961183482539537e-09,\n",
       "  5.6568542494923804e-09,\n",
       "  6.450073881085285e-09,\n",
       "  7.354520946901166e-09,\n",
       "  8.385792063099137e-09,\n",
       "  9.561670846170681e-09,\n",
       "  1.0902434580129838e-08,\n",
       "  1.2431203885418613e-08,\n",
       "  1.4174341419346197e-08,\n",
       "  1.6161906483398317e-08,\n",
       "  1.8428173376831287e-08,\n",
       "  2.101222243523013e-08,\n",
       "  2.3958613946115717e-08,\n",
       "  2.7318156562848315e-08,\n",
       "  3.114878346763808e-08,\n",
       "  3.551655139253806e-08,\n",
       "  4.04967797259033e-08,\n",
       "  4.617534934748452e-08,\n",
       "  5.2650183589744175e-08,\n",
       "  6.003293686363369e-08,\n",
       "  6.845092006811242e-08,\n",
       "  7.804929598587552e-08,\n",
       "  8.899358252349618e-08,\n",
       "  1.0147250696277353e-07,\n",
       "  1.1570126044303908e-07,\n",
       "  1.3192520879590633e-07,\n",
       "  1.5042412372345573e-07,\n",
       "  1.7151700728383954e-07,\n",
       "  1.955675928795022e-07,\n",
       "  2.2299061760906995e-07,\n",
       "  2.5425897414564026e-07,\n",
       "  2.8991186547107835e-07,\n",
       "  3.3056410308954205e-07,\n",
       "  3.7691670906203144e-07,\n",
       "  4.2976900468732944e-07,\n",
       "  4.900323942909636e-07,\n",
       "  5.587460818148992e-07,\n",
       "  6.37094991230581e-07,\n",
       "  7.264301998014849e-07,\n",
       "  8.282922365538374e-07,\n",
       "  9.44437647722855e-07,\n",
       "  1.0768692872787828e-06,\n",
       "  1.227870854873642e-06,\n",
       "  1.4000462767936841e-06,\n",
       "  1.596364609017103e-06,\n",
       "  1.8202112367017584e-06,\n",
       "  2.0754462530056336e-06,\n",
       "  2.366471023945725e-06,\n",
       "  2.6983040871642013e-06,\n",
       "  3.076667693427891e-06,\n",
       "  3.508086483214398e-06,\n",
       "  4e-06],\n",
       " 'loss': [7.552349090576172,\n",
       "  7.6010707701095335,\n",
       "  7.595241212436182,\n",
       "  7.593479075962345,\n",
       "  7.599467597724051,\n",
       "  7.586060352089096,\n",
       "  7.57425928422258,\n",
       "  7.5856113309516315,\n",
       "  7.594494122666235,\n",
       "  7.589673098686177,\n",
       "  7.602994185811443,\n",
       "  7.604497260386777,\n",
       "  7.6073021340614515,\n",
       "  7.599976719295335,\n",
       "  7.593985062848167,\n",
       "  7.584387975486246,\n",
       "  7.587792443810682,\n",
       "  7.578987214202829,\n",
       "  7.569970712978821,\n",
       "  7.575052013300849,\n",
       "  7.568866514793658,\n",
       "  7.562109706019396,\n",
       "  7.562441584456232,\n",
       "  7.562244021305282,\n",
       "  7.565502840067023,\n",
       "  7.560645447514743,\n",
       "  7.564829614883158,\n",
       "  7.568807971161248,\n",
       "  7.572402607161667,\n",
       "  7.569364608336081,\n",
       "  7.570523357275808,\n",
       "  7.571236590673564,\n",
       "  7.569107968801161,\n",
       "  7.571732701032754,\n",
       "  7.569741949082482,\n",
       "  7.570122146542819,\n",
       "  7.572369135706191,\n",
       "  7.571208703460935,\n",
       "  7.575848590340761,\n",
       "  7.574618688120691,\n",
       "  7.575393856062673,\n",
       "  7.575817588820723,\n",
       "  7.578179356775012,\n",
       "  7.576503309870774,\n",
       "  7.572736458816671,\n",
       "  7.578476182227625,\n",
       "  7.5760918493164136,\n",
       "  7.573877924040605,\n",
       "  7.571986577586959,\n",
       "  7.5684337957692085,\n",
       "  7.565200668965056,\n",
       "  7.568130415783288,\n",
       "  7.569973323107117,\n",
       "  7.566400237611808,\n",
       "  7.563772571555304,\n",
       "  7.563801449482908,\n",
       "  7.568435918018783,\n",
       "  7.570154334393459,\n",
       "  7.5714816489410355,\n",
       "  7.571103695399405,\n",
       "  7.571957006790038,\n",
       "  7.570424051243943,\n",
       "  7.571665816986162,\n",
       "  7.5720525316561424,\n",
       "  7.568718524196471,\n",
       "  7.5729507743008515,\n",
       "  7.573304401901693,\n",
       "  7.572046932096199,\n",
       "  7.570076062890146,\n",
       "  7.572262281833991,\n",
       "  7.572180165359918,\n",
       "  7.570110515700661,\n",
       "  7.56759335696303,\n",
       "  7.567283257654392,\n",
       "  7.5677905415335,\n",
       "  7.563710982636647,\n",
       "  7.56113847882985,\n",
       "  7.561690503985849,\n",
       "  7.562326962640219,\n",
       "  7.561257243345869,\n",
       "  7.5597432552274375,\n",
       "  7.559261942014549,\n",
       "  7.56013396932431,\n",
       "  7.560996227290585,\n",
       "  7.562199769725973,\n",
       "  7.562427655633991,\n",
       "  7.559480917308844,\n",
       "  7.5615539384311425,\n",
       "  7.561310233111916,\n",
       "  7.56247074453865,\n",
       "  7.5634437182250185,\n",
       "  7.563639644932843,\n",
       "  7.564454568595314,\n",
       "  7.564522188783677,\n",
       "  7.561367082554766,\n",
       "  7.559709848991808,\n",
       "  7.560543732792503,\n",
       "  7.557496693855972,\n",
       "  7.558911197469121,\n",
       "  7.560539190142898]}"
      ]
     },
     "execution_count": 6,
     "metadata": {},
     "output_type": "execute_result"
    }
   ],
   "source": [
    "lr_finder.results"
   ]
  },
  {
   "cell_type": "code",
   "execution_count": null,
   "metadata": {},
   "outputs": [],
   "source": []
  },
  {
   "cell_type": "code",
   "execution_count": null,
   "metadata": {},
   "outputs": [],
   "source": [
    "# lowest = forgot to enter\n",
    "\n",
    "fig = lr_finder.plot(suggest=True)\n",
    "fig.show()\n",
    "\n",
    "new_lr = lr_finder.suggestion()\n",
    "print(\"suggested lr: \" + str(new_lr))\n",
    "print(\"min lr: \" + str(min_lr))\n",
    "print(\"max lr: \" + str(max_lr))"
   ]
  },
  {
   "cell_type": "markdown",
   "metadata": {},
   "source": [
    "# =====LR Finder====="
   ]
  },
  {
   "cell_type": "code",
   "execution_count": 7,
   "metadata": {},
   "outputs": [
    {
     "name": "stdout",
     "output_type": "stream",
     "text": [
      "\n",
      "suggested lr: 8.489939350163843e-11\n",
      "min lr: 8e-12\n",
      "max lr: 4e-06\n"
     ]
    },
    {
     "data": {
      "image/png": "[encoded data removed]",
      "text/plain": [
       "<Figure size 432x288 with 1 Axes>"
      ]
     },
     "metadata": {
      "needs_background": "light"
     },
     "output_type": "display_data"
    }
   ],
   "source": [
    "# lowest = forgot to enter\n",
    "\n",
    "fig = lr_finder.plot(suggest=True)\n",
    "fig.show()\n",
    "\n",
    "new_lr = lr_finder.suggestion()\n",
    "print(\"suggested lr: \" + str(new_lr))\n",
    "print(\"min lr: \" + str(min_lr))\n",
    "print(\"max lr: \" + str(max_lr))"
   ]
  },
  {
   "cell_type": "code",
   "execution_count": 7,
   "metadata": {
    "jupyter": {
     "source_hidden": true
    }
   },
   "outputs": [
    {
     "name": "stdout",
     "output_type": "stream",
     "text": [
      "\n",
      "suggested lr: 4.534760856944833e-11\n",
      "min lr: 8e-12\n",
      "max lr: 5e-06\n"
     ]
    },
    {
     "data": {
      "image/png": "[encoded data removed]",
      "text/plain": [
       "<Figure size 432x288 with 1 Axes>"
      ]
     },
     "metadata": {
      "needs_background": "light"
     },
     "output_type": "display_data"
    }
   ],
   "source": [
    "# lowest = forgot to enter\n",
    "\n",
    "fig = lr_finder.plot(suggest=True)\n",
    "fig.show()\n",
    "\n",
    "new_lr = lr_finder.suggestion()\n",
    "print(\"suggested lr: \" + str(new_lr))\n",
    "print(\"min lr: \" + str(min_lr))\n",
    "print(\"max lr: \" + str(max_lr))"
   ]
  },
  {
   "cell_type": "code",
   "execution_count": 7,
   "metadata": {
    "jupyter": {
     "source_hidden": true
    }
   },
   "outputs": [
    {
     "name": "stdout",
     "output_type": "stream",
     "text": [
      "\n",
      "suggested lr: 6.9183097091893656e-12\n",
      "min lr: 1e-12\n",
      "max lr: 1e-06\n"
     ]
    },
    {
     "data": {
      "image/png": "[encoded data removed]",
      "text/plain": [
       "<Figure size 432x288 with 1 Axes>"
      ]
     },
     "metadata": {
      "needs_background": "light"
     },
     "output_type": "display_data"
    }
   ],
   "source": [
    "#6.918e-12\n",
    "\n",
    "fig = lr_finder.plot(suggest=True)\n",
    "fig.show()\n",
    "\n",
    "new_lr = lr_finder.suggestion()\n",
    "print(\"suggested lr: \" + str(new_lr))\n",
    "print(\"min lr: \" + str(min_lr))\n",
    "print(\"max lr: \" + str(max_lr))"
   ]
  },
  {
   "cell_type": "code",
   "execution_count": 7,
   "metadata": {
    "jupyter": {
     "source_hidden": true
    }
   },
   "outputs": [
    {
     "name": "stdout",
     "output_type": "stream",
     "text": [
      "\n",
      "suggested lr: 3.4616169045053753e-11\n",
      "min lr: 5e-12\n",
      "max lr: 2e-06\n"
     ]
    },
    {
     "data": {
      "image/png": "[encoded data removed]",
      "text/plain": [
       "<Figure size 432x288 with 1 Axes>"
      ]
     },
     "metadata": {
      "needs_background": "light"
     },
     "output_type": "display_data"
    }
   ],
   "source": [
    "# lowest = forgot to enter\n",
    "\n",
    "fig = lr_finder.plot(suggest=True)\n",
    "fig.show()\n",
    "\n",
    "new_lr = lr_finder.suggestion()\n",
    "print(\"suggested lr: \" + str(new_lr))\n",
    "print(\"min lr: \" + str(min_lr))\n",
    "print(\"max lr: \" + str(max_lr))"
   ]
  },
  {
   "cell_type": "code",
   "execution_count": 7,
   "metadata": {
    "jupyter": {
     "source_hidden": true
    }
   },
   "outputs": [
    {
     "name": "stdout",
     "output_type": "stream",
     "text": [
      "\n",
      "suggested lr: 5.022798866804837e-11\n",
      "min lr: 8e-12\n",
      "max lr: 4e-06\n"
     ]
    },
    {
     "data": {
      "image/png": "[encoded data removed]",
      "text/plain": [
       "<Figure size 432x288 with 1 Axes>"
      ]
     },
     "metadata": {
      "needs_background": "light"
     },
     "output_type": "display_data"
    }
   ],
   "source": [
    "# lowest = forgot to enter\n",
    "\n",
    "fig = lr_finder.plot(suggest=True)\n",
    "fig.show()\n",
    "\n",
    "new_lr = lr_finder.suggestion()\n",
    "print(\"suggested lr: \" + str(new_lr))\n",
    "print(\"min lr: \" + str(min_lr))\n",
    "print(\"max lr: \" + str(max_lr))"
   ]
  },
  {
   "cell_type": "code",
   "execution_count": 7,
   "metadata": {
    "jupyter": {
     "source_hidden": true
    }
   },
   "outputs": [
    {
     "name": "stdout",
     "output_type": "stream",
     "text": [
      "\n",
      "suggested lr: 5.1821882995084935e-11\n",
      "min lr: 8e-12\n",
      "max lr: 5e-06\n"
     ]
    },
    {
     "data": {
      "image/png": "[encoded data removed]",
      "text/plain": [
       "<Figure size 432x288 with 1 Axes>"
      ]
     },
     "metadata": {
      "needs_background": "light"
     },
     "output_type": "display_data"
    }
   ],
   "source": [
    "# lowest = forgot to enter\n",
    "\n",
    "fig = lr_finder.plot(suggest=True)\n",
    "fig.show()\n",
    "\n",
    "new_lr = lr_finder.suggestion()\n",
    "print(\"suggested lr: \" + str(new_lr))\n",
    "print(\"min lr: \" + str(min_lr))\n",
    "print(\"max lr: \" + str(max_lr))"
   ]
  },
  {
   "cell_type": "code",
   "execution_count": 7,
   "metadata": {
    "jupyter": {
     "source_hidden": true
    }
   },
   "outputs": [
    {
     "name": "stdout",
     "output_type": "stream",
     "text": [
      "\n",
      "suggested lr: 6.086241436639435e-11\n",
      "min lr: 8e-12\n",
      "max lr: 6e-06\n"
     ]
    },
    {
     "data": {
      "image/png": "[encoded data removed]",
      "text/plain": [
       "<Figure size 432x288 with 1 Axes>"
      ]
     },
     "metadata": {
      "needs_background": "light"
     },
     "output_type": "display_data"
    }
   ],
   "source": [
    "# lowest = forgot to enter\n",
    "\n",
    "fig = lr_finder.plot(suggest=True)\n",
    "fig.show()\n",
    "\n",
    "new_lr = lr_finder.suggestion()\n",
    "print(\"suggested lr: \" + str(new_lr))\n",
    "print(\"min lr: \" + str(min_lr))\n",
    "print(\"max lr: \" + str(max_lr))"
   ]
  },
  {
   "cell_type": "code",
   "execution_count": 10,
   "metadata": {
    "jupyter": {
     "source_hidden": true
    }
   },
   "outputs": [
    {
     "name": "stdout",
     "output_type": "stream",
     "text": [
      "\n",
      "suggested lr: 1.0669074433586395e-07\n",
      "min lr: 8e-12\n",
      "max lr: 6e-05\n"
     ]
    },
    {
     "data": {
      "image/png": "[encoded data removed]",
      "text/plain": [
       "<Figure size 432x288 with 1 Axes>"
      ]
     },
     "metadata": {
      "needs_background": "light"
     },
     "output_type": "display_data"
    }
   ],
   "source": [
    "# lowest = forgot to enter\n",
    "\n",
    "fig = lr_finder.plot(suggest=True)\n",
    "fig.show()\n",
    "\n",
    "new_lr = lr_finder.suggestion()\n",
    "print(\"suggested lr: \" + str(new_lr))\n",
    "print(\"min lr: \" + str(min_lr))\n",
    "print(\"max lr: \" + str(max_lr))"
   ]
  },
  {
   "cell_type": "code",
   "execution_count": null,
   "metadata": {},
   "outputs": [],
   "source": []
  }
 ],
 "metadata": {
  "kernelspec": {
   "display_name": "dnabert",
   "language": "python",
   "name": "dnabert"
  },
  "language_info": {
   "codemirror_mode": {
    "name": "ipython",
    "version": 3
   },
   "file_extension": ".py",
   "mimetype": "text/x-python",
   "name": "python",
   "nbconvert_exporter": "python",
   "pygments_lexer": "ipython3",
   "version": "3.6.13"
  }
 },
 "nbformat": 4,
 "nbformat_minor": 4
}
