{
 "cells": [
  {
   "cell_type": "code",
   "execution_count": 1,
   "metadata": {},
   "outputs": [],
   "source": [
    "from bioformers.datasets.ArrowDataset import ArrowDataset\n",
    "from bioformers.datasets import dataset_utils\n",
    "from bioformers.utilize.Bert import BertSeqClassification\n",
    "from torch.utils.data import DataLoader\n",
    "from transformers import DataCollatorWithPadding\n",
    "from pytorch_lightning import Trainer\n",
    "from pytorch_lightning.loggers import WandbLogger\n",
    "from pytorch_lightning.callbacks.early_stopping import EarlyStopping\n",
    "from pytorch_lightning.callbacks import ModelCheckpoint\n",
    "import os\n",
    "import numpy\n",
    "import warnings \n",
    "\n",
    "from transformers import BertModel, BertTokenizer, BertForSequenceClassification, pipeline\n",
    "import re\n",
    "\n",
    "from datasets import load_dataset\n",
    "from datasets import Dataset\n",
    "from datasets import load_from_disk\n",
    "import pandas as pd\n",
    "from sklearn.model_selection import train_test_split\n",
    "from sklearn import preprocessing\n",
    "import torch\n",
    "from sklearn import metrics\n",
    "\n",
    "from matplotlib import pyplot as plt\n",
    "\n",
    "os.environ[\"CUDA_DEVICE_ORDER\"] = \"PCI_BUS_ID\"\n",
    "os.environ[\"MKL_THREADING_LAYER\"] = \"GNU\"\n",
    "os.environ[\"TOKENIZERS_PARALLELISM\"] = \"true\"\n",
    "\n",
    "\n",
    "gpu_idx = 2\n",
    "encoded_csv = \"/mnt/storage/grid/home/eric/hmm2bert/data_prep/onlyFunctional_encoded_labels_dataset.csv\"\n",
    "model_path = \"/mnt/storage/grid/home/eric/hmm2bert/models/classify_onlyFunctional_domain_saved_model_maxepch11_1gpu.pt\" #single gpu saved model"
   ]
  },
  {
   "cell_type": "code",
   "execution_count": 3,
   "metadata": {},
   "outputs": [
    {
     "name": "stderr",
     "output_type": "stream",
     "text": [
      "Using custom data configuration default-29e67f854b946c6e\n",
      "Reusing dataset csv (/home/eric/.cache/huggingface/datasets/csv/default-29e67f854b946c6e/0.0.0/2a88c45fed596f9421a2e7f74ab1a3cd012ef75210a5dc1950e8d60ca8d9c66c)\n"
     ]
    }
   ],
   "source": [
    "# load encoded_labels_dataset csv to huggingface dataset AND pandas dataframe\n",
    "dataset = load_dataset('csv', data_files=encoded_csv)\n",
    "df = pd.read_csv(encoded_csv)\n",
    "dataset1 = dataset['train']"
   ]
  },
  {
   "cell_type": "code",
   "execution_count": 4,
   "metadata": {},
   "outputs": [],
   "source": [
    "#split the dataset into train and test, this produces a list with the row positions\n",
    "num_rows_list = list(range(len(dataset1)))\n",
    "strat_train, strat_test = train_test_split(num_rows_list, stratify=dataset1['labels'], random_state=420)"
   ]
  },
  {
   "cell_type": "code",
   "execution_count": 5,
   "metadata": {},
   "outputs": [
    {
     "name": "stdout",
     "output_type": "stream",
     "text": [
      "length: 887\n"
     ]
    }
   ],
   "source": [
    "#take row positions and use .iloc to select the specific row positions for test dataset\n",
    "strat_test_dataset = Dataset.from_pandas(df.iloc[strat_test])\n",
    "\n",
    "print(\"length: \" + str(len(strat_test_dataset)))"
   ]
  },
  {
   "cell_type": "code",
   "execution_count": 10,
   "metadata": {},
   "outputs": [
    {
     "name": "stdout",
     "output_type": "stream",
     "text": [
      "Model is frozen\n",
      "<class 'bioformers.utilize.Bert.BertSeqClassification'>\n"
     ]
    }
   ],
   "source": [
    "#load fine-tuned model and set it to eval mode to freeze layers\n",
    "\n",
    "model = torch.load(model_path) #single gpu trained model saved\n",
    "\n",
    "#bsc = BertSeqClassification(pretrained_dir=\"Rostlab/prot_bert\", use_adafactor=True, num_labels=33)\n",
    "\n",
    "model.eval()\n",
    "print(\"Model is frozen\")\n",
    "print(type(model))"
   ]
  },
  {
   "cell_type": "code",
   "execution_count": 11,
   "metadata": {},
   "outputs": [],
   "source": [
    "#define tokenizer and pipeline for loaded in model (why do i need .bert after my model??)\n",
    "\n",
    "tokenizer = BertTokenizer.from_pretrained(\"Rostlab/prot_bert\", do_lower_case=False)\n",
    "meatpipe = pipeline(task=\"sentiment-analysis\", model=model.bert, tokenizer=tokenizer, device=gpu_idx) #single gpu\n"
   ]
  },
  {
   "cell_type": "code",
   "execution_count": 12,
   "metadata": {},
   "outputs": [
    {
     "data": {
      "application/vnd.jupyter.widget-view+json": {
       "model_id": "6fb000fe2e6c4d45bf8e1557bfb90532",
       "version_major": 2,
       "version_minor": 0
      },
      "text/plain": [
       "HBox(children=(FloatProgress(value=0.0, max=887.0), HTML(value='')))"
      ]
     },
     "metadata": {},
     "output_type": "display_data"
    },
    {
     "name": "stdout",
     "output_type": "stream",
     "text": [
      "\n"
     ]
    }
   ],
   "source": [
    "#use .map to create new dataset containing our strat_test_dataset along with predicted labels and confidence value\n",
    "#to understand more look at example at bottom of page\n",
    "\n",
    "ds_with_embeddings = strat_test_dataset.map(lambda x: \n",
    "    {\n",
    "        'y_pred': int(meatpipe(x['sequences'])[0]['label'].split('_')[1]),\n",
    "        'confidence': meatpipe(x['sequences'])[0]['score']\n",
    "    }\n",
    ")"
   ]
  },
  {
   "cell_type": "code",
   "execution_count": 15,
   "metadata": {},
   "outputs": [
    {
     "data": {
      "text/plain": [
       "0.85456595264938"
      ]
     },
     "execution_count": 15,
     "metadata": {},
     "output_type": "execute_result"
    }
   ],
   "source": [
    "metrics.accuracy_score(ds_with_embeddings['labels'], ds_with_embeddings['y_pred'])"
   ]
  },
  {
   "cell_type": "code",
   "execution_count": 16,
   "metadata": {},
   "outputs": [
    {
     "data": {
      "text/plain": [
       "0.7742413243850914"
      ]
     },
     "execution_count": 16,
     "metadata": {},
     "output_type": "execute_result"
    }
   ],
   "source": [
    "metrics.balanced_accuracy_score(ds_with_embeddings['labels'], ds_with_embeddings['y_pred'])"
   ]
  },
  {
   "cell_type": "code",
   "execution_count": 17,
   "metadata": {},
   "outputs": [],
   "source": [
    "matrix = metrics.confusion_matrix(ds_with_embeddings['labels'], ds_with_embeddings['y_pred'])"
   ]
  },
  {
   "cell_type": "code",
   "execution_count": 18,
   "metadata": {},
   "outputs": [
    {
     "name": "stdout",
     "output_type": "stream",
     "text": [
      "<sklearn.metrics._plot.confusion_matrix.ConfusionMatrixDisplay object at 0x7f7f6c19edd8>\n"
     ]
    },
    {
     "data": {
      "image/png": "[encoded data removed]",
      "text/plain": [
       "<Figure size 1440x1440 with 2 Axes>"
      ]
     },
     "metadata": {
      "needs_background": "light"
     },
     "output_type": "display_data"
    }
   ],
   "source": [
    "fig, ax = plt.subplots(figsize=(20, 20))\n",
    "display = metrics.ConfusionMatrixDisplay(confusion_matrix=matrix)\n",
    "print(display.plot(ax=ax, values_format=\"d\"))"
   ]
  },
  {
   "cell_type": "markdown",
   "metadata": {},
   "source": [
    "# =======Understanding the code======="
   ]
  },
  {
   "cell_type": "code",
   "execution_count": 15,
   "metadata": {},
   "outputs": [
    {
     "data": {
      "application/vnd.jupyter.widget-view+json": {
       "model_id": "4a647fca1f314b39a9b2397568978046",
       "version_major": 2,
       "version_minor": 0
      },
      "text/plain": [
       "HBox(children=(FloatProgress(value=0.0), HTML(value='')))"
      ]
     },
     "metadata": {},
     "output_type": "display_data"
    },
    {
     "name": "stdout",
     "output_type": "stream",
     "text": [
      "\n"
     ]
    }
   ],
   "source": [
    "#create a new dataset with .map funcion on strat_test_dataset with lambda function that runs through each row creating a dict with keys 'y_pred' and 'confidence'\n",
    "#y_pred value function: when passing the sequences column through the model pipeline (to tokenize and then evaluate), the result generated is a list of dicts where each dict contains the keys\n",
    "#'label' and 'score', the value of key 'label' is the model predicted label while the value of key 'score' is the model's confidence that the predicted label is right\n",
    "#y_pred: the first dict (specified by the [0] after meatpipe(x['sequences'])) produced by the sequence passed into the pipeline (there will only be 1 dict produced at a time because of how .map works)\n",
    "#fromt he first dict, select the value corresponding to the key 'label' and split the value into a list by underscore and select the second value of the list produced by the split (this is from [1] after the split and\n",
    "#is because the prediction is stored as a string e.g. 'LABEL_0', and needs to be split to only get the number prediction without any words) and then convert that number value selected from the list which is\n",
    "#currently a string type to a integer type\n",
    "#the second key 'confidence' contains ta value calculated by passing in the sequences through the pipeline and taking the first dict outputted (specified by the [0] after the pipeline) and selecting the value housed\n",
    "#in the key 'score' \n",
    "\n",
    "ds_with_embeddings = strat_test_dataset.map(lambda x: \n",
    "    {\n",
    "        'y_pred': int(meatpipe(x['sequences'])[0]['label'].split('_')[1]),\n",
    "        'confidence': meatpipe(x['sequences'])[0]['score']\n",
    "    }\n",
    ")"
   ]
  },
  {
   "cell_type": "code",
   "execution_count": 16,
   "metadata": {},
   "outputs": [
    {
     "name": "stdout",
     "output_type": "stream",
     "text": [
      "[{'label': 'LABEL_13', 'score': 0.6869746446609497}, {'label': 'LABEL_17', 'score': 0.4010418653488159}, {'label': 'LABEL_15', 'score': 0.6546763777732849}, {'label': 'LABEL_15', 'score': 0.8642116785049438}, {'label': 'LABEL_15', 'score': 0.7615765929222107}]\n"
     ]
    }
   ],
   "source": [
    "temp = meatpipe(strat_test_dataset['sequences'])\n",
    "print(temp[:5])"
   ]
  },
  {
   "cell_type": "code",
   "execution_count": 65,
   "metadata": {},
   "outputs": [
    {
     "data": {
      "text/plain": [
       "'0'"
      ]
     },
     "execution_count": 65,
     "metadata": {},
     "output_type": "execute_result"
    }
   ],
   "source": [
    "#this will take the 6th dict (because starts at 0) stored in the list produced by pipeline\n",
    "#['label'] specifies to take the value stored in the key 'label' in the 6th dict in the list and to split that value (which is a string type) by underscore symbol (creating a list of the split strings)\n",
    "#and then to take the second value of the split strings list (which is the predicted label)\n",
    "\n",
    "temp[5]['label'].split('_')[1]"
   ]
  },
  {
   "cell_type": "code",
   "execution_count": null,
   "metadata": {},
   "outputs": [],
   "source": [
    "#we can see the dict of predicted labels and confidence are added to the strat_test_dataset\n",
    "\n",
    "ds_with_embeddings[:6]"
   ]
  },
  {
   "cell_type": "code",
   "execution_count": null,
   "metadata": {},
   "outputs": [],
   "source": []
  },
  {
   "cell_type": "code",
   "execution_count": null,
   "metadata": {},
   "outputs": [],
   "source": []
  },
  {
   "cell_type": "code",
   "execution_count": null,
   "metadata": {},
   "outputs": [],
   "source": []
  }
 ],
 "metadata": {
  "kernelspec": {
   "display_name": "dnabert",
   "language": "python",
   "name": "dnabert"
  },
  "language_info": {
   "codemirror_mode": {
    "name": "ipython",
    "version": 3
   },
   "file_extension": ".py",
   "mimetype": "text/x-python",
   "name": "python",
   "nbconvert_exporter": "python",
   "pygments_lexer": "ipython3",
   "version": "3.6.13"
  }
 },
 "nbformat": 4,
 "nbformat_minor": 4
}
