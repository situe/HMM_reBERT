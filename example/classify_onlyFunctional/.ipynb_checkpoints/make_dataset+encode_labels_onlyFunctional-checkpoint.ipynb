{
 "cells": [
  {
   "cell_type": "code",
   "execution_count": 2,
   "metadata": {},
   "outputs": [],
   "source": [
    "from Bio import SeqIO #parse fasta files\n",
    "import os #change directories\n",
    "import time #track processing time\n",
    "import pandas as pd #create dataframes\n",
    "from datasets import load_dataset #load dataframe into huggingface dataset\n",
    "from sklearn import preprocessing #encode labels"
   ]
  },
  {
   "cell_type": "code",
   "execution_count": null,
   "metadata": {},
   "outputs": [],
   "source": [
    "#run through each domain folder and select .fasta files to parse through and append to .csv\n",
    "\n",
    "domain = \"type_ii_polyketide\"\n",
    "save2csv_path = \"/mnt/storage/grid/home/eric/hmm2bert/data_prep/\"\n",
    "\n",
    "\n",
    "for root, dirs, files in os.walk(f\"/mnt/storage/grid/home/eric/PuffinCaller/PuffinCaller/dat/fasta/{domain}\"):\n",
    "    counter = 0\n",
    "    seq_ID = []\n",
    "    seq_Record = []\n",
    "    label_ID = []\n",
    "    \n",
    "    for x in files:\n",
    "        if x.endswith(\".fasta\"):\n",
    "            counter += 1\n",
    "            print(\"\")\n",
    "            print(\"\")\n",
    "            print(\"\")\n",
    "            print(\"fasta file: \" + str(counter))\n",
    "            print(f\"filename: {x}\")\n",
    "            \n",
    "            df_records = pd.DataFrame(columns=['sequence_ID', 'sequences', 'labels'])\n",
    "            \n",
    "            for seq_record in SeqIO.parse(f\"/mnt/storage/grid/home/eric/PuffinCaller/PuffinCaller/dat/fasta/{domain}/{x}\", \"fasta\"):\n",
    "                seq_ID.append(seq_record.id)\n",
    "                str_seq = str(seq_record.seq)\n",
    "                seq_Record.append(\" \".join(str_seq))\n",
    "                label_ID.append(domain)\n",
    "            \n",
    "    DF_dict = {'sequence_ID': seq_ID, 'sequences': seq_Record, 'labels': label_ID}\n",
    "    print(\"Dict length: \" + str(len(DF_dict['sequences'])))\n",
    "\n",
    "    df_records = pd.DataFrame(DF_dict)\n",
    "    df_records = df_records.set_index(\"sequence_ID\")\n",
    "\n",
    "    print(df_records.iloc[0, :])\n",
    "    print(\"\")\n",
    "    print(df_records.iloc[-1, :])\n",
    "            \n",
    "    df_records.to_csv(save2csv_path, mode=\"a\", header=False)\n",
    "            "
   ]
  },
  {
   "cell_type": "code",
   "execution_count": null,
   "metadata": {},
   "outputs": [],
   "source": [
    "#Functional and nonfunctional cell\n",
    "\n",
    "domain = \"ketosynthase\"\n",
    "domain_name = \"ketosynthase_nonfunctional\"\n",
    "function = \"inactive\"\n",
    "\n",
    "for root, dirs, files in os.walk(f\"/mnt/storage/grid/home/eric/PuffinCaller/PuffinCaller/dat/functional/{domain}/{function}\"):\n",
    "    counter = 0\n",
    "    seq_ID = []\n",
    "    seq_Record = []\n",
    "    label_ID = []\n",
    "    \n",
    "    for x in files:\n",
    "        if x.endswith(\".fasta\"):\n",
    "            counter += 1\n",
    "            print(\"\")\n",
    "            print(\"\")\n",
    "            print(\"\")\n",
    "            print(\"fasta file: \" + str(counter))\n",
    "            print(f\"filename: {x}\")\n",
    "            \n",
    "            df_records = pd.DataFrame(columns=['sequence_ID', 'sequences', 'labels'])\n",
    "            \n",
    "            for seq_record in SeqIO.parse(f\"/mnt/storage/grid/home/eric/PuffinCaller/PuffinCaller/dat/functional/{domain}/{function}/{x}\", \"fasta\"):\n",
    "                seq_ID.append(seq_record.id)\n",
    "                str_seq = str(seq_record.seq)\n",
    "                seq_Record.append(\" \".join(str_seq))\n",
    "                label_ID.append(domain_name)\n",
    "            \n",
    "    DF_dict = {'sequence_ID': seq_ID, 'sequences': seq_Record, 'labels': label_ID}\n",
    "    print(\"Dict length: \" + str(len(DF_dict['sequences'])))\n",
    "    df_records = pd.DataFrame(DF_dict)\n",
    "    df_records = df_records.set_index(\"sequence_ID\")\n",
    "\n",
    "    print(df_records.iloc[0, :])\n",
    "    print(\"\")\n",
    "    print(df_records.iloc[-1, :])\n",
    "    \n",
    "    df_records.to_csv(\"/mnt/storage/grid/home/eric/hmm2bert/data_prep/onlyFunctional_dataset.csv\", mode=\"a\", header=False) #\n",
    "            "
   ]
  },
  {
   "cell_type": "markdown",
   "metadata": {},
   "source": [
    "# encode labels and resave to csv"
   ]
  },
  {
   "cell_type": "code",
   "execution_count": 3,
   "metadata": {},
   "outputs": [],
   "source": [
    "df = pd.read_csv(\"/mnt/storage/grid/home/eric/hmm2bert/data_prep/onlyFunctional_dataset.csv\")"
   ]
  },
  {
   "cell_type": "code",
   "execution_count": 5,
   "metadata": {},
   "outputs": [
    {
     "data": {
      "text/plain": [
       "LabelEncoder()"
      ]
     },
     "execution_count": 5,
     "metadata": {},
     "output_type": "execute_result"
    }
   ],
   "source": [
    "le = preprocessing.LabelEncoder()\n",
    "le.fit(df['labels'])"
   ]
  },
  {
   "cell_type": "code",
   "execution_count": 6,
   "metadata": {},
   "outputs": [
    {
     "name": "stdout",
     "output_type": "stream",
     "text": [
      "['dehydratase_functional', 'dehydratase_nonfunctional', 'enoylreductase_functional', 'enoylreductase_nonfunctional', 'ketoreductase_functional', 'ketoreductase_nonfunctional', 'ketosynthase_functional', 'ketosynthase_nonfunctional']\n"
     ]
    }
   ],
   "source": [
    "print(list(le.classes_))"
   ]
  },
  {
   "cell_type": "code",
   "execution_count": 7,
   "metadata": {},
   "outputs": [],
   "source": [
    "new_labels = le.transform(df['labels'])"
   ]
  },
  {
   "cell_type": "code",
   "execution_count": 8,
   "metadata": {},
   "outputs": [],
   "source": [
    "new_labels_dict = {\"sequence_ID\": df['sequence_ID'], \"sequences\": df['sequences'], \"labels\": new_labels}\n",
    "\n",
    "labelled_df = pd.DataFrame(new_labels_dict)\n",
    "\n",
    "labelled_df = labelled_df.set_index(\"sequence_ID\")\n",
    "labelled_df.to_csv(\"/mnt/storage/grid/home/eric/hmm2bert/data_prep/onlyFunctional_encoded_labels_dataset.csv\")"
   ]
  },
  {
   "cell_type": "markdown",
   "metadata": {},
   "source": [
    "# ==========Number of rows of each label in test dataset=============="
   ]
  },
  {
   "cell_type": "code",
   "execution_count": 83,
   "metadata": {},
   "outputs": [
    {
     "name": "stdout",
     "output_type": "stream",
     "text": [
      "25.0\n"
     ]
    }
   ],
   "source": [
    "counter = df[df['labels'] == \"acyl_homoserine_lactone\"]\n",
    "print(len(counter) / 4)"
   ]
  },
  {
   "cell_type": "code",
   "execution_count": 85,
   "metadata": {},
   "outputs": [
    {
     "name": "stdout",
     "output_type": "stream",
     "text": [
      "475.0\n"
     ]
    }
   ],
   "source": [
    "counter = df[df['labels'] == \"aminocoumarin\"]\n",
    "print(len(counter) / 4)"
   ]
  },
  {
   "cell_type": "code",
   "execution_count": 86,
   "metadata": {},
   "outputs": [
    {
     "name": "stdout",
     "output_type": "stream",
     "text": [
      "1750.0\n"
     ]
    }
   ],
   "source": [
    "counter = df[df['labels'] == \"aminoglycoside\"]\n",
    "print(len(counter) / 4)"
   ]
  },
  {
   "cell_type": "code",
   "execution_count": 87,
   "metadata": {},
   "outputs": [
    {
     "name": "stdout",
     "output_type": "stream",
     "text": [
      "725.0\n"
     ]
    }
   ],
   "source": [
    "counter = df[df['labels'] == \"antimetabolite\"]\n",
    "print(len(counter) / 4)"
   ]
  },
  {
   "cell_type": "code",
   "execution_count": 88,
   "metadata": {},
   "outputs": [
    {
     "name": "stdout",
     "output_type": "stream",
     "text": [
      "25.0\n"
     ]
    }
   ],
   "source": [
    "counter = df[df['labels'] == \"aryl_polyene\"]\n",
    "print(len(counter) / 4)"
   ]
  },
  {
   "cell_type": "code",
   "execution_count": 89,
   "metadata": {},
   "outputs": [
    {
     "name": "stdout",
     "output_type": "stream",
     "text": [
      "3075.0\n"
     ]
    }
   ],
   "source": [
    "counter = df[df['labels'] == \"bacteriocin\"]\n",
    "print(len(counter) / 4)"
   ]
  },
  {
   "cell_type": "code",
   "execution_count": 90,
   "metadata": {},
   "outputs": [
    {
     "name": "stdout",
     "output_type": "stream",
     "text": [
      "1125.0\n"
     ]
    }
   ],
   "source": [
    "counter = df[df['labels'] == \"beta_lactam\"]\n",
    "print(len(counter) / 4)"
   ]
  },
  {
   "cell_type": "code",
   "execution_count": 91,
   "metadata": {},
   "outputs": [
    {
     "name": "stdout",
     "output_type": "stream",
     "text": [
      "675.0\n"
     ]
    }
   ],
   "source": [
    "counter = df[df['labels'] == \"bisindole\"]\n",
    "print(len(counter) / 4)"
   ]
  },
  {
   "cell_type": "code",
   "execution_count": 92,
   "metadata": {},
   "outputs": [
    {
     "name": "stdout",
     "output_type": "stream",
     "text": [
      "25.0\n"
     ]
    }
   ],
   "source": [
    "counter = df[df['labels'] == \"butyrolactone\"]\n",
    "print(len(counter) / 4)"
   ]
  },
  {
   "cell_type": "code",
   "execution_count": 93,
   "metadata": {},
   "outputs": [
    {
     "name": "stdout",
     "output_type": "stream",
     "text": [
      "200.0\n"
     ]
    }
   ],
   "source": [
    "counter = df[df['labels'] == \"cyclodipeptide\"]\n",
    "print(len(counter) / 4)"
   ]
  },
  {
   "cell_type": "code",
   "execution_count": 94,
   "metadata": {},
   "outputs": [
    {
     "name": "stdout",
     "output_type": "stream",
     "text": [
      "25.0\n"
     ]
    }
   ],
   "source": [
    "counter = df[df['labels'] == \"ectoine\"]\n",
    "print(len(counter) / 4)"
   ]
  },
  {
   "cell_type": "code",
   "execution_count": 95,
   "metadata": {},
   "outputs": [
    {
     "name": "stdout",
     "output_type": "stream",
     "text": [
      "25.0\n"
     ]
    }
   ],
   "source": [
    "counter = df[df['labels'] == \"furan\"]\n",
    "print(len(counter) / 4)"
   ]
  },
  {
   "cell_type": "code",
   "execution_count": 96,
   "metadata": {},
   "outputs": [
    {
     "name": "stdout",
     "output_type": "stream",
     "text": [
      "300.0\n"
     ]
    }
   ],
   "source": [
    "counter = df[df['labels'] == \"isonitrile\"]\n",
    "print(len(counter) / 4)"
   ]
  },
  {
   "cell_type": "code",
   "execution_count": 97,
   "metadata": {},
   "outputs": [
    {
     "name": "stdout",
     "output_type": "stream",
     "text": [
      "50.0\n"
     ]
    }
   ],
   "source": [
    "counter = df[df['labels'] == \"ladderane\"]\n",
    "print(len(counter) / 4)"
   ]
  },
  {
   "cell_type": "code",
   "execution_count": 98,
   "metadata": {},
   "outputs": [
    {
     "name": "stdout",
     "output_type": "stream",
     "text": [
      "875.0\n"
     ]
    }
   ],
   "source": [
    "counter = df[df['labels'] == \"lincosamide\"]\n",
    "print(len(counter) / 4)"
   ]
  },
  {
   "cell_type": "code",
   "execution_count": 99,
   "metadata": {},
   "outputs": [
    {
     "name": "stdout",
     "output_type": "stream",
     "text": [
      "50.0\n"
     ]
    }
   ],
   "source": [
    "counter = df[df['labels'] == \"melanin\"]\n",
    "print(len(counter) / 4)"
   ]
  },
  {
   "cell_type": "code",
   "execution_count": 100,
   "metadata": {},
   "outputs": [
    {
     "name": "stdout",
     "output_type": "stream",
     "text": [
      "75.0\n"
     ]
    }
   ],
   "source": [
    "counter = df[df['labels'] == \"nis_synthase\"]\n",
    "print(len(counter) / 4)"
   ]
  },
  {
   "cell_type": "code",
   "execution_count": 101,
   "metadata": {},
   "outputs": [
    {
     "name": "stdout",
     "output_type": "stream",
     "text": [
      "3700.0\n"
     ]
    }
   ],
   "source": [
    "counter = df[df['labels'] == \"nucleoside\"]\n",
    "print(len(counter) / 4)"
   ]
  },
  {
   "cell_type": "code",
   "execution_count": 102,
   "metadata": {},
   "outputs": [
    {
     "name": "stdout",
     "output_type": "stream",
     "text": [
      "125.0\n"
     ]
    }
   ],
   "source": [
    "counter = df[df['labels'] == \"phenazine\"]\n",
    "print(len(counter) / 4)"
   ]
  },
  {
   "cell_type": "code",
   "execution_count": 103,
   "metadata": {},
   "outputs": [
    {
     "name": "stdout",
     "output_type": "stream",
     "text": [
      "25.0\n"
     ]
    }
   ],
   "source": [
    "counter = df[df['labels'] == \"phosphoglycolipid\"]\n",
    "print(len(counter) / 4)"
   ]
  },
  {
   "cell_type": "code",
   "execution_count": 104,
   "metadata": {},
   "outputs": [
    {
     "name": "stdout",
     "output_type": "stream",
     "text": [
      "1750.0\n"
     ]
    }
   ],
   "source": [
    "counter = df[df['labels'] == \"phosphonate\"]\n",
    "print(len(counter) / 4)"
   ]
  },
  {
   "cell_type": "code",
   "execution_count": 105,
   "metadata": {},
   "outputs": [
    {
     "name": "stdout",
     "output_type": "stream",
     "text": [
      "650.0\n"
     ]
    }
   ],
   "source": [
    "counter = df[df['labels'] == \"prerequisite\"]\n",
    "print(len(counter) / 4)"
   ]
  },
  {
   "cell_type": "code",
   "execution_count": 106,
   "metadata": {},
   "outputs": [
    {
     "name": "stdout",
     "output_type": "stream",
     "text": [
      "3250.0\n"
     ]
    }
   ],
   "source": [
    "counter = df[df['labels'] == \"primary_metabolite\"]\n",
    "print(len(counter) / 4)"
   ]
  },
  {
   "cell_type": "code",
   "execution_count": 107,
   "metadata": {},
   "outputs": [
    {
     "name": "stdout",
     "output_type": "stream",
     "text": [
      "9625.0\n"
     ]
    }
   ],
   "source": [
    "counter = df[df['labels'] == \"regulator\"]\n",
    "print(len(counter) / 4)"
   ]
  },
  {
   "cell_type": "code",
   "execution_count": 108,
   "metadata": {},
   "outputs": [
    {
     "name": "stdout",
     "output_type": "stream",
     "text": [
      "8275.0\n"
     ]
    }
   ],
   "source": [
    "counter = df[df['labels'] == \"resistance\"]\n",
    "print(len(counter) / 4)"
   ]
  },
  {
   "cell_type": "code",
   "execution_count": 109,
   "metadata": {},
   "outputs": [
    {
     "name": "stdout",
     "output_type": "stream",
     "text": [
      "25.0\n"
     ]
    }
   ],
   "source": [
    "counter = df[df['labels'] == \"resorcinol\"]\n",
    "print(len(counter) / 4)"
   ]
  },
  {
   "cell_type": "code",
   "execution_count": 110,
   "metadata": {},
   "outputs": [
    {
     "name": "stdout",
     "output_type": "stream",
     "text": [
      "4175.0\n"
     ]
    }
   ],
   "source": [
    "counter = df[df['labels'] == \"ribosomal\"]\n",
    "print(len(counter) / 4)"
   ]
  },
  {
   "cell_type": "code",
   "execution_count": 111,
   "metadata": {},
   "outputs": [
    {
     "name": "stdout",
     "output_type": "stream",
     "text": [
      "50.0\n"
     ]
    }
   ],
   "source": [
    "counter = df[df['labels'] == \"stilbene\"]\n",
    "print(len(counter) / 4)"
   ]
  },
  {
   "cell_type": "code",
   "execution_count": 112,
   "metadata": {},
   "outputs": [
    {
     "name": "stdout",
     "output_type": "stream",
     "text": [
      "525.0\n"
     ]
    }
   ],
   "source": [
    "counter = df[df['labels'] == \"sugar\"]\n",
    "print(len(counter) / 4)"
   ]
  },
  {
   "cell_type": "code",
   "execution_count": 113,
   "metadata": {},
   "outputs": [
    {
     "name": "stdout",
     "output_type": "stream",
     "text": [
      "2675.0\n"
     ]
    }
   ],
   "source": [
    "counter = df[df['labels'] == \"tailoring\"]\n",
    "print(len(counter) / 4)"
   ]
  },
  {
   "cell_type": "code",
   "execution_count": 114,
   "metadata": {},
   "outputs": [
    {
     "name": "stdout",
     "output_type": "stream",
     "text": [
      "875.0\n"
     ]
    }
   ],
   "source": [
    "counter = df[df['labels'] == \"terpene\"]\n",
    "print(len(counter) / 4)"
   ]
  },
  {
   "cell_type": "code",
   "execution_count": 115,
   "metadata": {},
   "outputs": [
    {
     "name": "stdout",
     "output_type": "stream",
     "text": [
      "675.0\n"
     ]
    }
   ],
   "source": [
    "counter = df[df['labels'] == \"thiotemplated\"]\n",
    "print(len(counter) / 4)"
   ]
  },
  {
   "cell_type": "code",
   "execution_count": 116,
   "metadata": {},
   "outputs": [
    {
     "name": "stdout",
     "output_type": "stream",
     "text": [
      "850.0\n"
     ]
    }
   ],
   "source": [
    "counter = df[df['labels'] == \"type_ii_polyketide\"]\n",
    "print(len(counter) / 4)"
   ]
  }
 ],
 "metadata": {
  "kernelspec": {
   "display_name": "dnabert",
   "language": "python",
   "name": "dnabert"
  },
  "language_info": {
   "codemirror_mode": {
    "name": "ipython",
    "version": 3
   },
   "file_extension": ".py",
   "mimetype": "text/x-python",
   "name": "python",
   "nbconvert_exporter": "python",
   "pygments_lexer": "ipython3",
   "version": "3.6.13"
  }
 },
 "nbformat": 4,
 "nbformat_minor": 4
}
