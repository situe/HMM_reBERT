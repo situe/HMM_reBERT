{
 "cells": [
  {
   "cell_type": "markdown",
   "metadata": {},
   "source": [
    "# loads the model into a single gpu from a ddp saved checkpoint and resaves it to a single gpu model.pt"
   ]
  },
  {
   "cell_type": "code",
   "execution_count": 1,
   "metadata": {},
   "outputs": [
    {
     "name": "stderr",
     "output_type": "stream",
     "text": [
      "Some weights of the model checkpoint at Rostlab/prot_bert were not used when initializing BertForSequenceClassification: ['cls.predictions.bias', 'cls.predictions.transform.dense.weight', 'cls.predictions.transform.dense.bias', 'cls.predictions.transform.LayerNorm.weight', 'cls.predictions.transform.LayerNorm.bias', 'cls.predictions.decoder.weight', 'cls.predictions.decoder.bias', 'cls.seq_relationship.weight', 'cls.seq_relationship.bias']\n",
      "- This IS expected if you are initializing BertForSequenceClassification from the checkpoint of a model trained on another task or with another architecture (e.g. initializing a BertForSequenceClassification model from a BertForPreTraining model).\n",
      "- This IS NOT expected if you are initializing BertForSequenceClassification from the checkpoint of a model that you expect to be exactly identical (initializing a BertForSequenceClassification model from a BertForSequenceClassification model).\n",
      "Some weights of BertForSequenceClassification were not initialized from the model checkpoint at Rostlab/prot_bert and are newly initialized: ['classifier.weight', 'classifier.bias']\n",
      "You should probably TRAIN this model on a down-stream task to be able to use it for predictions and inference.\n",
      "GPU available: True, used: True\n",
      "TPU available: False, using: 0 TPU cores\n",
      "LOCAL_RANK: 0 - CUDA_VISIBLE_DEVICES: [0,1,2,3,4,5,6,7]\n",
      "\n",
      "  | Name | Type                          | Params\n",
      "-------------------------------------------------------\n",
      "0 | bert | BertForSequenceClassification | 419 M \n",
      "-------------------------------------------------------\n",
      "419 M     Trainable params\n",
      "0         Non-trainable params\n",
      "419 M     Total params\n",
      "1,679.757 Total estimated model params size (MB)\n",
      "Restored states from the checkpoint file at /mnt/storage/grid/home/eric/hmm2bert/models/classify_onlyFunctional_domain_best.ckpt\n"
     ]
    },
    {
     "data": {
      "application/vnd.jupyter.widget-view+json": {
       "model_id": "",
       "version_major": 2,
       "version_minor": 0
      },
      "text/plain": [
       "HBox(children=(FloatProgress(value=1.0, bar_style='info', description='Validation sanity check', layout=Layout…"
      ]
     },
     "metadata": {},
     "output_type": "display_data"
    },
    {
     "data": {
      "application/vnd.jupyter.widget-view+json": {
       "model_id": "53160183a1dd436c9bf6d0d7d19e07da",
       "version_major": 2,
       "version_minor": 0
      },
      "text/plain": [
       "HBox(children=(FloatProgress(value=1.0, bar_style='info', description='Training', layout=Layout(flex='2'), max…"
      ]
     },
     "metadata": {},
     "output_type": "display_data"
    },
    {
     "name": "stdout",
     "output_type": "stream",
     "text": [
      "\n"
     ]
    }
   ],
   "source": [
    "from bioformers.utilize.Bert import BertSeqClassification\n",
    "from torch.utils.data import DataLoader\n",
    "from transformers import DataCollatorWithPadding\n",
    "from pytorch_lightning import Trainer\n",
    "from pytorch_lightning.loggers import WandbLogger\n",
    "import os\n",
    "import warnings\n",
    "\n",
    "from transformers import BertModel, BertTokenizer\n",
    "import torch\n",
    "\n",
    "os.environ[\"CUDA_DEVICE_ORDER\"] = \"PCI_BUS_ID\"\n",
    "os.environ[\"MKL_THREADING_LAYER\"] = \"GNU\"\n",
    "os.environ[\"TOKENIZERS_PARALLELISM\"] = \"true\"\n",
    "\n",
    "\n",
    "batch_size = 4\n",
    "num_cpu = 16\n",
    "max_length = 512\n",
    "lr = '1e-9.038'\n",
    "max_epoch = 11\n",
    "num_labels = 8\n",
    "gpu_num = \"2\"\n",
    "\n",
    "ckpt_resume_path = \"/mnt/storage/grid/home/eric/hmm2bert/models/classify_onlyFunctional_domain_best.ckpt\"\n",
    "saved_model_name = \"classify_onlyFunctional_domain_saved_model_maxepch11_1gpu.pt\"\n",
    "\n",
    "encoded_train_ds = \"/mnt/storage/grid/home/eric/hmm2bert/data_prep/onlyFunctional_strat_train.pt\"\n",
    "encoded_test_ds = \"/mnt/storage/grid/home/eric/hmm2bert/data_prep/onlyFunctional_strat_val.pt\"\n",
    "\n",
    "\n",
    "#load tokenizer and wandb logger\n",
    "\n",
    "tokenizer = BertTokenizer.from_pretrained(\"Rostlab/prot_bert\", do_lower_case=False)\n",
    "\n",
    "#load train and test tensors and instantiate pytorch lightning wrapper for the huggingface model with the base pretrained protbert model\n",
    "\n",
    "encoded_train = torch.load(encoded_train_ds)\n",
    "encoded_test = torch.load(encoded_test_ds)\n",
    "bsc = BertSeqClassification(pretrained_dir=\"Rostlab/prot_bert\", use_adafactor=True, num_labels=num_labels)\n",
    "\n",
    "#setup data collator, trainer, and dataloader for train and val dataset\n",
    "\n",
    "data_collator = DataCollatorWithPadding(tokenizer=tokenizer)\n",
    "trainer = Trainer(\n",
    "    resume_from_checkpoint=ckpt_resume_path,\n",
    "    max_epochs=max_epoch,\n",
    "    gpus=gpu_num,\n",
    "    auto_lr_find=False\n",
    ")\n",
    "warnings.filterwarnings(\"ignore\")\n",
    "\n",
    "train_dl = DataLoader(encoded_train, batch_size=batch_size, num_workers=num_cpu, collate_fn=data_collator, shuffle=True)\n",
    "eval_dl = DataLoader(encoded_test, batch_size=batch_size, num_workers=num_cpu, collate_fn=data_collator, shuffle=False)\n",
    "\n",
    "#train and save classifier as checkpoint\n",
    "\n",
    "trainer.fit(bsc, train_dataloader=train_dl, val_dataloaders=eval_dl)\n",
    "\n",
    "torch.save(bsc, f\"/mnt/storage/grid/home/eric/hmm2bert/models/{saved_model_name}\")"
   ]
  },
  {
   "cell_type": "code",
   "execution_count": null,
   "metadata": {},
   "outputs": [],
   "source": []
  }
 ],
 "metadata": {
  "kernelspec": {
   "display_name": "dnabert",
   "language": "python",
   "name": "dnabert"
  },
  "language_info": {
   "codemirror_mode": {
    "name": "ipython",
    "version": 3
   },
   "file_extension": ".py",
   "mimetype": "text/x-python",
   "name": "python",
   "nbconvert_exporter": "python",
   "pygments_lexer": "ipython3",
   "version": "3.6.13"
  }
 },
 "nbformat": 4,
 "nbformat_minor": 4
}
